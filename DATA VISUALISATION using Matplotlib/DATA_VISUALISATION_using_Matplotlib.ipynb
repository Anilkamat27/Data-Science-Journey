{
  "nbformat": 4,
  "nbformat_minor": 0,
  "metadata": {
    "colab": {
      "name": "DATA VISUALISATION using Matplotlib.ipynb",
      "provenance": []
    },
    "kernelspec": {
      "name": "python3",
      "display_name": "Python 3"
    },
    "language_info": {
      "name": "python"
    }
  },
  "cells": [
    {
      "cell_type": "markdown",
      "metadata": {
        "id": "BcsIxNU3kzAR"
      },
      "source": [
        "#**Data Visualisation**\n",
        "##Install *Matplotlib*"
      ]
    },
    {
      "cell_type": "markdown",
      "metadata": {
        "id": "vGDU1oKrlVWF"
      },
      "source": [
        "First again check **Data Science Pipeline** for clear understanding\n",
        "\n",
        "- Understand the problem statement\n",
        "- Acquire Data & Cleaning\n",
        "- **Data visualisation / Exploratory Analysis**\n",
        "- Machine Learning Modelling\n",
        "- Share Result / Interesting **Visualisation about Finding**"
      ]
    },
    {
      "cell_type": "code",
      "metadata": {
        "id": "9Apj4rt5I00L"
      },
      "source": [
        "import matplotlib.pyplot as plt"
      ],
      "execution_count": 37,
      "outputs": []
    },
    {
      "cell_type": "code",
      "metadata": {
        "id": "R57-7T3WnFvE"
      },
      "source": [
        "import numpy as np"
      ],
      "execution_count": 38,
      "outputs": []
    },
    {
      "cell_type": "code",
      "metadata": {
        "colab": {
          "base_uri": "https://localhost:8080/"
        },
        "id": "exlIj-dxW0ES",
        "outputId": "f2f61cd1-b412-4104-fa9a-b260d49e71d6"
      },
      "source": [
        "themes = plt.style.available\n",
        "print(themes)"
      ],
      "execution_count": 39,
      "outputs": [
        {
          "output_type": "stream",
          "text": [
            "['Solarize_Light2', '_classic_test_patch', 'bmh', 'classic', 'dark_background', 'fast', 'fivethirtyeight', 'ggplot', 'grayscale', 'seaborn', 'seaborn-bright', 'seaborn-colorblind', 'seaborn-dark', 'seaborn-dark-palette', 'seaborn-darkgrid', 'seaborn-deep', 'seaborn-muted', 'seaborn-notebook', 'seaborn-paper', 'seaborn-pastel', 'seaborn-poster', 'seaborn-talk', 'seaborn-ticks', 'seaborn-white', 'seaborn-whitegrid', 'tableau-colorblind10']\n"
          ],
          "name": "stdout"
        }
      ]
    },
    {
      "cell_type": "code",
      "metadata": {
        "id": "Fi5M7pLLXHJp"
      },
      "source": [
        "plt.style.use(\"seaborn\")"
      ],
      "execution_count": 40,
      "outputs": []
    },
    {
      "cell_type": "code",
      "metadata": {
        "id": "RqMDIZ8IXZfK"
      },
      "source": [
        ""
      ],
      "execution_count": 40,
      "outputs": []
    },
    {
      "cell_type": "markdown",
      "metadata": {
        "id": "llxuiv3wWy4d"
      },
      "source": [
        ""
      ]
    },
    {
      "cell_type": "code",
      "metadata": {
        "id": "UW8IVfkanTDj",
        "colab": {
          "base_uri": "https://localhost:8080/"
        },
        "outputId": "28323d8c-eabc-4e77-e6cd-e77aacff5ef1"
      },
      "source": [
        "#Line plot\n",
        "x = np.arange(10)\n",
        "y1 = x**2\n",
        "y2 = 2*x +3\n",
        "print(x)\n",
        "print(y1)\n",
        "print(y2)"
      ],
      "execution_count": 41,
      "outputs": [
        {
          "output_type": "stream",
          "text": [
            "[0 1 2 3 4 5 6 7 8 9]\n",
            "[ 0  1  4  9 16 25 36 49 64 81]\n",
            "[ 3  5  7  9 11 13 15 17 19 21]\n"
          ],
          "name": "stdout"
        }
      ]
    },
    {
      "cell_type": "code",
      "metadata": {
        "colab": {
          "base_uri": "https://localhost:8080/",
          "height": 376
        },
        "id": "qbqqDGu_WN47",
        "outputId": "53ce4c26-e352-4644-f6ef-f946f64bfe76"
      },
      "source": [
        "#(kya jayega x axis pe , kya jayega y axis pe)\n",
        "plt.plot(x,y1, color='green',label=\"green line\",marker='o')\n",
        "plt.plot(x,y2,color='red',label=\"red line\",linestyle=\"dashed\")\n",
        "#Descripter for x& y axis \n",
        "plt.xlabel(\"X-AXIS\")\n",
        "plt.ylabel(\"Y-AXIS\")\n",
        "plt.title(\"# MY FIRST GRAPH #\")\n",
        "plt.legend()#small descripter which show which line represent what \n",
        "plt.show()\n",
        "# agar plt.show() line nahi likhe to graph plot nahi hoga , plot show likhne ka yeh matlab yeh hota hai\n",
        "#ki aapne ek graph khatam kar diya "
      ],
      "execution_count": 42,
      "outputs": [
        {
          "output_type": "display_data",
          "data": {
            "image/png": "[encoded data removed]",
            "text/plain": [
              "<Figure size 576x396 with 1 Axes>"
            ]
          },
          "metadata": {}
        }
      ]
    },
    {
      "cell_type": "code",
      "metadata": {
        "id": "f1KfDLsNWhPp"
      },
      "source": [
        "#lets see what parameters we can plot\n",
        "# plt.plot?"
      ],
      "execution_count": 43,
      "outputs": []
    },
    {
      "cell_type": "code",
      "metadata": {
        "colab": {
          "base_uri": "https://localhost:8080/",
          "height": 364
        },
        "id": "IporROXmbbeQ",
        "outputId": "6baf6879-5581-4c10-810d-57eb0b72dfc1"
      },
      "source": [
        "#we can plot any function using plot fuction\n",
        "prices = np.array([1,2,3,4])**2\n",
        "print(prices)\n",
        "plt.plot(prices)\n",
        "#jab tum sirf 1 array pass karte ho to uski values ko y axis pe plot karte hai aur un values ke indices ko x axis pe plot karte \n",
        "#hai \n",
        "plt.show()"
      ],
      "execution_count": 44,
      "outputs": [
        {
          "output_type": "stream",
          "text": [
            "[ 1  4  9 16]\n"
          ],
          "name": "stdout"
        },
        {
          "output_type": "display_data",
          "data": {
            "image/png": "[encoded data removed]",
            "text/plain": [
              "<Figure size 576x396 with 1 Axes>"
            ]
          },
          "metadata": {}
        }
      ]
    },
    {
      "cell_type": "markdown",
      "metadata": {
        "id": "yQferVTHd-xn"
      },
      "source": [
        "Scatter Plots"
      ]
    },
    {
      "cell_type": "code",
      "metadata": {
        "colab": {
          "base_uri": "https://localhost:8080/",
          "height": 349
        },
        "id": "Atbj6Ohdcryu",
        "outputId": "abf0b85a-9c40-48be-fb10-3638360097fc"
      },
      "source": [
        "#HOW WE adjust the size of block\n",
        "\n",
        "plt.figure(figsize=(4,5))\n",
        "\n",
        "plt.scatter(x,y1, color='green',label=\"green line\",marker='o')\n",
        "plt.scatter(x,y2,color='red',label=\"red line\",linestyle=\"dashed\", marker=\"^\")\n",
        "#Descripter for x& y axis \n",
        "plt.xlabel(\"X-AXIS\")\n",
        "plt.ylabel(\"Y-AXIS\")\n",
        "plt.title(\"# MY FIRST GRAPH #\")\n",
        "plt.legend()#small descripter which show which line represent what \n",
        "plt.show()"
      ],
      "execution_count": 45,
      "outputs": [
        {
          "output_type": "display_data",
          "data": {
            "image/png": "[encoded data removed]",
            "text/plain": [
              "<Figure size 288x360 with 1 Axes>"
            ]
          },
          "metadata": {}
        }
      ]
    },
    {
      "cell_type": "markdown",
      "metadata": {
        "id": "60DgsxVdlebC"
      },
      "source": [
        "BAR GRAPH"
      ]
    },
    {
      "cell_type": "code",
      "metadata": {
        "id": "x3kk5K2KeIQr"
      },
      "source": [
        "# plt.bar?"
      ],
      "execution_count": 46,
      "outputs": []
    },
    {
      "cell_type": "code",
      "metadata": {
        "colab": {
          "base_uri": "https://localhost:8080/",
          "height": 376
        },
        "id": "wK_hry_0llMt",
        "outputId": "86fe8ad8-2109-42f5-b92d-db7d7052658f"
      },
      "source": [
        "xCoordinate = np.array([0,1,2])*2\n",
        "plt.bar(xCoordinate-0.25,[20,30,40],width=0.5,label=\"current data\",tick_label=[\"first\",\"second\",\"third\"])#current data \n",
        "plt.bar(xCoordinate+0.25,[10,20,30],width=0.5,label=\"previous data\")#previous data\n",
        "plt.xlabel(\"X-AXIS\")\n",
        "plt.ylabel(\"Y-AXIS\")\n",
        "plt.title(\"# MY FIRST BAR GRAPH #\")\n",
        "plt.legend() \n",
        "plt.show()"
      ],
      "execution_count": 47,
      "outputs": [
        {
          "output_type": "display_data",
          "data": {
            "image/png": "[encoded data removed]",
            "text/plain": [
              "<Figure size 576x396 with 1 Axes>"
            ]
          },
          "metadata": {}
        }
      ]
    },
    {
      "cell_type": "code",
      "metadata": {
        "colab": {
          "base_uri": "https://localhost:8080/",
          "height": 376
        },
        "id": "kQxLFjJ3l4VM",
        "outputId": "6317aab8-eb0f-4db3-e023-170c9891a1b5"
      },
      "source": [
        "# let i want this graph in dark background \n",
        "\n",
        "plt.style.use(\"dark_background\")\n",
        "\n",
        "xCoordinate = np.array([0,1,2])*2\n",
        "plt.bar(xCoordinate-0.25,[20,30,40],width=0.5,label=\"current data\",tick_label=[\"first\",\"second\",\"third\"],color=\"blue\")#current data \n",
        "plt.bar(xCoordinate+0.25,[10,20,30],width=0.5,label=\"previous data\",color=\"cyan\")#previous data\n",
        "plt.xlabel(\"X-AXIS\")\n",
        "plt.ylabel(\"Y-AXIS\")\n",
        "plt.title(\"# MY FIRST BAR GRAPH #\")\n",
        "\n",
        "#limit any of axis \n",
        "plt.ylim(0,60)\n",
        "\n",
        "plt.legend() \n",
        "plt.show()"
      ],
      "execution_count": 48,
      "outputs": [
        {
          "output_type": "display_data",
          "data": {
            "image/png": "[encoded data removed]",
            "text/plain": [
              "<Figure size 576x396 with 1 Axes>"
            ]
          },
          "metadata": {}
        }
      ]
    },
    {
      "cell_type": "markdown",
      "metadata": {
        "id": "XNVtxIpB498U"
      },
      "source": [
        "PIE CHART"
      ]
    },
    {
      "cell_type": "code",
      "metadata": {
        "id": "OKIm93F5ovbw"
      },
      "source": [
        "# plt.pie?"
      ],
      "execution_count": 49,
      "outputs": []
    },
    {
      "cell_type": "code",
      "metadata": {
        "colab": {
          "base_uri": "https://localhost:8080/",
          "height": 345
        },
        "id": "04JRaxRk5P_Z",
        "outputId": "6e0727d8-fd3d-435b-9779-d23bf61ca782"
      },
      "source": [
        " plt.style.use(\"seaborn\")\n",
        "\n",
        "subjects = \"Maths\",\"science\",\"English\",\"Hindi\" \n",
        "weightage = [20,10,15,10]\n",
        "\n",
        "plt.title(\"MY FIRST PIE CHART\")\n",
        "\n",
        "plt.pie(weightage,labels=subjects,explode=(0,0,0,0.5),autopct='%1.1f%%',shadow=True)\n",
        "plt.show()"
      ],
      "execution_count": 50,
      "outputs": [
        {
          "output_type": "display_data",
          "data": {
            "image/png": "[encoded data removed]",
            "text/plain": [
              "<Figure size 576x396 with 1 Axes>"
            ]
          },
          "metadata": {}
        }
      ]
    },
    {
      "cell_type": "code",
      "metadata": {
        "id": "3hB2rfNK5-Ag"
      },
      "source": [
        "# you can also get percentage using autopct\n"
      ],
      "execution_count": 51,
      "outputs": []
    },
    {
      "cell_type": "markdown",
      "metadata": {
        "id": "JnejA2Cg-bAy"
      },
      "source": [
        "HISTOGRAM"
      ]
    },
    {
      "cell_type": "code",
      "metadata": {
        "id": "NR2RmnuK9gzy"
      },
      "source": [
        "  #Numpy give  me a function to create data points from a standard normal distribution\n",
        "  "
      ],
      "execution_count": 52,
      "outputs": []
    },
    {
      "cell_type": "code",
      "metadata": {
        "id": "Y3pdI7HNSrLT",
        "colab": {
          "base_uri": "https://localhost:8080/"
        },
        "outputId": "ebf9a101-5371-4c5a-d2dc-54edceefdfb6"
      },
      "source": [
        " xsn = np.random.randn(100)\n",
        " print(xsn)"
      ],
      "execution_count": 53,
      "outputs": [
        {
          "output_type": "stream",
          "text": [
            "[-1.05697950e+00 -1.29597696e+00  4.31504564e-01 -7.50853609e-01\n",
            "  1.24025084e+00  5.46737294e-01 -1.76748662e-01  1.16381500e-01\n",
            " -8.81644050e-01  5.90232677e-02  1.17012228e-01 -7.79262680e-01\n",
            "  1.38620688e+00  2.27346806e-01 -6.20201640e-01  1.56675067e-01\n",
            "  1.50778381e+00  1.10847079e+00 -8.33148160e-01  1.59633606e-01\n",
            " -3.17490032e-01  1.00305258e+00  1.43281396e+00 -5.45992839e-01\n",
            "  1.35367751e+00  2.44793170e-01 -1.01240062e+00  1.49640381e+00\n",
            "  9.31415230e-01 -1.04162374e+00 -1.91120300e+00 -2.39503982e-01\n",
            "  8.74575297e-01  1.31479215e-01 -4.36346429e-01  1.25705716e+00\n",
            "  2.21999601e-01 -1.41392272e+00  2.16455060e+00  1.57262408e-02\n",
            "  3.50603686e-01  8.02072324e-01 -7.43513307e-01 -3.34375214e-01\n",
            " -1.18294619e+00 -2.85365699e+00  1.01146716e-01 -3.25522847e-01\n",
            "  7.19079999e-04  2.60990862e-01 -1.29351381e+00  2.34356526e-01\n",
            "  3.03502777e+00 -8.56563241e-01  1.22214653e-01  9.53433888e-01\n",
            "  6.03192669e-01 -1.28192511e+00 -1.25236000e+00  1.99726498e-01\n",
            "  6.59036804e-01  9.78868067e-01  9.48209402e-01 -5.12764870e-01\n",
            "  1.20779021e+00 -1.33563998e+00  5.59500288e-01 -1.19560612e-01\n",
            " -1.96302298e+00  1.45397868e+00  7.20982861e-01  6.30516195e-01\n",
            "  1.12642160e+00  2.11783335e+00 -2.54430679e-02 -1.57651011e+00\n",
            " -2.03519109e+00 -5.70449654e-01  2.11777528e+00 -1.01866157e+00\n",
            "  5.74428792e-01  1.80725143e+00 -9.08484008e-01  3.41995495e-01\n",
            " -5.16120823e-01 -5.95062778e-02  1.42485358e+00  6.62312544e-02\n",
            "  1.05450653e+00 -1.73519934e+00  4.99621108e-01 -1.54714615e-01\n",
            "  3.27711103e-01 -5.38215379e-01  4.91556804e-01 -3.18477865e-02\n",
            "  5.41188322e-01  2.98380390e+00 -4.31810578e-01  5.84523581e-01]\n"
          ],
          "name": "stdout"
        }
      ]
    },
    {
      "cell_type": "code",
      "metadata": {
        "colab": {
          "base_uri": "https://localhost:8080/"
        },
        "id": "i9tGHgtAdNRR",
        "outputId": "2fd4cbd8-039a-400d-91f9-1037be72dcd0"
      },
      "source": [
        "sigma = 5 \n",
        "u=60\n",
        "X = np.round(xsn*sigma + u)\n",
        "print(X)\n",
        "X3 = np.round(xsn*10 + 40)"
      ],
      "execution_count": 54,
      "outputs": [
        {
          "output_type": "stream",
          "text": [
            "[55. 54. 62. 56. 66. 63. 59. 61. 56. 60. 61. 56. 67. 61. 57. 61. 68. 66.\n",
            " 56. 61. 58. 65. 67. 57. 67. 61. 55. 67. 65. 55. 50. 59. 64. 61. 58. 66.\n",
            " 61. 53. 71. 60. 62. 64. 56. 58. 54. 46. 61. 58. 60. 61. 54. 61. 75. 56.\n",
            " 61. 65. 63. 54. 54. 61. 63. 65. 65. 57. 66. 53. 63. 59. 50. 67. 64. 63.\n",
            " 66. 71. 60. 52. 50. 57. 71. 55. 63. 69. 55. 62. 57. 60. 67. 60. 65. 51.\n",
            " 62. 59. 62. 57. 62. 60. 63. 75. 58. 63.]\n"
          ],
          "name": "stdout"
        }
      ]
    },
    {
      "cell_type": "code",
      "metadata": {
        "colab": {
          "base_uri": "https://localhost:8080/",
          "height": 361
        },
        "id": "VlF73X3Jdgbu",
        "outputId": "e9f65de9-1c64-4ef8-f38d-efed83f17c92"
      },
      "source": [
        "#apha here is for opacity\n",
        "plt.hist(X,alpha=0.8,label=\"ML\")\n",
        "plt.hist(X3,alpha=0.9,label=\"web\")\n",
        "plt.xlabel(\"X-AXIS\")\n",
        "plt.ylabel(\"Y-AXIS\")\n",
        "plt.legend()\n",
        "plt.show()"
      ],
      "execution_count": 55,
      "outputs": [
        {
          "output_type": "display_data",
          "data": {
            "image/png": "[encoded data removed]",
            "text/plain": [
              "<Figure size 576x396 with 1 Axes>"
            ]
          },
          "metadata": {}
        }
      ]
    },
    {
      "cell_type": "markdown",
      "metadata": {
        "id": "J7rq6F8wfsQl"
      },
      "source": [
        "#Data visualisation Challenge"
      ]
    },
    {
      "cell_type": "code",
      "metadata": {
        "id": "7xtW4Ou9d2ru"
      },
      "source": [
        "import pandas as pd"
      ],
      "execution_count": 56,
      "outputs": []
    },
    {
      "cell_type": "code",
      "metadata": {
        "colab": {
          "base_uri": "https://localhost:8080/"
        },
        "id": "LQQcpg29rhhh",
        "outputId": "f97ecc65-44a2-4353-b97f-1acc5095fbef"
      },
      "source": [
        "from google.colab import drive\n",
        "drive.mount('/content/drive/')\n"
      ],
      "execution_count": 57,
      "outputs": [
        {
          "output_type": "stream",
          "text": [
            "Drive already mounted at /content/drive/; to attempt to forcibly remount, call drive.mount(\"/content/drive/\", force_remount=True).\n"
          ],
          "name": "stdout"
        }
      ]
    },
    {
      "cell_type": "code",
      "metadata": {
        "colab": {
          "base_uri": "https://localhost:8080/"
        },
        "id": "1eHeI-UHwt_-",
        "outputId": "4ef9a1fa-10a3-4584-bfed-363e89c96e36"
      },
      "source": [
        "#read from csv file\n",
        "df = pd.read_csv(\"/content/drive/MyDrive/Data set for Data science/Data Sets/Movies/IMDb movies.csv\")"
      ],
      "execution_count": 58,
      "outputs": [
        {
          "output_type": "stream",
          "text": [
            "/usr/local/lib/python3.7/dist-packages/IPython/core/interactiveshell.py:2718: DtypeWarning: Columns (3) have mixed types.Specify dtype option on import or set low_memory=False.\n",
            "  interactivity=interactivity, compiler=compiler, result=result)\n"
          ],
          "name": "stderr"
        }
      ]
    },
    {
      "cell_type": "code",
      "metadata": {
        "colab": {
          "base_uri": "https://localhost:8080/",
          "height": 1000
        },
        "id": "eLZnSE-gymr6",
        "outputId": "a367fc7e-11fd-4a2a-ff04-ca76ef41a02f"
      },
      "source": [
        "df.head(n=10)"
      ],
      "execution_count": 59,
      "outputs": [
        {
          "output_type": "execute_result",
          "data": {
            "text/html": [
              "<div>\n",
              "<style scoped>\n",
              "    .dataframe tbody tr th:only-of-type {\n",
              "        vertical-align: middle;\n",
              "    }\n",
              "\n",
              "    .dataframe tbody tr th {\n",
              "        vertical-align: top;\n",
              "    }\n",
              "\n",
              "    .dataframe thead th {\n",
              "        text-align: right;\n",
              "    }\n",
              "</style>\n",
              "<table border=\"1\" class=\"dataframe\">\n",
              "  <thead>\n",
              "    <tr style=\"text-align: right;\">\n",
              "      <th></th>\n",
              "      <th>imdb_title_id</th>\n",
              "      <th>title</th>\n",
              "      <th>original_title</th>\n",
              "      <th>year</th>\n",
              "      <th>date_published</th>\n",
              "      <th>genre</th>\n",
              "      <th>duration</th>\n",
              "      <th>country</th>\n",
              "      <th>language</th>\n",
              "      <th>director</th>\n",
              "      <th>writer</th>\n",
              "      <th>production_company</th>\n",
              "      <th>actors</th>\n",
              "      <th>description</th>\n",
              "      <th>avg_vote</th>\n",
              "      <th>votes</th>\n",
              "      <th>budget</th>\n",
              "      <th>usa_gross_income</th>\n",
              "      <th>worlwide_gross_income</th>\n",
              "      <th>metascore</th>\n",
              "      <th>reviews_from_users</th>\n",
              "      <th>reviews_from_critics</th>\n",
              "    </tr>\n",
              "  </thead>\n",
              "  <tbody>\n",
              "    <tr>\n",
              "      <th>0</th>\n",
              "      <td>tt0000009</td>\n",
              "      <td>Miss Jerry</td>\n",
              "      <td>Miss Jerry</td>\n",
              "      <td>1894</td>\n",
              "      <td>1894-10-09</td>\n",
              "      <td>Romance</td>\n",
              "      <td>45</td>\n",
              "      <td>USA</td>\n",
              "      <td>None</td>\n",
              "      <td>Alexander Black</td>\n",
              "      <td>Alexander Black</td>\n",
              "      <td>Alexander Black Photoplays</td>\n",
              "      <td>Blanche Bayliss, William Courtenay, Chauncey D...</td>\n",
              "      <td>The adventures of a female reporter in the 1890s.</td>\n",
              "      <td>5.9</td>\n",
              "      <td>154</td>\n",
              "      <td>NaN</td>\n",
              "      <td>NaN</td>\n",
              "      <td>NaN</td>\n",
              "      <td>NaN</td>\n",
              "      <td>1.0</td>\n",
              "      <td>2.0</td>\n",
              "    </tr>\n",
              "    <tr>\n",
              "      <th>1</th>\n",
              "      <td>tt0000574</td>\n",
              "      <td>The Story of the Kelly Gang</td>\n",
              "      <td>The Story of the Kelly Gang</td>\n",
              "      <td>1906</td>\n",
              "      <td>1906-12-26</td>\n",
              "      <td>Biography, Crime, Drama</td>\n",
              "      <td>70</td>\n",
              "      <td>Australia</td>\n",
              "      <td>None</td>\n",
              "      <td>Charles Tait</td>\n",
              "      <td>Charles Tait</td>\n",
              "      <td>J. and N. Tait</td>\n",
              "      <td>Elizabeth Tait, John Tait, Norman Campbell, Be...</td>\n",
              "      <td>True story of notorious Australian outlaw Ned ...</td>\n",
              "      <td>6.1</td>\n",
              "      <td>589</td>\n",
              "      <td>$ 2250</td>\n",
              "      <td>NaN</td>\n",
              "      <td>NaN</td>\n",
              "      <td>NaN</td>\n",
              "      <td>7.0</td>\n",
              "      <td>7.0</td>\n",
              "    </tr>\n",
              "    <tr>\n",
              "      <th>2</th>\n",
              "      <td>tt0001892</td>\n",
              "      <td>Den sorte drøm</td>\n",
              "      <td>Den sorte drøm</td>\n",
              "      <td>1911</td>\n",
              "      <td>1911-08-19</td>\n",
              "      <td>Drama</td>\n",
              "      <td>53</td>\n",
              "      <td>Germany, Denmark</td>\n",
              "      <td>NaN</td>\n",
              "      <td>Urban Gad</td>\n",
              "      <td>Urban Gad, Gebhard Schätzler-Perasini</td>\n",
              "      <td>Fotorama</td>\n",
              "      <td>Asta Nielsen, Valdemar Psilander, Gunnar Helse...</td>\n",
              "      <td>Two men of high rank are both wooing the beaut...</td>\n",
              "      <td>5.8</td>\n",
              "      <td>188</td>\n",
              "      <td>NaN</td>\n",
              "      <td>NaN</td>\n",
              "      <td>NaN</td>\n",
              "      <td>NaN</td>\n",
              "      <td>5.0</td>\n",
              "      <td>2.0</td>\n",
              "    </tr>\n",
              "    <tr>\n",
              "      <th>3</th>\n",
              "      <td>tt0002101</td>\n",
              "      <td>Cleopatra</td>\n",
              "      <td>Cleopatra</td>\n",
              "      <td>1912</td>\n",
              "      <td>1912-11-13</td>\n",
              "      <td>Drama, History</td>\n",
              "      <td>100</td>\n",
              "      <td>USA</td>\n",
              "      <td>English</td>\n",
              "      <td>Charles L. Gaskill</td>\n",
              "      <td>Victorien Sardou</td>\n",
              "      <td>Helen Gardner Picture Players</td>\n",
              "      <td>Helen Gardner, Pearl Sindelar, Miss Fielding, ...</td>\n",
              "      <td>The fabled queen of Egypt's affair with Roman ...</td>\n",
              "      <td>5.2</td>\n",
              "      <td>446</td>\n",
              "      <td>$ 45000</td>\n",
              "      <td>NaN</td>\n",
              "      <td>NaN</td>\n",
              "      <td>NaN</td>\n",
              "      <td>25.0</td>\n",
              "      <td>3.0</td>\n",
              "    </tr>\n",
              "    <tr>\n",
              "      <th>4</th>\n",
              "      <td>tt0002130</td>\n",
              "      <td>L'Inferno</td>\n",
              "      <td>L'Inferno</td>\n",
              "      <td>1911</td>\n",
              "      <td>1911-03-06</td>\n",
              "      <td>Adventure, Drama, Fantasy</td>\n",
              "      <td>68</td>\n",
              "      <td>Italy</td>\n",
              "      <td>Italian</td>\n",
              "      <td>Francesco Bertolini, Adolfo Padovan</td>\n",
              "      <td>Dante Alighieri</td>\n",
              "      <td>Milano Film</td>\n",
              "      <td>Salvatore Papa, Arturo Pirovano, Giuseppe de L...</td>\n",
              "      <td>Loosely adapted from Dante's Divine Comedy and...</td>\n",
              "      <td>7.0</td>\n",
              "      <td>2237</td>\n",
              "      <td>NaN</td>\n",
              "      <td>NaN</td>\n",
              "      <td>NaN</td>\n",
              "      <td>NaN</td>\n",
              "      <td>31.0</td>\n",
              "      <td>14.0</td>\n",
              "    </tr>\n",
              "    <tr>\n",
              "      <th>5</th>\n",
              "      <td>tt0002199</td>\n",
              "      <td>From the Manger to the Cross; or, Jesus of Naz...</td>\n",
              "      <td>From the Manger to the Cross; or, Jesus of Naz...</td>\n",
              "      <td>1912</td>\n",
              "      <td>1913</td>\n",
              "      <td>Biography, Drama</td>\n",
              "      <td>60</td>\n",
              "      <td>USA</td>\n",
              "      <td>English</td>\n",
              "      <td>Sidney Olcott</td>\n",
              "      <td>Gene Gauntier</td>\n",
              "      <td>Kalem Company</td>\n",
              "      <td>R. Henderson Bland, Percy Dyer, Gene Gauntier,...</td>\n",
              "      <td>An account of the life of Jesus Christ, based ...</td>\n",
              "      <td>5.7</td>\n",
              "      <td>484</td>\n",
              "      <td>NaN</td>\n",
              "      <td>NaN</td>\n",
              "      <td>NaN</td>\n",
              "      <td>NaN</td>\n",
              "      <td>13.0</td>\n",
              "      <td>5.0</td>\n",
              "    </tr>\n",
              "    <tr>\n",
              "      <th>6</th>\n",
              "      <td>tt0002423</td>\n",
              "      <td>Madame DuBarry</td>\n",
              "      <td>Madame DuBarry</td>\n",
              "      <td>1919</td>\n",
              "      <td>1919-11-26</td>\n",
              "      <td>Biography, Drama, Romance</td>\n",
              "      <td>85</td>\n",
              "      <td>Germany</td>\n",
              "      <td>German</td>\n",
              "      <td>Ernst Lubitsch</td>\n",
              "      <td>Norbert Falk, Hanns Kräly</td>\n",
              "      <td>Projektions-AG Union (PAGU)</td>\n",
              "      <td>Pola Negri, Emil Jannings, Harry Liedtke, Edua...</td>\n",
              "      <td>The story of Madame DuBarry, the mistress of L...</td>\n",
              "      <td>6.8</td>\n",
              "      <td>753</td>\n",
              "      <td>NaN</td>\n",
              "      <td>NaN</td>\n",
              "      <td>NaN</td>\n",
              "      <td>NaN</td>\n",
              "      <td>12.0</td>\n",
              "      <td>9.0</td>\n",
              "    </tr>\n",
              "    <tr>\n",
              "      <th>7</th>\n",
              "      <td>tt0002445</td>\n",
              "      <td>Quo Vadis?</td>\n",
              "      <td>Quo Vadis?</td>\n",
              "      <td>1913</td>\n",
              "      <td>1913-03-01</td>\n",
              "      <td>Drama, History</td>\n",
              "      <td>120</td>\n",
              "      <td>Italy</td>\n",
              "      <td>Italian</td>\n",
              "      <td>Enrico Guazzoni</td>\n",
              "      <td>Henryk Sienkiewicz, Enrico Guazzoni</td>\n",
              "      <td>Società Italiana Cines</td>\n",
              "      <td>Amleto Novelli, Gustavo Serena, Carlo Cattaneo...</td>\n",
              "      <td>An epic Italian film \"Quo Vadis\" influenced ma...</td>\n",
              "      <td>6.2</td>\n",
              "      <td>273</td>\n",
              "      <td>ITL 45000</td>\n",
              "      <td>NaN</td>\n",
              "      <td>NaN</td>\n",
              "      <td>NaN</td>\n",
              "      <td>7.0</td>\n",
              "      <td>5.0</td>\n",
              "    </tr>\n",
              "    <tr>\n",
              "      <th>8</th>\n",
              "      <td>tt0002452</td>\n",
              "      <td>Independenta Romaniei</td>\n",
              "      <td>Independenta Romaniei</td>\n",
              "      <td>1912</td>\n",
              "      <td>1912-09-01</td>\n",
              "      <td>History, War</td>\n",
              "      <td>120</td>\n",
              "      <td>Romania</td>\n",
              "      <td>NaN</td>\n",
              "      <td>Aristide Demetriade, Grigore Brezeanu</td>\n",
              "      <td>Aristide Demetriade, Petre Liciu</td>\n",
              "      <td>Societatea Filmului de Arta Leon Popescu</td>\n",
              "      <td>Aristide Demetriade, Constanta Demetriade, Con...</td>\n",
              "      <td>The movie depicts the Romanian War of Independ...</td>\n",
              "      <td>6.7</td>\n",
              "      <td>198</td>\n",
              "      <td>ROL 400000</td>\n",
              "      <td>NaN</td>\n",
              "      <td>NaN</td>\n",
              "      <td>NaN</td>\n",
              "      <td>4.0</td>\n",
              "      <td>1.0</td>\n",
              "    </tr>\n",
              "    <tr>\n",
              "      <th>9</th>\n",
              "      <td>tt0002461</td>\n",
              "      <td>Richard III</td>\n",
              "      <td>Richard III</td>\n",
              "      <td>1912</td>\n",
              "      <td>1912-10-15</td>\n",
              "      <td>Drama</td>\n",
              "      <td>55</td>\n",
              "      <td>France, USA</td>\n",
              "      <td>English</td>\n",
              "      <td>André Calmettes, James Keane</td>\n",
              "      <td>James Keane, William Shakespeare</td>\n",
              "      <td>Le Film d'Art</td>\n",
              "      <td>Robert Gemp, Frederick Warde, Albert Gardner, ...</td>\n",
              "      <td>Richard of Gloucester uses manipulation and mu...</td>\n",
              "      <td>5.5</td>\n",
              "      <td>225</td>\n",
              "      <td>$ 30000</td>\n",
              "      <td>NaN</td>\n",
              "      <td>NaN</td>\n",
              "      <td>NaN</td>\n",
              "      <td>8.0</td>\n",
              "      <td>1.0</td>\n",
              "    </tr>\n",
              "  </tbody>\n",
              "</table>\n",
              "</div>"
            ],
            "text/plain": [
              "  imdb_title_id  ... reviews_from_critics\n",
              "0     tt0000009  ...                  2.0\n",
              "1     tt0000574  ...                  7.0\n",
              "2     tt0001892  ...                  2.0\n",
              "3     tt0002101  ...                  3.0\n",
              "4     tt0002130  ...                 14.0\n",
              "5     tt0002199  ...                  5.0\n",
              "6     tt0002423  ...                  9.0\n",
              "7     tt0002445  ...                  5.0\n",
              "8     tt0002452  ...                  1.0\n",
              "9     tt0002461  ...                  1.0\n",
              "\n",
              "[10 rows x 22 columns]"
            ]
          },
          "metadata": {},
          "execution_count": 59
        }
      ]
    },
    {
      "cell_type": "code",
      "metadata": {
        "colab": {
          "base_uri": "https://localhost:8080/"
        },
        "id": "Udo1b6F9zGH4",
        "outputId": "9f8a6680-6191-4609-8ecd-7a4e73224289"
      },
      "source": [
        "df.columns"
      ],
      "execution_count": 60,
      "outputs": [
        {
          "output_type": "execute_result",
          "data": {
            "text/plain": [
              "Index(['imdb_title_id', 'title', 'original_title', 'year', 'date_published',\n",
              "       'genre', 'duration', 'country', 'language', 'director', 'writer',\n",
              "       'production_company', 'actors', 'description', 'avg_vote', 'votes',\n",
              "       'budget', 'usa_gross_income', 'worlwide_gross_income', 'metascore',\n",
              "       'reviews_from_users', 'reviews_from_critics'],\n",
              "      dtype='object')"
            ]
          },
          "metadata": {},
          "execution_count": 60
        }
      ]
    },
    {
      "cell_type": "code",
      "metadata": {
        "id": "B5hJxQOUzPdY"
      },
      "source": [
        ""
      ],
      "execution_count": 60,
      "outputs": []
    },
    {
      "cell_type": "code",
      "metadata": {
        "id": "NuL6UoANzhOo"
      },
      "source": [
        "# it is of type pands so we forcely convert it into list"
      ],
      "execution_count": 61,
      "outputs": []
    },
    {
      "cell_type": "code",
      "metadata": {
        "id": "WuK-6_GeznlH"
      },
      "source": [
        "titles = list(df.get('title'))"
      ],
      "execution_count": 62,
      "outputs": []
    },
    {
      "cell_type": "code",
      "metadata": {
        "id": "Qw9kXt6Jz9SW"
      },
      "source": [
        "\n"
      ],
      "execution_count": 62,
      "outputs": []
    },
    {
      "cell_type": "code",
      "metadata": {
        "id": "zPxz7WXL0Fzm"
      },
      "source": [
        "freq_titles = {}\n",
        "\n",
        "for title in titles:\n",
        "  length = len(title)\n",
        "\n",
        "  if freq_titles.get(length) is None:\n",
        "    freq_titles[length] = 1\n",
        "  else:\n",
        "     freq_titles[length] += 1\n",
        "\n"
      ],
      "execution_count": 63,
      "outputs": []
    },
    {
      "cell_type": "code",
      "metadata": {
        "colab": {
          "base_uri": "https://localhost:8080/"
        },
        "id": "nL4BudLk1hIE",
        "outputId": "6cc563ce-d7a1-4753-efc7-9217303e34d0"
      },
      "source": [
        "print(freq_titles)"
      ],
      "execution_count": 64,
      "outputs": [
        {
          "output_type": "stream",
          "text": [
            "{10: 3890, 27: 1267, 14: 4517, 9: 3861, 51: 49, 21: 2857, 11: 4098, 8: 3586, 37: 394, 24: 1913, 20: 3308, 26: 1439, 22: 2606, 15: 4389, 16: 4269, 13: 4337, 49: 84, 7: 3168, 17: 4070, 23: 2232, 32: 767, 31: 826, 18: 3941, 41: 186, 19: 3570, 6: 2720, 12: 4226, 28: 1168, 25: 1695, 5: 2170, 30: 930, 29: 1096, 33: 640, 3: 431, 43: 155, 4: 1312, 35: 506, 59: 25, 56: 28, 64: 11, 46: 125, 39: 295, 34: 576, 44: 142, 38: 310, 36: 417, 55: 28, 48: 89, 54: 35, 42: 188, 40: 243, 1: 33, 50: 64, 45: 118, 47: 89, 53: 40, 2: 81, 86: 4, 82: 2, 52: 39, 62: 17, 60: 16, 71: 7, 88: 2, 63: 13, 72: 10, 66: 10, 69: 5, 94: 2, 67: 5, 93: 2, 73: 6, 75: 3, 57: 24, 65: 6, 70: 5, 68: 7, 96: 1, 61: 11, 58: 26, 80: 4, 104: 1, 165: 1, 89: 1, 78: 3, 79: 1, 84: 1, 196: 1, 87: 2, 81: 1, 83: 1, 76: 2, 74: 2, 77: 1}\n"
          ],
          "name": "stdout"
        }
      ]
    },
    {
      "cell_type": "code",
      "metadata": {
        "colab": {
          "base_uri": "https://localhost:8080/"
        },
        "id": "-MEEOEeZ13wr",
        "outputId": "7dd0d1eb-0950-40d5-ff30-61d59c429904"
      },
      "source": [
        "X = np.array(list(freq_titles.keys()))\n",
        "Y = np.array(list(freq_titles.values()))\n",
        "print(X,Y)"
      ],
      "execution_count": 67,
      "outputs": [
        {
          "output_type": "stream",
          "text": [
            "[ 10  27  14   9  51  21  11   8  37  24  20  26  22  15  16  13  49   7\n",
            "  17  23  32  31  18  41  19   6  12  28  25   5  30  29  33   3  43   4\n",
            "  35  59  56  64  46  39  34  44  38  36  55  48  54  42  40   1  50  45\n",
            "  47  53   2  86  82  52  62  60  71  88  63  72  66  69  94  67  93  73\n",
            "  75  57  65  70  68  96  61  58  80 104 165  89  78  79  84 196  87  81\n",
            "  83  76  74  77] [3890 1267 4517 3861   49 2857 4098 3586  394 1913 3308 1439 2606 4389\n",
            " 4269 4337   84 3168 4070 2232  767  826 3941  186 3570 2720 4226 1168\n",
            " 1695 2170  930 1096  640  431  155 1312  506   25   28   11  125  295\n",
            "  576  142  310  417   28   89   35  188  243   33   64  118   89   40\n",
            "   81    4    2   39   17   16    7    2   13   10   10    5    2    5\n",
            "    2    6    3   24    6    5    7    1   11   26    4    1    1    1\n",
            "    3    1    1    1    2    1    1    2    2    1]\n"
          ],
          "name": "stdout"
        }
      ]
    },
    {
      "cell_type": "code",
      "metadata": {
        "colab": {
          "base_uri": "https://localhost:8080/",
          "height": 361
        },
        "id": "m5mL_YpV3m8g",
        "outputId": "f94db1fd-2727-4d28-9861-f72688cdb017"
      },
      "source": [
        "plt.scatter(X,Y)\n",
        "plt.xlabel(\"Length of Movie Title\")\n",
        "plt.ylabel(\"Freq Count\")\n",
        "plt.title(\"Movie Data visualization\")\n",
        "plt.show()"
      ],
      "execution_count": 68,
      "outputs": [
        {
          "output_type": "display_data",
          "data": {
            "image/png": "[encoded data removed]",
            "text/plain": [
              "<Figure size 576x396 with 1 Axes>"
            ]
          },
          "metadata": {}
        }
      ]
    },
    {
      "cell_type": "code",
      "metadata": {
        "id": "M3MdR57S4O5u"
      },
      "source": [
        ""
      ],
      "execution_count": null,
      "outputs": []
    }
  ]
}