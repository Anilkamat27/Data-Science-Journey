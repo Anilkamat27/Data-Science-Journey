{
  "nbformat": 4,
  "nbformat_minor": 0,
  "metadata": {
    "colab": {
      "name": "NUMPY.ipynb",
      "provenance": []
    },
    "kernelspec": {
      "name": "python3",
      "display_name": "Python 3"
    },
    "language_info": {
      "name": "python"
    }
  },
  "cells": [
    {
      "cell_type": "code",
      "metadata": {
        "id": "_QOVBG-J6H_n",
        "colab": {
          "base_uri": "https://localhost:8080/"
        },
        "outputId": "2064ab56-a031-4a2f-b532-99da1cd315ad"
      },
      "source": [
        "a=4;\n",
        "b=8;\n",
        "c=a+b;\n",
        "print(c);"
      ],
      "execution_count": 60,
      "outputs": [
        {
          "output_type": "stream",
          "text": [
            "12\n"
          ],
          "name": "stdout"
        }
      ]
    },
    {
      "cell_type": "code",
      "metadata": {
        "id": "tUuI9eFL6Ogq",
        "colab": {
          "base_uri": "https://localhost:8080/",
          "height": 35
        },
        "outputId": "60105409-7605-4c7a-c4bd-26a0403b9a42"
      },
      "source": [
        "import tensorflow as tf\n",
        "tf.test.gpu_device_name()\n"
      ],
      "execution_count": 61,
      "outputs": [
        {
          "output_type": "execute_result",
          "data": {
            "application/vnd.google.colaboratory.intrinsic+json": {
              "type": "string"
            },
            "text/plain": [
              "''"
            ]
          },
          "metadata": {},
          "execution_count": 61
        }
      ]
    },
    {
      "cell_type": "code",
      "metadata": {
        "colab": {
          "base_uri": "https://localhost:8080/"
        },
        "id": "2AuJHGkhtR33",
        "outputId": "5f7100fc-9544-4f19-d957-30ad58e2324e"
      },
      "source": [
        "out = chr(344);\n",
        "print(out)"
      ],
      "execution_count": 62,
      "outputs": [
        {
          "output_type": "stream",
          "text": [
            "Ř\n"
          ],
          "name": "stdout"
        }
      ]
    },
    {
      "cell_type": "markdown",
      "metadata": {
        "id": "YiN2_aKV--Hh"
      },
      "source": [
        ""
      ]
    },
    {
      "cell_type": "code",
      "metadata": {
        "id": "Lup-Zuvv-4sX",
        "colab": {
          "base_uri": "https://localhost:8080/"
        },
        "outputId": "95023905-550c-423a-944d-e4c92dc71be4"
      },
      "source": [
        "ads = input()\n",
        "print(type(ads));"
      ],
      "execution_count": 63,
      "outputs": [
        {
          "output_type": "stream",
          "text": [
            "ert'\n",
            "<class 'str'>\n"
          ],
          "name": "stdout"
        }
      ]
    },
    {
      "cell_type": "markdown",
      "metadata": {
        "id": "LEXlle16uTBO"
      },
      "source": [
        ""
      ]
    },
    {
      "cell_type": "code",
      "metadata": {
        "id": "AmQJCxQrr9ws"
      },
      "source": [
        "f = open(\"text.txt\",'wt')\n",
        "dfr =23\n",
        "count =0;\n",
        "while count < dfr :\n",
        "  print(\"this is here i am\", file=f, flush=True)\n",
        "  count=count+1"
      ],
      "execution_count": 64,
      "outputs": []
    },
    {
      "cell_type": "code",
      "metadata": {
        "colab": {
          "base_uri": "https://localhost:8080/"
        },
        "id": "BwgfXMo_vCes",
        "outputId": "05b8039c-6622-4d54-9bf2-1877d7db0b53"
      },
      "source": [
        "# refrencing\n",
        "def pointer1():\n",
        "  print(\"This is me , who created this is world\")\n",
        "pointer1()"
      ],
      "execution_count": 65,
      "outputs": [
        {
          "output_type": "stream",
          "text": [
            "This is me , who created this is world\n"
          ],
          "name": "stdout"
        }
      ]
    },
    {
      "cell_type": "code",
      "metadata": {
        "colab": {
          "base_uri": "https://localhost:8080/"
        },
        "id": "f75asf3Jz875",
        "outputId": "8babe202-5229-41e3-d79c-a9a355e428c1"
      },
      "source": [
        "pointer2 = pointer1\n",
        "pointer2()"
      ],
      "execution_count": 66,
      "outputs": [
        {
          "output_type": "stream",
          "text": [
            "This is me , who created this is world\n"
          ],
          "name": "stdout"
        }
      ]
    },
    {
      "cell_type": "code",
      "metadata": {
        "colab": {
          "base_uri": "https://localhost:8080/"
        },
        "id": "34sdyERb0IeX",
        "outputId": "5e2512f7-3a85-4426-e32a-18afec3cfb54"
      },
      "source": [
        "pointer2"
      ],
      "execution_count": 67,
      "outputs": [
        {
          "output_type": "execute_result",
          "data": {
            "text/plain": [
              "<function __main__.pointer1>"
            ]
          },
          "metadata": {},
          "execution_count": 67
        }
      ]
    },
    {
      "cell_type": "code",
      "metadata": {
        "id": "MQIa7jH1204i"
      },
      "source": [
        "pointer1 = print"
      ],
      "execution_count": 68,
      "outputs": []
    },
    {
      "cell_type": "code",
      "metadata": {
        "colab": {
          "base_uri": "https://localhost:8080/"
        },
        "id": "aSoFIWMs3GRB",
        "outputId": "a42b0f57-8881-477e-9828-fa406520fc62"
      },
      "source": [
        "pointer2()"
      ],
      "execution_count": 69,
      "outputs": [
        {
          "output_type": "stream",
          "text": [
            "This is me , who created this is world\n"
          ],
          "name": "stdout"
        }
      ]
    },
    {
      "cell_type": "code",
      "metadata": {
        "colab": {
          "base_uri": "https://localhost:8080/"
        },
        "id": "UNpLF-lk3H-B",
        "outputId": "d408a0fb-348a-4f48-fa76-919ffcf5c80a"
      },
      "source": [
        "pointer1(\"thi is anil\")"
      ],
      "execution_count": 70,
      "outputs": [
        {
          "output_type": "stream",
          "text": [
            "thi is anil\n"
          ],
          "name": "stdout"
        }
      ]
    },
    {
      "cell_type": "code",
      "metadata": {
        "id": "LRM19u8u3OIh"
      },
      "source": [
        "# reference ko pass karna , reference ki value dena in dono me farq hai , python pass by value deta hai\n"
      ],
      "execution_count": 71,
      "outputs": []
    },
    {
      "cell_type": "code",
      "metadata": {
        "id": "eFVxpUE06j3r"
      },
      "source": [
        "def multiply(a,b):\n",
        "  print(a*b)\n",
        "def magic(a,b,op):\n",
        "  return op(a,b);  \n",
        "  #function ko pass karna , "
      ],
      "execution_count": 72,
      "outputs": []
    },
    {
      "cell_type": "code",
      "metadata": {
        "colab": {
          "base_uri": "https://localhost:8080/"
        },
        "id": "6msod_fABFsc",
        "outputId": "d99a3a42-4abd-480b-e7b4-310aeab2cdd1"
      },
      "source": [
        "magic(2,3,multiply)"
      ],
      "execution_count": 73,
      "outputs": [
        {
          "output_type": "stream",
          "text": [
            "6\n"
          ],
          "name": "stdout"
        }
      ]
    },
    {
      "cell_type": "markdown",
      "metadata": {
        "id": "qJd5VTaOlEIi"
      },
      "source": [
        "# Working with Numpy - for mathematical operation"
      ]
    },
    {
      "cell_type": "code",
      "metadata": {
        "id": "5DWroy9uBLMr"
      },
      "source": [
        "import numpy as np"
      ],
      "execution_count": 74,
      "outputs": []
    },
    {
      "cell_type": "markdown",
      "metadata": {
        "id": "z_KbyRVAlneR"
      },
      "source": [
        "# initialize and create array in numpy\n"
      ]
    },
    {
      "cell_type": "code",
      "metadata": {
        "colab": {
          "base_uri": "https://localhost:8080/"
        },
        "id": "b9H08ofulOTZ",
        "outputId": "7bb17dd5-d342-4550-f21a-56505b59b35b"
      },
      "source": [
        "a= np.array([1,2,3,4,5,6,7])\n",
        "print(a)\n",
        "print(type(a))\n",
        "print(a.shape)#dimension of array"
      ],
      "execution_count": 75,
      "outputs": [
        {
          "output_type": "stream",
          "text": [
            "[1 2 3 4 5 6 7]\n",
            "<class 'numpy.ndarray'>\n",
            "(7,)\n"
          ],
          "name": "stdout"
        }
      ]
    },
    {
      "cell_type": "code",
      "metadata": {
        "colab": {
          "base_uri": "https://localhost:8080/"
        },
        "id": "kLljPe_slbIA",
        "outputId": "11c33ede-3479-49a3-9159-8252fb863a3b"
      },
      "source": [
        "b= np.array([[1],[2],[3],[4],[5],[6],[7],[8]])\n",
        "print(b)\n",
        "print(type(b))\n",
        "print(b.shape)\n"
      ],
      "execution_count": 76,
      "outputs": [
        {
          "output_type": "stream",
          "text": [
            "[[1]\n",
            " [2]\n",
            " [3]\n",
            " [4]\n",
            " [5]\n",
            " [6]\n",
            " [7]\n",
            " [8]]\n",
            "<class 'numpy.ndarray'>\n",
            "(8, 1)\n"
          ],
          "name": "stdout"
        }
      ]
    },
    {
      "cell_type": "code",
      "metadata": {
        "colab": {
          "base_uri": "https://localhost:8080/"
        },
        "id": "6iaG-BPHm2sP",
        "outputId": "133400c2-973d-4fb7-bd8c-98d8dd348f5c"
      },
      "source": [
        "c= np.array([[1,2,3],[4,5,6]])\n",
        "print(c)\n",
        "print(c.shape)\n",
        "print(c[1][1])#here how we create 2d array\n",
        "print(c.ravel(),c.flatten())"
      ],
      "execution_count": 77,
      "outputs": [
        {
          "output_type": "stream",
          "text": [
            "[[1 2 3]\n",
            " [4 5 6]]\n",
            "(2, 3)\n",
            "5\n",
            "[1 2 3 4 5 6] [1 2 3 4 5 6]\n"
          ],
          "name": "stdout"
        }
      ]
    },
    {
      "cell_type": "code",
      "metadata": {
        "colab": {
          "base_uri": "https://localhost:8080/"
        },
        "id": "udtJuWpcndSM",
        "outputId": "8e015ea6-5001-4996-c3c3-1c61b9d6bf5f"
      },
      "source": [
        "# create Zeroes ,ones ,custom array\n",
        "a= np.zeros((3,3))\n",
        "print(a, type(a))\n",
        "b= np.ones((2,2))\n",
        "print(b,type(b))\n",
        "# create array of constant\n",
        "c= np.full((3,2),10)\n",
        "print(c,type(c))\n",
        "# create identity matrix (square matrix)\n",
        "d= np.eye(4)\n",
        "print(d,type(d))\n",
        "#random matrix\n",
        "randomMatrix = np.random.random((2,3))\n",
        "print(randomMatrix, type(randomMatrix))"
      ],
      "execution_count": 78,
      "outputs": [
        {
          "output_type": "stream",
          "text": [
            "[[0. 0. 0.]\n",
            " [0. 0. 0.]\n",
            " [0. 0. 0.]] <class 'numpy.ndarray'>\n",
            "[[1. 1.]\n",
            " [1. 1.]] <class 'numpy.ndarray'>\n",
            "[[10 10]\n",
            " [10 10]\n",
            " [10 10]] <class 'numpy.ndarray'>\n",
            "[[1. 0. 0. 0.]\n",
            " [0. 1. 0. 0.]\n",
            " [0. 0. 1. 0.]\n",
            " [0. 0. 0. 1.]] <class 'numpy.ndarray'>\n",
            "[[0.99718481 0.93255736 0.12812445]\n",
            " [0.99904052 0.23608898 0.39658073]] <class 'numpy.ndarray'>\n"
          ],
          "name": "stdout"
        }
      ]
    },
    {
      "cell_type": "code",
      "metadata": {
        "colab": {
          "base_uri": "https://localhost:8080/"
        },
        "id": "cuhp04tZn4zr",
        "outputId": "b972a3a1-c700-48ec-e382-87a557465bcc"
      },
      "source": [
        " print(randomMatrix[:,2])"
      ],
      "execution_count": 79,
      "outputs": [
        {
          "output_type": "stream",
          "text": [
            "[0.12812445 0.39658073]\n"
          ],
          "name": "stdout"
        }
      ]
    },
    {
      "cell_type": "code",
      "metadata": {
        "colab": {
          "base_uri": "https://localhost:8080/"
        },
        "id": "D2_2GGefqVbY",
        "outputId": "21449a97-41b8-4e49-cd19-d072be27cbb6"
      },
      "source": [
        "randomMatrix[1,1:]=10\n",
        "print(randomMatrix)"
      ],
      "execution_count": 80,
      "outputs": [
        {
          "output_type": "stream",
          "text": [
            "[[ 0.99718481  0.93255736  0.12812445]\n",
            " [ 0.99904052 10.         10.        ]]\n"
          ],
          "name": "stdout"
        }
      ]
    },
    {
      "cell_type": "code",
      "metadata": {
        "colab": {
          "base_uri": "https://localhost:8080/"
        },
        "id": "ehJ3BodSq0-W",
        "outputId": "bfaff410-d72a-4ccd-89f0-7057696354dd"
      },
      "source": [
        "# Set some rows and columns with any values\n",
        "z= np.zeros((3,3),dtype = np.int64)\n",
        "print(z)\n",
        "z[1, : ]=5;\n",
        "z[: , -1] = 7\n",
        "print(z)\n"
      ],
      "execution_count": 81,
      "outputs": [
        {
          "output_type": "stream",
          "text": [
            "[[0 0 0]\n",
            " [0 0 0]\n",
            " [0 0 0]]\n",
            "[[0 0 7]\n",
            " [5 5 7]\n",
            " [0 0 7]]\n"
          ],
          "name": "stdout"
        }
      ]
    },
    {
      "cell_type": "code",
      "metadata": {
        "id": "-Fa0RRSlrWUU",
        "colab": {
          "base_uri": "https://localhost:8080/"
        },
        "outputId": "2df63c24-aa60-4879-b71f-db748d19c073"
      },
      "source": [
        "# Data types\n",
        "print(z.dtype)"
      ],
      "execution_count": 82,
      "outputs": [
        {
          "output_type": "stream",
          "text": [
            "int64\n"
          ],
          "name": "stdout"
        }
      ]
    },
    {
      "cell_type": "code",
      "metadata": {
        "colab": {
          "base_uri": "https://localhost:8080/"
        },
        "id": "7lX0LY-cFCKH",
        "outputId": "d9d55f34-da54-44d3-a76c-5afded5e027f"
      },
      "source": [
        "#Mathematical operation \n",
        "\n",
        "x = np.array([[1,2],[3,4]])\n",
        "y = np.array([[5,6],[7,8]])\n",
        "\n",
        "# Elememnt wise addition\n",
        "print(x+y) \n",
        "print(np.add(x,y))\n",
        "print(x-y) \n",
        "print(np.subtract(x,y))\n"
      ],
      "execution_count": 83,
      "outputs": [
        {
          "output_type": "stream",
          "text": [
            "[[ 6  8]\n",
            " [10 12]]\n",
            "[[ 6  8]\n",
            " [10 12]]\n",
            "[[-4 -4]\n",
            " [-4 -4]]\n",
            "[[-4 -4]\n",
            " [-4 -4]]\n"
          ],
          "name": "stdout"
        }
      ]
    },
    {
      "cell_type": "code",
      "metadata": {
        "colab": {
          "base_uri": "https://localhost:8080/"
        },
        "id": "2kxOqVx9GRBA",
        "outputId": "143d8ce7-3dde-40b9-b67a-00a5ad638415"
      },
      "source": [
        "print(x*y) \n",
        "print(np.multiply(x,y))\n",
        "print(x/y) \n",
        "print(np.divide(x,y))\n",
        "print(np.sqrt(x))"
      ],
      "execution_count": 84,
      "outputs": [
        {
          "output_type": "stream",
          "text": [
            "[[ 5 12]\n",
            " [21 32]]\n",
            "[[ 5 12]\n",
            " [21 32]]\n",
            "[[0.2        0.33333333]\n",
            " [0.42857143 0.5       ]]\n",
            "[[0.2        0.33333333]\n",
            " [0.42857143 0.5       ]]\n",
            "[[1.         1.41421356]\n",
            " [1.73205081 2.        ]]\n"
          ],
          "name": "stdout"
        }
      ]
    },
    {
      "cell_type": "code",
      "metadata": {
        "id": "-C9NU7bwHwvC",
        "colab": {
          "base_uri": "https://localhost:8080/"
        },
        "outputId": "1268f922-95d2-48e0-c714-de57d99b77a2"
      },
      "source": [
        "# matrix multiplication / dot products\n",
        "print(x)\n",
        "print(y)\n",
        "print(x.dot(y))\n",
        "print(np.dot(x,y))"
      ],
      "execution_count": 85,
      "outputs": [
        {
          "output_type": "stream",
          "text": [
            "[[1 2]\n",
            " [3 4]]\n",
            "[[5 6]\n",
            " [7 8]]\n",
            "[[19 22]\n",
            " [43 50]]\n",
            "[[19 22]\n",
            " [43 50]]\n"
          ],
          "name": "stdout"
        }
      ]
    },
    {
      "cell_type": "code",
      "metadata": {
        "colab": {
          "base_uri": "https://localhost:8080/"
        },
        "id": "3gXv6OYKdMhH",
        "outputId": "6f052714-e5d7-4b67-db1c-4db05e8c9f38"
      },
      "source": [
        "# multiplication(dot product) of vectors - Scalar\n",
        "a= np.array([1,2,3,4])\n",
        "b = np.array([1,2,3,4])\n",
        "\n",
        "print(a.dot(b))\n"
      ],
      "execution_count": 86,
      "outputs": [
        {
          "output_type": "stream",
          "text": [
            "30\n"
          ],
          "name": "stdout"
        }
      ]
    },
    {
      "cell_type": "code",
      "metadata": {
        "colab": {
          "base_uri": "https://localhost:8080/"
        },
        "id": "YsPtDlmYd7bF",
        "outputId": "d603d58f-f8c1-44fc-b94c-a15c3aae7fce"
      },
      "source": [
        "print(a)\n",
        "print(sum(a))"
      ],
      "execution_count": 87,
      "outputs": [
        {
          "output_type": "stream",
          "text": [
            "[1 2 3 4]\n",
            "10\n"
          ],
          "name": "stdout"
        }
      ]
    },
    {
      "cell_type": "code",
      "metadata": {
        "colab": {
          "base_uri": "https://localhost:8080/"
        },
        "id": "AavRwLrxeOh0",
        "outputId": "099eabd8-1274-4564-d8df-564e5bf04b48"
      },
      "source": [
        " print(x)\n",
        " print(np.sum(x))\n",
        " print(np.sum(x,axis=0))\n",
        " print(np.sum(x,axis=1))"
      ],
      "execution_count": 88,
      "outputs": [
        {
          "output_type": "stream",
          "text": [
            "[[1 2]\n",
            " [3 4]]\n",
            "10\n",
            "[4 6]\n",
            "[3 7]\n"
          ],
          "name": "stdout"
        }
      ]
    },
    {
      "cell_type": "code",
      "metadata": {
        "colab": {
          "base_uri": "https://localhost:8080/"
        },
        "id": "5bQ5a0ZWeuN0",
        "outputId": "fbf2a5f8-d9a9-4050-85cf-37370ef43eb6"
      },
      "source": [
        "#stacking of arrays\n",
        "print(a)\n",
        "b = b*2\n",
        "b= b**2\n",
        "print(b)\n",
        "#want to combine 2 array in one array\n",
        "print(np.stack((a,b),axis=1))\n",
        "print(np.stack((a,b),axis=1))\n",
        "print(np.stack((a,b),axis=0))"
      ],
      "execution_count": 89,
      "outputs": [
        {
          "output_type": "stream",
          "text": [
            "[1 2 3 4]\n",
            "[ 4 16 36 64]\n",
            "[[ 1  4]\n",
            " [ 2 16]\n",
            " [ 3 36]\n",
            " [ 4 64]]\n",
            "[[ 1  4]\n",
            " [ 2 16]\n",
            " [ 3 36]\n",
            " [ 4 64]]\n",
            "[[ 1  2  3  4]\n",
            " [ 4 16 36 64]]\n"
          ],
          "name": "stdout"
        }
      ]
    },
    {
      "cell_type": "code",
      "metadata": {
        "id": "0IWQWoQMfhCb"
      },
      "source": [
        "#reshape a numpy array\n",
        "a = np.array([[1 ,2, 3, 4 ],[4 ,16, 36, 64 ]])"
      ],
      "execution_count": 90,
      "outputs": []
    },
    {
      "cell_type": "code",
      "metadata": {
        "colab": {
          "base_uri": "https://localhost:8080/"
        },
        "id": "vQ2fo7ppljcN",
        "outputId": "adc40621-ff6c-4170-d72b-a2040acb16f0"
      },
      "source": [
        "print(a)"
      ],
      "execution_count": 91,
      "outputs": [
        {
          "output_type": "stream",
          "text": [
            "[[ 1  2  3  4]\n",
            " [ 4 16 36 64]]\n"
          ],
          "name": "stdout"
        }
      ]
    },
    {
      "cell_type": "code",
      "metadata": {
        "colab": {
          "base_uri": "https://localhost:8080/"
        },
        "id": "gOM8dO7ullxT",
        "outputId": "8abea9bf-40b9-4501-a121-e9a666d8416f"
      },
      "source": [
        "a= a.reshape((4,2))\n",
        "print(a)\n",
        "# if you dont what another attribute would be to get a matrix , you can simply put -1 \n",
        "#they will automatically understand"
      ],
      "execution_count": 92,
      "outputs": [
        {
          "output_type": "stream",
          "text": [
            "[[ 1  2]\n",
            " [ 3  4]\n",
            " [ 4 16]\n",
            " [36 64]]\n"
          ],
          "name": "stdout"
        }
      ]
    },
    {
      "cell_type": "markdown",
      "metadata": {
        "id": "qtuuaLC0nRc0"
      },
      "source": [
        "# NUMPY RANDOM MODULE"
      ]
    },
    {
      "cell_type": "markdown",
      "metadata": {
        "id": "vukx4Lye_L_a"
      },
      "source": [
        "![Capture.JPG](data:image/jpeg;base64,/9j/4AAQSkZJRgABAQEAYABgAAD/4RDQRXhpZgAATU0AKgAAAAgABAE7AAIAAAADYWQAAIdpAAQAAAABAAAISpydAAEAAAAGAAAQwuocAAcAAAgMAAAAPgAAAAAc6gAAAAgAAAAAAAAAAAAAAAAAAAAAAAAAAAAAAAAAAAAAAAAAAAAAAAAAAAAAAAAAAAAAAAAAAAAAAAAAAAAAAAAAAAAAAAAAAAAAAAAAAAAAAAAAAAAAAAAAAAAAAAAAAAAAAAAAAAAAAAAAAAAAAAAAAAAAAAAAAAAAAAAAAAAAAAAAAAAAAAAAAAAAAAAAAAAAAAAAAAAAAAAAAAAAAAAAAAAAAAAAAAAAAAAAAAAAAAAAAAAAAAAAAAAAAAAAAAAAAAAAAAAAAAAAAAAAAAAAAAAAAAAAAAAAAAAAAAAAAAAAAAAAAAAAAAAAAAAAAAAAAAAAAAAAAAAAAAAAAAAAAAAAAAAAAAAAAAAAAAAAAAAAAAAAAAAAAAAAAAAAAAAAAAAAAAAAAAAAAAAAAAAAAAAAAAAAAAAAAAAAAAAAAAAAAAAAAAAAAAAAAAAAAAAAAAAAAAAAAAAAAAAAAAAAAAAAAAAAAAAAAAAAAAAAAAAAAAAAAAAAAAAAAAAAAAAAAAAAAAAAAAAAAAAAAAAAAAAAAAAAAAAAAAAAAAAAAAAAAAAAAAAAAAAAAAAAAAAAAAAAAAAAAAAAAAAAAAAAAAAAAAAAAAAAAAAAAAAAAAAAAAAAAAAAAAAAAAAAAAAAAAAAAAAAAAAAAAAAAAAAAAAAAAAAAAAAAAAAAAAAAAAAAAAAAAAAAAAAAAAAAAAAAAAAAAAAAAAAAAAAAAAAAAAAAAAAAAAAAAAAAAAAAAAAAAAAAAAAAAAAAAAAAAAAAAAAAAAAAAAAAAAAAAAAAAAAAAAAAAAAAAAAAAAAAAAAAAAAAAAAAAAAAAAAAAAAAAAAAAAAAAAAAAAAAAAAAAAAAAAAAAAAAAAAAAAAAAAAAAAAAAAAAAAAAAAAAAAAAAAAAAAAAAAAAAAAAAAAAAAAAAAAAAAAAAAAAAAAAAAAAAAAAAAAAAAAAAAAAAAAAAAAAAAAAAAAAAAAAAAAAAAAAAAAAAAAAAAAAAAAAAAAAAAAAAAAAAAAAAAAAAAAAAAAAAAAAAAAAAAAAAAAAAAAAAAAAAAAAAAAAAAAAAAAAAAAAAAAAAAAAAAAAAAAAAAAAAAAAAAAAAAAAAAAAAAAAAAAAAAAAAAAAAAAAAAAAAAAAAAAAAAAAAAAAAAAAAAAAAAAAAAAAAAAAAAAAAAAAAAAAAAAAAAAAAAAAAAAAAAAAAAAAAAAAAAAAAAAAAAAAAAAAAAAAAAAAAAAAAAAAAAAAAAAAAAAAAAAAAAAAAAAAAAAAAAAAAAAAAAAAAAAAAAAAAAAAAAAAAAAAAAAAAAAAAAAAAAAAAAAAAAAAAAAAAAAAAAAAAAAAAAAAAAAAAAAAAAAAAAAAAAAAAAAAAAAAAAAAAAAAAAAAAAAAAAAAAAAAAAAAAAAAAAAAAAAAAAAAAAAAAAAAAAAAAAAAAAAAAAAAAAAAAAAAAAAAAAAAAAAAAAAAAAAAAAAAAAAAAAAAAAAAAAAAAAAAAAAAAAAAAAAAAAAAAAAAAAAAAAAAAAAAAAAAAAAAAAAAAAAAAAAAAAAAAAAAAAAAAAAAAAAAAAAAAAAAAAAAAAAAAAAAAAAAAAAAAAAAAAAAAAAAAAAAAAAAAAAAAAAAAAAAAAAAAAAAAAAAAAAAAAAAAAAAAAAAAAAAAAAAAAAAAAAAAAAAAAAAAAAAAAAAAAAAAAAAAAAAAAAAAAAAAAAAAAAAAAAAAAAAAAAAAAAAAAAAAAAAAAAAAAAAAAAAAAAAAAAAAAAAAAAAAAAAAAAAAAAAAAAAAAAAAAAAAAAAAAAAAAAAAAAAAAAAAAAAAAAAAAAAAAAAAAAAAAAAAAAAAAAAAAAAAAAAAAAAAAAAAAAAAAAAAAAAAAAAAAAAAAAAAAAAAAAAAAAAAAAAAAAAAAAAAAAAAAAAAAAAAAAAAAAAAAAAAAAAAAAAAAAAAAAAAAAAAAAAAAAAAAAAAAAAAAAAAAAAAAAAAAAAAAAAAAAAAAAAAAAAAAAAAAAAAAAAAAAAAAAAAAAAAAAAAAAAAAAAAAAAAAAAAAAAAAAAAAAAAAAAAAAAAAAAAAAAAAAAAAAAAAAAAAAAAAAAAAAAAAAAAAAAAAAAAAAAAAAAAAAAAAAAAAAAAAAAAAAAAAAAAAAAAAAAAAAAAAAAAAAAAAAAAAAAAAAAAAAAAAAAAAAAAAAAAAAAAAAAAAAAAAAAAAAAAAAAAAAAAAAAAAAAAAAAAAAAAAAAAAAAAAAAAAAAAAAAAAAAAAAAAAAAAAAAAAAAAAAAAAAAAAAAAAAAAAAAAAAAAAAAAAAAAAAAAAAAAAAAAAAAAAAAAAAAAAAAAAAAAAAAAAAAAAAAAAAAAAAAAAAAAAAAAAAAAAAAAAAAAAAAAAAAAAAAAAAAAAAAAAAAAAAAAAAAAAAAAAAAAAAAAAAAAAAAAAAAAAAAAAAAAAAAAAAAAAAAAAAAAAAAAAAAAAAAAAAAAAAAAAAAAAAAAAAAAAAAAAAAAAAAAAAAAAAAAAAAAAAAAAAAAAAAAAAAAAAAAAAAAAAAAAAAAAAAAAAAAAAAAAAAAAAAAAAAAAAAAAAAAAAAAAAAAAAAAAAAAAAAAAAAAAAAAAAAAAAAAAAAAAAAAAAAAAAAAAAAAAAAAAAAAAAAAAAAAAAAAAAAAAAAAAAAAAAAAAAAAAAAAAAAAAAAAAAAAAAAAAAAAAAAAAAAAAAAAAAAAAAAAAAAAAAAAAAAAAAAAAAAAAAAAAAAAAFkAMAAgAAABQAABCYkAQAAgAAABQAABCskpEAAgAAAAM5NAAAkpIAAgAAAAM5NAAA6hwABwAACAwAAAiMAAAAABzqAAAACAAAAAAAAAAAAAAAAAAAAAAAAAAAAAAAAAAAAAAAAAAAAAAAAAAAAAAAAAAAAAAAAAAAAAAAAAAAAAAAAAAAAAAAAAAAAAAAAAAAAAAAAAAAAAAAAAAAAAAAAAAAAAAAAAAAAAAAAAAAAAAAAAAAAAAAAAAAAAAAAAAAAAAAAAAAAAAAAAAAAAAAAAAAAAAAAAAAAAAAAAAAAAAAAAAAAAAAAAAAAAAAAAAAAAAAAAAAAAAAAAAAAAAAAAAAAAAAAAAAAAAAAAAAAAAAAAAAAAAAAAAAAAAAAAAAAAAAAAAAAAAAAAAAAAAAAAAAAAAAAAAAAAAAAAAAAAAAAAAAAAAAAAAAAAAAAAAAAAAAAAAAAAAAAAAAAAAAAAAAAAAAAAAAAAAAAAAAAAAAAAAAAAAAAAAAAAAAAAAAAAAAAAAAAAAAAAAAAAAAAAAAAAAAAAAAAAAAAAAAAAAAAAAAAAAAAAAAAAAAAAAAAAAAAAAAAAAAAAAAAAAAAAAAAAAAAAAAAAAAAAAAAAAAAAAAAAAAAAAAAAAAAAAAAAAAAAAAAAAAAAAAAAAAAAAAAAAAAAAAAAAAAAAAAAAAAAAAAAAAAAAAAAAAAAAAAAAAAAAAAAAAAAAAAAAAAAAAAAAAAAAAAAAAAAAAAAAAAAAAAAAAAAAAAAAAAAAAAAAAAAAAAAAAAAAAAAAAAAAAAAAAAAAAAAAAAAAAAAAAAAAAAAAAAAAAAAAAAAAAAAAAAAAAAAAAAAAAAAAAAAAAAAAAAAAAAAAAAAAAAAAAAAAAAAAAAAAAAAAAAAAAAAAAAAAAAAAAAAAAAAAAAAAAAAAAAAAAAAAAAAAAAAAAAAAAAAAAAAAAAAAAAAAAAAAAAAAAAAAAAAAAAAAAAAAAAAAAAAAAAAAAAAAAAAAAAAAAAAAAAAAAAAAAAAAAAAAAAAAAAAAAAAAAAAAAAAAAAAAAAAAAAAAAAAAAAAAAAAAAAAAAAAAAAAAAAAAAAAAAAAAAAAAAAAAAAAAAAAAAAAAAAAAAAAAAAAAAAAAAAAAAAAAAAAAAAAAAAAAAAAAAAAAAAAAAAAAAAAAAAAAAAAAAAAAAAAAAAAAAAAAAAAAAAAAAAAAAAAAAAAAAAAAAAAAAAAAAAAAAAAAAAAAAAAAAAAAAAAAAAAAAAAAAAAAAAAAAAAAAAAAAAAAAAAAAAAAAAAAAAAAAAAAAAAAAAAAAAAAAAAAAAAAAAAAAAAAAAAAAAAAAAAAAAAAAAAAAAAAAAAAAAAAAAAAAAAAAAAAAAAAAAAAAAAAAAAAAAAAAAAAAAAAAAAAAAAAAAAAAAAAAAAAAAAAAAAAAAAAAAAAAAAAAAAAAAAAAAAAAAAAAAAAAAAAAAAAAAAAAAAAAAAAAAAAAAAAAAAAAAAAAAAAAAAAAAAAAAAAAAAAAAAAAAAAAAAAAAAAAAAAAAAAAAAAAAAAAAAAAAAAAAAAAAAAAAAAAAAAAAAAAAAAAAAAAAAAAAAAAAAAAAAAAAAAAAAAAAAAAAAAAAAAAAAAAAAAAAAAAAAAAAAAAAAAAAAAAAAAAAAAAAAAAAAAAAAAAAAAAAAAAAAAAAAAAAAAAAAAAAAAAAAAAAAAAAAAAAAAAAAAAAAAAAAAAAAAAAAAAAAAAAAAAAAAAAAAAAAAAAAAAAAAAAAAAAAAAAAAAAAAAAAAAAAAAAAAAAAAAAAAAAAAAAAAAAAAAAAAAAAAAAAAAAAAAAAAAAAAAAAAAAAAAAAAAAAAAAAAAAAAAAAAAAAAAAAAAAAAAAAAAAAAAAAAAAAAAAAAAAAAAAAAAAAAAAAAAAAAAAAAAAAAAAAAAAAAAAAAAAAAAAAAAAAAAAAAAAAAAAAAAAAAAAAAAAAAAAAAAAAAAAAAAAAAAAAAAAAAAAAAAAAAAAAAAAAAAAAAAAAAAAAAAAAAAAAAAAAAAAAAAAAAAAAAAAAAAAAAAAAAAAAAAAAAAAAAAAAAAAAAAAAAAAAAAAAAAAAAAAAAAAAAAAAAAAAAAAAAAAAAAAAAAAAAAAAAAAAAAAAAAAAAAAAAAAAAAAAAAAAAAAAAAAAAAAAAAAAAAAAAAAAAAAAAAAAAAAAAAAAAAAAAAAAAAAAAAAAAAAAAAAAAAAAAAAAAAAAAAAAAAAAAAAAAAAAAAAAAAAAAAAAAAAAAAAAAAAAAAAAAAAAAAAAAAAAAAAAAAAAAAAAAAAAAAAAAAAAAAAAAAAAAAAAAAAAAAAAAAAAAAAAAAAAAAAAAAAAAAAAAAAAAAAAAAAAAAAAAAAAAAAAAAAAAAAAAAAAAAAAAAAAAAAAAAAAAAAAAAAAAAAAAAAAAAAAAAAAAAAAAAAAAAAAAAAAAAAAAAAAAAAAAAAAAAAAAAAAAAAAAAAAAAAAAAAAAAAAAAAAAAAAAAAAAAAAAAAAAAAAAAAAAAAAAAAAAAAAAAAAAAAAAAAAAAAAAAAAAAAAAAAAAAAAAAAAAAAAAAAAAAAAAAAAAAAAAAAAAAAAAAAAAAAAAAAAAAAAAAAAAAAAAAAAAAAAAAAAAAAAAAAAAAAAAAAAAAAAAAAAAAAAAAAAAAAAAAAAAAAAAAAAAAAAAAAAAAAAAAAAAAAAAAAAAAAAAAAAAAAAAAAAAAAAAAAAAAAAAAAAAAAAAAAAAAAAAAAAAAAAAAAAAAAAAAAAAAAAAAAAAAAAAAAAAAAAAAAAAAAAAAAAAAAAAAAAAAAAAAAAAAAAAAAAAAAAAAAAAAMjAyMTowODoyNCAwMTozOToyOAAyMDIxOjA4OjI0IDAxOjM5OjI4AAAAYQBkAAAA/+ELFWh0dHA6Ly9ucy5hZG9iZS5jb20veGFwLzEuMC8APD94cGFja2V0IGJlZ2luPSfvu78nIGlkPSdXNU0wTXBDZWhpSHpyZVN6TlRjemtjOWQnPz4NCjx4OnhtcG1ldGEgeG1sbnM6eD0iYWRvYmU6bnM6bWV0YS8iPjxyZGY6UkRGIHhtbG5zOnJkZj0iaHR0cDovL3d3dy53My5vcmcvMTk5OS8wMi8yMi1yZGYtc3ludGF4LW5zIyI+PHJkZjpEZXNjcmlwdGlvbiByZGY6YWJvdXQ9InV1aWQ6ZmFmNWJkZDUtYmEzZC0xMWRhLWFkMzEtZDMzZDc1MTgyZjFiIiB4bWxuczpkYz0iaHR0cDovL3B1cmwub3JnL2RjL2VsZW1lbnRzLzEuMS8iLz48cmRmOkRlc2NyaXB0aW9uIHJkZjphYm91dD0idXVpZDpmYWY1YmRkNS1iYTNkLTExZGEtYWQzMS1kMzNkNzUxODJmMWIiIHhtbG5zOnhtcD0iaHR0cDovL25zLmFkb2JlLmNvbS94YXAvMS4wLyI+PHhtcDpDcmVhdGVEYXRlPjIwMjEtMDgtMjRUMDE6Mzk6MjguOTQ0PC94bXA6Q3JlYXRlRGF0ZT48L3JkZjpEZXNjcmlwdGlvbj48cmRmOkRlc2NyaXB0aW9uIHJkZjphYm91dD0idXVpZDpmYWY1YmRkNS1iYTNkLTExZGEtYWQzMS1kMzNkNzUxODJmMWIiIHhtbG5zOmRjPSJodHRwOi8vcHVybC5vcmcvZGMvZWxlbWVudHMvMS4xLyI+PGRjOmNyZWF0b3I+PHJkZjpTZXEgeG1sbnM6cmRmPSJodHRwOi8vd3d3LnczLm9yZy8xOTk5LzAyLzIyLXJkZi1zeW50YXgtbnMjIj48cmRmOmxpPmFkPC9yZGY6bGk+PC9yZGY6U2VxPg0KCQkJPC9kYzpjcmVhdG9yPjwvcmRmOkRlc2NyaXB0aW9uPjwvcmRmOlJERj48L3g6eG1wbWV0YT4NCiAgICAgICAgICAgICAgICAgICAgICAgICAgICAgICAgICAgICAgICAgICAgICAgICAgICAgICAgICAgICAgICAgICAgICAgICAgICAgICAgICAgICAgICAgICAgICAgICAgICAKICAgICAgICAgICAgICAgICAgICAgICAgICAgICAgICAgICAgICAgICAgICAgICAgICAgICAgICAgICAgICAgICAgICAgICAgICAgICAgICAgICAgICAgICAgICAgICAgICAgIAogICAgICAgICAgICAgICAgICAgICAgICAgICAgICAgICAgICAgICAgICAgICAgICAgICAgICAgICAgICAgICAgICAgICAgICAgICAgICAgICAgICAgICAgICAgICAgICAgICAgCiAgICAgICAgICAgICAgICAgICAgICAgICAgICAgICAgICAgICAgICAgICAgICAgICAgICAgICAgICAgICAgICAgICAgICAgICAgICAgICAgICAgICAgICAgICAgICAgICAgICAKICAgICAgICAgICAgICAgICAgICAgICAgICAgICAgICAgICAgICAgICAgICAgICAgICAgICAgICAgICAgICAgICAgICAgICAgICAgICAgICAgICAgICAgICAgICAgICAgICAgIAogICAgICAgICAgICAgICAgICAgICAgICAgICAgICAgICAgICAgICAgICAgICAgICAgICAgICAgICAgICAgICAgICAgICAgICAgICAgICAgICAgICAgICAgICAgICAgICAgICAgCiAgICAgICAgICAgICAgICAgICAgICAgICAgICAgICAgICAgICAgICAgICAgICAgICAgICAgICAgICAgICAgICAgICAgICAgICAgICAgICAgICAgICAgICAgICAgICAgICAgICAKICAgICAgICAgICAgICAgICAgICAgICAgICAgICAgICAgICAgICAgICAgICAgICAgICAgICAgICAgICAgICAgICAgICAgICAgICAgICAgICAgICAgICAgICAgICAgICAgICAgIAogICAgICAgICAgICAgICAgICAgICAgICAgICAgICAgICAgICAgICAgICAgICAgICAgICAgICAgICAgICAgICAgICAgICAgICAgICAgICAgICAgICAgICAgICAgICAgICAgICAgCiAgICAgICAgICAgICAgICAgICAgICAgICAgICAgICAgICAgICAgICAgICAgICAgICAgICAgICAgICAgICAgICAgICAgICAgICAgICAgICAgICAgICAgICAgICAgICAgICAgICAKICAgICAgICAgICAgICAgICAgICAgICAgICAgICAgICAgICAgICAgICAgICAgICAgICAgICAgICAgICAgICAgICAgICAgICAgICAgICAgICAgICAgICAgICAgICAgICAgICAgIAogICAgICAgICAgICAgICAgICAgICAgICAgICAgICAgICAgICAgICAgICAgICAgICAgICAgICAgICAgICAgICAgICAgICAgICAgICAgICAgICAgICAgICAgICAgICAgICAgICAgCiAgICAgICAgICAgICAgICAgICAgICAgICAgICAgICAgICAgICAgICAgICAgICAgICAgICAgICAgICAgICAgICAgICAgICAgICAgICAgICAgICAgICAgICAgICAgICAgICAgICAKICAgICAgICAgICAgICAgICAgICAgICAgICAgICAgICAgICAgICAgICAgICAgICAgICAgICAgICAgICAgICAgICAgICAgICAgICAgICAgICAgICAgICAgICAgICAgICAgICAgIAogICAgICAgICAgICAgICAgICAgICAgICAgICAgICAgICAgICAgICAgICAgICAgICAgICAgICAgICAgICAgICAgICAgICAgICAgICAgICAgICAgICAgICAgICAgICAgICAgICAgCiAgICAgICAgICAgICAgICAgICAgICAgICAgICAgICAgICAgICAgICAgICAgICAgICAgICAgICAgICAgICAgICAgICAgICAgICAgICAgICAgICAgICAgICAgICAgICAgICAgICAKICAgICAgICAgICAgICAgICAgICAgICAgICAgICAgICAgICAgICAgICAgICAgICAgICAgICAgICAgICAgICAgICAgICAgICAgICAgICAgICAgICAgICAgICAgICAgICAgICAgIAogICAgICAgICAgICAgICAgICAgICAgICAgICAgICAgICAgICAgICAgICAgICAgICAgICAgICAgICAgICAgICAgICAgICAgICAgICAgICAgICAgICAgICAgICAgICAgICAgICAgCiAgICAgICAgICAgICAgICAgICAgICAgICAgICAgICAgICAgICAgICAgICAgICAgICAgICAgICAgICAgICAgICAgICAgICAgICAgICAgICAgICAgICAgICAgICAgICAgICAgICAKICAgICAgICAgICAgICAgICAgICAgICAgICAgICAgICAgICAgICAgICAgICAgICAgICAgICAgICAgICAgICAgICAgICAgICAgICAgICAgICAgICAgICAgICAgICAgICAgICAgIAogICAgICAgICAgICAgICAgICAgICAgICAgICAgPD94cGFja2V0IGVuZD0ndyc/Pv/bAEMABwUFBgUEBwYFBggHBwgKEQsKCQkKFQ8QDBEYFRoZGBUYFxseJyEbHSUdFxgiLiIlKCkrLCsaIC8zLyoyJyorKv/bAEMBBwgICgkKFAsLFCocGBwqKioqKioqKioqKioqKioqKioqKioqKioqKioqKioqKioqKioqKioqKioqKioqKioqKv/AABEIALICyQMBIgACEQEDEQH/xAAfAAABBQEBAQEBAQAAAAAAAAAAAQIDBAUGBwgJCgv/xAC1EAACAQMDAgQDBQUEBAAAAX0BAgMABBEFEiExQQYTUWEHInEUMoGRoQgjQrHBFVLR8CQzYnKCCQoWFxgZGiUmJygpKjQ1Njc4OTpDREVGR0hJSlNUVVZXWFlaY2RlZmdoaWpzdHV2d3h5eoOEhYaHiImKkpOUlZaXmJmaoqOkpaanqKmqsrO0tba3uLm6wsPExcbHyMnK0tPU1dbX2Nna4eLj5OXm5+jp6vHy8/T19vf4+fr/xAAfAQADAQEBAQEBAQEBAAAAAAAAAQIDBAUGBwgJCgv/xAC1EQACAQIEBAMEBwUEBAABAncAAQIDEQQFITEGEkFRB2FxEyIygQgUQpGhscEJIzNS8BVictEKFiQ04SXxFxgZGiYnKCkqNTY3ODk6Q0RFRkdISUpTVFVWV1hZWmNkZWZnaGlqc3R1dnd4eXqCg4SFhoeIiYqSk5SVlpeYmZqio6Slpqeoqaqys7S1tre4ubrCw8TFxsfIycrS09TV1tfY2dri4+Tl5ufo6ery8/T19vf4+fr/2gAMAwEAAhEDEQA/APpGiiigAooozQAUVFDdQXO/7PPHL5bbX8tw20+hx0NLcTxWttLcXDhIokLu56KoGSfyoAkorBsfG3hrUBdmz1q0kSziWW4k8zCRK3Qljx+vHenaH4y8PeJZJ00PVbe8ktziWNCQy++04OPfpQBuUVzkfj/wpLqVpYJr9kbm8UNBH5v389BnoCewOCe1Wtc8XaB4alt49d1a2sZLlgIklfDNzjOOy56seB3NAGzRXLfD7xLdeK/Dc+o3htyVv7mCNrcfI0ccpVD1OcgA571uJq9hJrUukJcob+GBbiS3/iWNiQG+hIIoAu0Vx3xC1/WdF/sC18PS2cNzq2qJZNLeQtKsasjtnarLk5Ud6ytc1vxt4JtrbVdcvtH1jTmu4be4gtrKS2mUSOEDITI4YgsPlwMjvQB6NRWLr3i/w/4Y8v8At7VbezaQZVHJLEeu0ZOPfpU83iPRra0tbqfVLVLa8z5E5lHluApYkN0xtBOc0AadFZGg+KtD8T2802g6nb3yQNsl8puUPuDyPb1rk/E/xT0u2aztfC+radfX76ta2c8RbfiOR9rlcEZIweQSB3oA9DorB1nxt4a8PX0Nlret2dlczfdilkAIHq390e5wKs6n4l0XRREdV1O2tFnjeWJpXAV1QAsQehwCPzoA1aK5iT4jeEItJt9Sk8Q2ItLiTy45PM/izggjquO+QMd8V0iSLLGskTK6Ou5WU5BB6GgB9FZUHiTSbnw8+uwX0TaZHHJJJc5IVVTIcnvxtP5VV1Txx4c0WztbnVNWt7eO7RZINxJZ0IyG2gZxyOcYoA36K5LxB4tktLzwsdEltLqz1nUVt5JvvgxmNmyhBxnIHPNbsGu6bc2d7dQXcbwWEssN04ziJ4/vg/SgDQorGvPFmg2GgQ61eapBDp1wivBOx/1oIyNo6sSOcAZqe38QaRdaKdXg1K1bTlXc10ZVEa/U54PseRQBpUVk6F4n0bxNbvNoWoQ3iRnD+WeUPup5HT05qDXtUu7DWNDgtbrToIry6MU6XZfzJV2EhYdvG7IB+bjGaAN2iubl+IHhOCa3hn1+xjkuXaOMNJj5gcHP93kEDOM9s10YYEAg5B5BoAWiuevfHnhfT9bGkXmt2kV8W2mJn+6391m6KfYkGugoAWiucuviB4TstRu7C616yjubOMyTxmUZjA6j/eHdeo9KivPFK6T4j1H+19S0yDR7Wzhl2jf9ojd3K7n427D8oBHOc5oA6iiqV/rFhpclml/cpA17Ottbq3WSQgkKPyNZ8njXw3FryaLJrVmuoOdqwGUZ3f3c9A3+yTn2oA3aKw9Y8ZeHvD800Wtatb2csESSvHI3zbXYqpA6nJVumelaWnalZ6tp8N9pl1Dd2s67o5oXDq49iKALVFYms+MvD3h+9htNZ1e1tLmbG2KST5gD0Yj+Ffc4HvWXrvjNdD8Z6VZ3d1Z2+kXVjcXM1xMcEMhTbtbOOdx4wSeMUAdfRWZpXiPR9b0g6ppWpW9zYqCXnV/lTHJ3Z+7juDjFVNF8beHPEN/LZaNq9tdXMWS0SthiB3UH7w9xkUAb1Fc5N4/8KW17BaXGvWUU9xK8UcbyYO9G2MDn7vzcc4yemav674k0fw1aLc67qMFlE52p5jcufRVHLfgKANSiq1hqNpqtlHeadcxXVtKMpLC4ZW/EVZoAKKKKACiiigAooooAKKKKACiiigAooooAKKKKACiiigAooooAKKKKACiiigAooooAKKKKACiiigAooooAKKKKACiiigAooooAKKKKACiiigAooooAKKKKACqWs2c+oaHfWdpMbee4tpIopgceWzKQG49Cc1dooA8Q+B3wm8V+APFGqaj4ju4DbXFsYVhhnMnmyF1bzDwOgUjnn5q9c8SnHhPVj6WU3/oBrTpGVXUq4DKwwQRkEUAeOXMmnaH8APC7/wBkWN5FJ9iXfeZFvAWIbzpio5RW5OeCetUNG1Bbj44aHMdZ0vUXl0y7jEulWPkwDChvLEu4+dj73HT8a9u+zQ/Z/I8mPydu3y9o249MdMUyKxtIVjWG1hjWLPlhIwNmeuPTNAHir6TpsH7KM88VnAsr2pufNKAt5vnZD7uuc9D2rolvtE0H4reJp/Gb21t/aMFt/Zt1fKNksATa8SMeM+ZklOpyDg16UbS3Nr9nMEXkYx5WwbcfTpRcWdtdqi3VvFOEYMgkQNtI6EZ6GgDgfgk9pJ8PpH02PyrRtUvDCgQptTzm2jaenGOO1dhHqGjv4puNPieH+2Y7VJZUCfP5JYhSWxyNwbjPH41oxxRwqRDGsYLFiFUDJPU/WgRRiYyiNRKw2l9oyR6Z9KAPOvi/YW+qy+DbC83mC48QxJJ5blGx5cnRhyPwrC8Q+EdL+G/iXSvFLwz6noKTpDdrf3Ek/wDZjMcJcx7mxjJAYEEjgjFexSQxSlDLGjmNtyFlB2n1HoaSaCK5haK4jSWJxhkdQwYe4NAHkGteILVviNrKW0ugaDJ5EAfUNTga6uNQQoSpgi3AOgHHynknkVzng+3tNS8JeBLG9VJ4U8TXIMEkXlgFBIQpj/hx129ule/PY2sssTyWsLvD/qmaMEx/Q9vwpwtLcMrC3iDK5kB2Dhj1b6n1oA8p8Z6Xcy/EDxDaeGolhv7vwa+1YAEaSTzyqnjGTjIB/CsbXtb8F3nhHwTYaN9jXULfVtPUWscQE9qA4EiuMZQnDDBxuPTNe4iGLz/O8tfN27fM2jdtznGfSov7PsvOkl+yQeZIys7+UuWK8qScckdvSgDy3RdW8M+GtT8YWnj02ttqV3qU85+3RgtfWrKBEI8/6wBPl2Lkg5GOecjwxo8gvfhbZ6/aMBHHq00NrdpkxR5VoQVPQrGVwD06dq9rns7W5likubaGZ4TujaSMMUPqCelSNDE8qSvGjSJnY5UZXPXB7UAeW6RpWmyeIfig5srdn3rG2YwcA2oLDHvnn1rqfhcc/Crw3znGnxAfQDFdQtvCpkKxIDL/AKwhR8/GOfWljiSGJY4kVEUYVVGAB7CgDxfV7Gaz8Vaj8OYUdbHxLqUeoxsq8JbHL3a+w3Rhf+2tWde1azsPiRqlhanw/wCHpI7W3R73VLdri4vE2HasEWQGVQNpCnJPUV6+YYzMspjQyKCocqMgHqM0yaztriaOWe3hlkiOY3dASh9ielAHgPg2aM6D4LQSDK+LrpQhi8kgjfx5X8HHO3tmuitPEuk6DoHj/RtVvEt9Ul1PUZobJgfOmjlBKOidWUjuMgd8V659jttwb7PFuVzIDsGQx6t9fekeztpLpbmS3iedVKLKyAsFPUA9ce1AHgEcUtvL4E1W81S10jTV8MxQ22oahp4vLaO4zlgcsoiYpjDk8gEVdTStKm8P+Jb6fxFPfadc31pI97o+hCG2tp1P+vClmWZMbfMIBGOeT09zeztpbT7LJbQvbbdvktGCmPTb0xTo7eGG3EEUMaQqNqxqoCgemOlAHlPgPVHn+Jk0Cz6H4h36cd+uaPCYWiVXG2OZQTGSSSQAcjB7V0Hj5gvi7wLk4J1dgP8Avy1dnbWVrZRGOyt4rdCclYkCgn6CnvDHK6NLGjtGdyFlBKn1HpQB43pGlae/wJ8cXJtLeSab+1JJJGjDEsofbyfTAx6dq9R8LEt4O0ZmySbCAkk9f3a1oi2gWFoVgjET53IEG1s9cjvmpURUUKihVUYAAwAKAPmjW9bttQ+GfiGO2fw9okbLcOdDhsXu7/fuIJmLEGNsjO8ggDBB4r6FsGefwrbNaOrSSWSmJw2QSUGDnv8AWrZ0+zM8sxtIDLMuyRzGNzr6E9x7VKI1WLy0UIgXaAvAA9BQB8+ahqHhW3/Zzn0O/jgXxDbW225snh/0pLsON8rDG773PmHgjvXezaVaeIfiR4m0a/VXiutAt4pFJ6Bmbn8wD+FJL8LdSvGksdS8UtdaRIQkgaxQXs0Abd5L3OdxXgAnHI4r0YQxrM0wjQSMAGcKNxHoTQB5F4Lk1Lxd4gtYdSV/N8G2MmnyTsMCTUDmNnyev7tUYHsXrjLGyg/4QGfQdc8WaXp18zut3pcnhvzr8zlz8y/vN0rbsFXAxjHpx9IRwxxFzFGiGRtzlVA3H1PqajextJLxLt7WFrlBhZjGC6j0DdRQB554e0qF/i5K2or9tubTwvYItxcwgSZMk25tvO0kqCfTpVz4SrFFp/ia3tlRIYPEd5HHHHwsYypwB25J4rvBFGJTKEUSMApcDkgdBn8aSOGKHd5MaR72LtsUDcx6k+9AHjvjJ9PsfHOu3EOv6fo97c20KXNn4ksVktL9QpCmKTO7GCQVGee1Hh2Oz1rxL8O2v9Ei0/ytIu5YdPcErCQyqCqvzjHIzyNw716/cWVrdlDdW0MxjO5DJGG2n1GelSNDG0yytGhkQEK5UbgD1ANAHiviK4s9F1P4n7tHi1C0zpjSWZ3JDl4yGkk2DO0YDMRnIFVLbVVuvih4IuG1zQb/APfzxKNEs9kUIMOAn2jJDk8DZgHvjivcxBCGkcRIGlGJG2jLgevrUcWn2UEaxwWkEaI/mKqRKAG/vAAdfegDxbStY8G2ngbxfp+qpbnU7zUdSVraSDfNeOZWEYjGMyYygG3O0jtiq1xYato3ibw3c+Jtbs9EMfhi1tY77VdOF5Ctwu7zo97Oojk+6SxPzDjtXrfhrwrBoNk8U7R3k3225uopmhAaLzpWkKqecYzjjritq4tLe7tzBdwRXER6pKgZT+BoA828B3+jeFvD/iPXrrXobnSGvRLLdW+lNZ2qNtRGMSgtvBOMsOC2TXpsciyxq8bblYBlI7g0w20BthbmGMwgACLYNoHpjpUoGOlABRRRQAUUUUAFFFFABRRRQAUUUUAFFFFABRRRQAUUUUAFFFFABRRRQAUUUUAFFFFABRRRQAUUUUAFFFFABRRRQAUUUUAFFFFABRRRQAUUUUAFFFFABRRRQAUUVS1i9k03Q76+hgNxJbW8kyQr1kKqSF/HGKALtFeI/A74v+IviF4o1XTdetLcQQwNcxSwRlfK+dVEZ9eGJBPPymvXtfmkt/DepTwOY5I7SV0cdVIQkEUAaGaSvJdOvddsPhVbeJdV8Zm2vNVgt/NmvIhJHbBjyII1GWkKnAB+8eTUHhLxPqEHxHtNHt9W1zVNJ1Cymm3azYtCySR8honYAsp7jGBQB7FSZ5rxBLrxinwnh8fT+LLj7XaRCZbARL9nmiWTbtkHVmYcls8HpXV3La54y8e65pll4gutCsNA8hEWzRTJcTugk3uWBygBC7O/OaAO00bXdP8AEFi93pM5mhjnkt2YoyYeNirDDAdCDzWh3rw/w7da9pfgDRrPTdUWHULvxfPaXF2IQVYGSYu3l5xg7c7c9celdj4c/tjw/wDEZ/Dl9r11rVlc6b9tje9VfNhkVwrAMoGVOc4PSgD0CoLy7hsLGe8un2Q28bSyNgnaqjJOByeBVLW9MvNTSzFjqs+mm3u455TCoPnovWI57HvTPFn/ACJmtf8AYPn/APRbUAc9H8XvCktot3EdWe2ZN6zrot2YyvXdu8vGPeut0zU7LWNMt9Q0u5jurS4QPFNGcq6nvXjmi+KvHXhb4R6LqA0rRH0iGwhzefaJ3a3jwB5kkSpkgdwucfSrV7PcfDrwH4T8M+HNRuLj+1ppTJqVhZm6l2FWmcwwr67sA8hV5oA9hZ0jjZ3YKqgliTgACo7K9ttRsoryxnS4tp1DxyxnKup6EH0ryXSdV167bWtAkl8SzaPNpUssOp6lpslpcWswBynmMAHBHIOMjpUfw/lvtH0P4X2cGqXc1tqkU8k8Uz5XaLTcsY44VWGQKAPZaK8j8a+Jta0/XPHcVlqM0SafoEFxaopGIpSzZYe54p+pf8JPonhnw3cQeJ7m61PXtVsopJLhFMUIeNy4VBj5cds8kA0AesZ5pa8/0E6z4d+JEfh291261qxvNMa8Vr1V82GVHVWwwAyrbs7e1aHxH1ebSdCtWi1630JJ7pYprhoTNO6YJKQIOshIHY4GT2oA7DNFeVfDvxDqD/EK90BtR1jUNMOmi9gfWrJoJkbzApClgC6EHOSPpW58SrnxBbxaX/Y39ppprTsNTk0iFZbtU2/JsU843dSoJAoA7mkzXk2meMbs/D/W5rXxrYs1lcJHHf6pZyR3NojnlJoTjfJ1CY+8areFfE1/b/EbSNMtda13VNM1WG4aY6zpzQqHjj3hoXYAkHuoyAKAPYs0Zrw+51HxhH8NbvxuniidbnTbuUW9i0SmCSJbgx7ZO7E9c5GOldWh13wv48021uvEVzq9vrFndyTR3MShYpYVRg0YH3VO/G3kcUAejVnW2uafda/eaNBMWv7KKOaeLYw2LJnackYOdp6GvKLabxhH8MD45bxbMbuzSWZLFo1NtJEkrApJ3Zio+9wRkAdKXUPGEmheJPG3iiztd8y6FpcsULn+KQuFB9cFxx3xjvQB7N3pa8T0vxJ4n03VtJuYJfFutvdXKRalbXvh+SCAK/BkjJAEWwkHHII616F8TNVuNF+GPiDULJylxDZSCJ1OCjMNoYe4zn8KANzStYstbtWutMlM9usrRCUIQrlTglSR8wz/ABDIOOtXa861VtQ0+28G+C/Dl/8A2UNRhdZb5Ig7pFDCGYIDxvYnr25OKz7zUte8H3+ueHZdbuNUh/4R641Wxu7lR9otnjIQqzjhhlgQSMjGKAPVaU1yfgOw1ZNFg1XXdcudSutSt4p5InVVhgYqDiNQOB9evWuV8f6nrtl4qnN9fa/pehR2yPZ3mi2QuI1l/jNwBlwBxgY2kd80AerUZryvWfFc1z4N8NyyeMra3j1BH+0XOk20klzfFQABAmMpzkvkZXgcVzknjTX7PwX45toNU1SRtJggl0+71K0NtdKJGHDBgCwB6EgEg0Ae7ZoryfUYPF2k+LvD2nJ4vuJT4kSdLtpbdCts0aBw0C4+Tg7ec+vWqup634j0Hwp410y21ua7utGu7JdPvroAyqs0ifLIw+9jJGcZINAHsQNZuheIdN8S2Mt3o1wbiCKd7d2MbJiRDhhhgDwe9cXJH4h8FeJ9BkvvElzrdtrl8bK6trmJVEUjI7rJDt+4o2Y28jHPWuF0bxPqWh+CbbTtHkuIJdY8R6jG9zZWZu54kRmdjHEOrHGM9hz2oA+gO1FeTeGte8VRahqml6bHrmp2zabLPY3WvaZJbNDdD7sTSNgOrZz0yMY6VV8J+JNRtfGWlWes+ItWgvb7cl7pniCwMSzSbf8Al2kUbAQw4AOGHTmgD1fTtXstV+0ixmEjWs7W86FSrRup5BB59wehBBHFVPEXirSPCtrbz61cPGLmYQQRxQvNJK552qiAsTx2Fc3DOdN+PFzZwgLBq2iJdTKO80UhQMf+AFR+FY3xR0J9T+IXgdhq+pWay3kkW20n8sJhd25eOGONpPocUAeoW86XNvHNHuCSIHXepU4IyMg8g+xqXNeV2N5rZ1Lxdr15rt49j4dvZjbaZHtVJlS3DlXbGSCTwO2M9+KN7P4s0L4fQ/EKbxXPeXXkw3lxpZgQWjxSFf3SL1UgNw+SSRz1oA9iozXl4TxB4u8a+J7C28T3mkWFhHaS2y2yLv3yRFhknooI5X+LnpWHY6z4tfwR4f8AHF54kle5uLy2t5tPSBVtnikn8lgV67v4t2evGKAPaZpo7eB5p5FiijUu7ucKqgZJJ7Cs1vE2krdaTbi7DvrAc2JRGZZgqbydwGB8vPOM1Q+IVs138NvEMSzTW5/s6dt8Jw3CE4+hxg+xNeY22i366d8K7HT9buo7i5SeQXkwErwo1rkogPGAPlX096APcaUHNePXHjDXPA0XjjT5b+XWxodpb3VhNegGUGb5djlcbwG5z17VX0nxD4m0/X9JltrjxXrX2y6jg1O31Hw/LbwKjHBljJAEW3rtyQR1oA9ivLyGwtWuLlisakAkKSckgAADk8mktL6C+jeS1fzI0kaMsAcFlO1seuCCM+1V9b0Wy8Q6RNpmqRtJazFC6q5Qkq4ccjkcqK4bxlpepeGNPgi8IQ6nFp1/qU11rD6Ugnu18zktErHgFzztGQOgoA9Bv7+00uxlvdRuI7a2hXdJLKwVVHuamjkWWNXQ5VgGB9Qa8G8S6qfEXwV8UWy+J7jUhps8LIJIGtrxF3qPKuEYfMM5IYfex7V0fiG8l0S20TQbjxlqEEI08yNHZQvdaneP2YlVO1B6456UAesZxRXiFr4x8SS/DXV1h1K7Goadr8Gn215fWvkztG8sYHmx8c4cg9CR6Zrqbc634Q+IOnWd54hvNasdWtrmWeK6jXMUsY35i242qQcbOelAHb6zrNj4f0W61bVpTDZ2qb5pAjPtXOM4UEn8KuRyLLEsiHKOoZT6g14R4jtfEfib4H3/AIyu/E86m/szcSaWsa/ZVgLZESjqGAH385JrpPFutv8A21baZL4qu9PgWyjeLTtBtZLi+dyB88hUHavYL3zmgD1XNLXjVp4v8R6h8PdHKapPBqLeKF0k3s1qI5GjEzLmSE8Bto5U962J7PW7vxdB4Ht/FOpW1rZaX/aFzqI2m7uWeZkRN5GFVdvJAyelAHfafrdhqt5qFrYzGSbTZ/s90uxl2SbQ2Mkc8MDkZHNX687+Ftpe2GseNbbVL4ahdx6yvmXQjCeYDbxFSVHAO3AOO+aXxB/bus/FIeHtP1640rTW0gXNwbZVMhbzSoCEj5cjq3XgUAeh5pM15EPFPibTvD11oK6otxqg8TLoNrq9xACUjaNZRI6jhnCkr2BOK2IW1rwR450PTLnX7vXdO10ywlL4KZbeZE371YAfIQCCp6cYoA9GzSZrxjTtQ8TJ8FbvxrP4jvLm+k09vs9s20RRATHaTgZL44LdxWhqFr4s0vxb4e09PGN1KPEqTJeNJboRbtHF5m6AdI8j5cHIHXrQB6xSZrymPXtb0HTPGGk3Xie3RtGuYEttX1aPe8cc0SyEEL/rGGSF7k9apeGfE1/bfEjRtPsta13VNM1eO48/+2dPaFA8ce8NC7AZ5PKjIxQB3MnxL8KxWdtdPqLCK6N0Ij9mk+Y22fO428bcH69s10en39vqmmWuoWT+ZbXUKTwuVK7kYBlODyOCOtcH8K9Ntr7wDE867il7qCIQegedwxHvjj8TXcyGDR9Fc28O23srclIk7Ki8KPwGKAI9b1uw8O6Lc6tq8xgsrVd0sgRn2jOOigk8nsKjsvEWmajqsum2lwXu4baK6ePy2GI5M7DkjHO08dR3rxfxPa+IvEvwSvvF954nuf8AiYW3nvpYiT7KsDSDbEB1DAY+fOc5FdXFrPiU6nrtj4fl+0XNt4dsZrG2l27BM2/cRnAyQB1OMgUAen5qtY6lZ6nA82nXMdzEkjRM8TbgGU4Iz7GvKvBuu3cnimDSLzxLrcU19byC40/X7Bre48zbnfbOBs45+XJGORmue0CPVvDfwdM+h69fR3l54ijtlluCsghBufLJCkAHcDlgepoA9uuPEGm2uvwaLPOVv7i3e5ji8tiDGhAY7sYGMjjOal0fV7LXtHtdU0qUzWd3EJYZChXcp6HBAI/GuGRtT0L4haR4fl1q91G1l0y9uJWumBaRvMUrnA/hBIHtXH6HB4l8N/BHS/GNr4lmJ07T45k0ryl+yyW4P+rbuXIP+sz1GMYoA91zVe81C008Qm+uI4BPKsMXmNjfIeij1JweK5PwtrF7qHxM8YWk9xK9naLYm2gfpFvg3Nj6nrXnWp/b/FXg7wnc6hreoxz/APCXS2wkglCnHnyqjdPvIFAU9uetAHtdprVjfapf6dbTF7rTmRblDGwCF13LyRg5Bzxmr9eU+IfGWseH7jxVBZXRmnjvdPsLB7kb0t2mjUF2HcZyx9TirlwviDwFr3h95/E11rtnrGoJp91b38abkkdWYSxFQNoG0gpyMH2oA9JzxS14jYT+LtV+HeteKx4uu7afR5r17O3SJDG6Qu52y5GXyBt7bQBivYtJu2v9GsruQAPcW8crBegLKD/WgC5RRRQAUUUUAFFFFABSEZpaKAIobWC3LG3hji3HLbEC7vrimX9ot/ptzZyMVW4heJmHUBgRn9asUUAcnfeALK+8F6X4fN7dwnSTDJZ3sLBZYpYhhH6YP0xg1W0/4ci28UWHiLUPEGpanqlpDLA8lwV2SI64wEAwmDz8vU9a7WigDk5PAVpJ8M28Fm8nFs0HkfaMDfjduzjpRrXgRdQ13+2dI1m+0PUJo0hvJbPaRdRqeAysCNwGQHHIBrrKKAOK0r4aWOkaNpemwahdyxabqzapHJMQzyMd/wArHv8A6w89Tit1/D0L+Mo/EJmfzo7JrMRYG0qXDZ+vFa9LQBla7o0+sJZLb6te6Z9lu0uHNowUzqucxPnqhzyParepWS6npN3YSOUS6geFmXqoZSM/rVqigDK0TQLfRfClnoIJura1tltsyqP3igY5HTkVzdl8L7Cz8LQ6INTvylhdPcaXdLJsnsM5wiOOSoBK4PVTiu5ooA5bQ/BX9nz3F1rWtahrl7cQm3Mt2+1EjPVVjXCqT3OMmsqH4Wpb+G7DTIvEGoLNpE5k0i+VUEtku3b5fTDrjghgc131FAHAt8KbWWPXGudav7m51ywSzu7icqzEqSd4GMDrjb0GK39S8JwalY6DbPcyIuiXkF3GVUZkMSFQD6A7q36KAMebw9DL4ytvERncTW9k9mIsDaVZ1bd65+Wq3izwlF4oispEvrnTdQ0+bz7K9ttpaFypU/KwKsCCQQRXQ0UAcjoPgGPRfFn/AAkc2sX+o6jJYmzne7cMJF3hwQOiYIPA45NXvE/hSPxEbS5h1C70vUrFma1vbRsMm4YYFTwykdjW/S0AcP8A8Kt0+bSb6K/1TUbrVL6aC5m1ZpFWYSw8wsoA2qEycLjHJp9j8Omh8R6Vr2p+ItS1PU9O81RJcFQkiSJtK+WBtXscrgkjmu1ooA5CX4e2kvw8vPCRvZ1t7t5Ha4Cjeu+XzOB068Vp6v4ei1DXNP1hpZFl06G5jSJQMP5yqDn6bBityigDyTwb8M31DwVp9vrmpatBp0jSS3ehO22KR/OZgDkblQ8EoDg5zXaTeBdKvNa1q9vx9pg1iyhsp7R1GxUj3YIxzn5vwwMV09J3oA4vTvh29rqFs+oeKNZ1OwsXD2ljcT4VCPu72GDLj/arofEmiw+I/DOo6NdNsivraSBnAyU3KQGA9QcH8K1KSgDhbPw83i7wZpUeti80jXNHbZHdQEpJBOi+WXQnh0YfUEHFT2Xw5gjs9VfVdWvNU1XVrNrKfUbnbuSIg4WNAAqDJzgdTya7SigCrpliumaVa2Mbl0toUiVm6sFAGf0rm9b8DSX+vS6voniDUdCurpUS9+ylWS4VRhSVYEKwHG4dq66igDh7j4X2MNrpX/CO6pfaNfaWkscV7EVleRZW3SiQOCGLN82eDnmqs3wjsprbX4pNa1KZtft4IruW4cSvujbO8E9MjA29ABxXoVFAGJqXhmDUfEOh6tJPIkmjGYxxgDEnmIEOfpiuR+I3g4t4P8Wz2C3F5ca5JZl7eNclRHKgO3HP3cn2xXpNFAHIaT4BWy1yHU9W1zUtaNkW/s6G8cbLQMCM8Ab3wSN7ZODiq8Hwt0uHw6dM+2XazJqE2oWt9C/lTWsshJ+Qjtg7cHqODXb0negDkdN8AxpHeHxHrOoeIJ721e0ka7k2IkTfeVI1wqk4GW6nHWq+n/DcRanZT6z4i1TWbTTJlm0+zu3XZC6jCsxA3SMvYseK7eigDkND025v/iJrPiW+tpII44U0uwEgwzxIxaSTHYGQkA91UHvWprXhqHWtb0XUpZ5I30idp40UAiQsu3B/OtuigDD0rwxbaZJrO5zcx6vdNczRyKMDcioV9xhf1rnYfhTaosWnT67qlz4cgdZIdElkBiUqcqhfG9owQMITgYHpXfUUAYuneG4dO8Ra1q0cztJq3k+ZGQAI/LUqMfXdWVF8PLSPwLp/hj7bOYLGeGdZto3MY5vNAI6cnj6V19FAFe+soNS0+4sbtd9vcxNFKucblYYI/I1ymj/D3+y20A3GtXV//YEkxtDNGgPlyR+WI2I67R0PU12dFAHLz+AtLvdd1/UNS3XcWu2sVpcWsgGxUQEcEc5Oc+xHFU9O+Hs1rqdvLqPirWtUsbJw9pY3M/yqR0MjDDS4/wBrNdmaWgArA8UeFE8SC0ni1C60zULB2e0vbRsNGWGGBU8MpGMg+lb9FAHEp8MtPn0XWLTWNQvdTvNajjS81CZlWQ+WcoFAAChTyAB1qF/hrciazv7XxXqVrq0VotldX0McY+2RKSVDIRhSM4DLg13lFAHCW3wrsbXT9Ss01W/mi1DU4NSZrlxLIskbK2N55bcUHXpXR33h+K+8UaXrbzOsumpKqRgDa/mLg5+lbFFAHnGpfB62vtNu9Gt/EerWegTgtHpUTqYoXLbvlJG7ZnnZnFal98PfM8QSavo+v6jo813FHFfpbbCtysa7UPIyjAcZU12dFAHD2PwwstP022sItTvJILbW11iMzkO+8MWKM55YEknJ5rR8TeDF13UINV03VbvRNYgiMCX1ntJaInJjdWBVhnkZ6HkV09BoA5vwh4Ng8IDUxb311etqV39rlku33PvKKp575259s4q6PD0I8ZHxF5z+c1kLPysDbtD792fXmteigDkrj4eaXe2GtWd9LPKmq6h/aO9G8uS2mCoFaNhyCNgINJoXgL+z9cj1rXdbvvEGpW8bRWk14EVbZGxnaiADccAFupFddRQBykfgO1j+Gp8Gi8mNt5LQ/aCo34LlunTvWhqHhqHUNe0LVXnkSTRTMY0AGJPMj2HP0HNbdFAHHat8N9O1m51ue5vLqKTVLm2ulkgYI9tLboFjZDg5wRnmorP4dyJ4h0nXdU8Salqeo6Y0u159ojdZE2lfLA2r0zlQCe9dtSCgDH8K+HIvCuhDTLed50E8029wAcySM5HHoWxWuQGUgjIPBBp1JQB5zqfwdtr/AEq70WDxHq1noNwTIulxMpjicvvOCRnZnP7vOOa3JPh9plzdak99LNPFqOn29hLFnbtWEsVdWHIbLZ9iBXV0UAcdpPgB7XWrXUtb8Ranrr6ezNYRXZUJASpXcdoG99pI3N6n1qtF8MbeGxuNOTV7o6c2qQ6lbWpRSLZ0fzGQN1Ks3r07V3VFAGHe+GIb3xdaa+9xIs1rZy2ixBRtIkIJP1GK5ex+ENraadZaPN4g1W60C2RDJpUjqIp5FYtliBu2EnJjB28V6JRQByWs+BBf+JG1rS9b1DRp7lEi1BLRl23cafdB3A7WA43LzjiqQ+F1jB4Ht/Dun6neWn2K/a/srxdrSW8vmM69RhgN5HPUV3VFAHKS+ANOvotbj1iaW/TW1gFzuwhVokVQ6lcYOVDex6VBpXw9FtrFrqOva/qXiCXTyTYJfMoW3JGNxCgb3xxvbnk12VFAHK6f4EtdP8D6p4ZS8meDUftW+ZlG5PPLZwOnG7ir0Hh17fUtKuIdVvEt9OtTb/Y1YCKfKgB3HqMcfWtyigAFFFFABRRRQAUUUUAFR3FxFa20txcyLFDEheR2OAqgZJPsBUlV9QsodS025sbtS0FzE0Mqg4yrAg/oaAOY8GfFHwt49v7yy8OXzTXFoNzxyRFCyZxvXPVckfmK6bUbsafpd1eMhcW8LylQcFtoJx+lcF8OvgxoXw31u81TSru9uri5hMANwVxHGWDEDAGeVXk+ldvrsEt14d1KC3QvLLaSoij+JihAH50AchYfE83nhtvEEvh3UYdNnEQ04gq8t88jbQixjleehPBHNXNF8ezXniX+wdf8P3miX8kDXNsJXWWO4jX72HXow4yD61j3+jeJ7b4NaFpuiRXEV7bR2y39tbTrDO8Kj97HHIeFb3/I1ieGvCOqQ/EjSNci8PX9hpwtLiGSTUdTe7uCzL8pcOT5Y7YB5NAG2nxiWTSYNdXwxqn/AAjxZUudTOwCBi20kJnc6KeCw4ra13x3Jp/iGTRdD0G9169tYlnvRbMqLboTwNzH5nI5CDkgdq5+fw1q5/Zxk8PiwkOqNYmL7KMbt3mZx1x05q7dQa/4R8dazq+l6E+uWOvCB2W3mVJLeeNBHht38BUA7h054oAw/BuvG/8ACWiXmpz6uZbrxVNHCpuCjrl5iscobOUAGCnYgelb138Unj/tOTTfC+p6la6PM8eozwlFWEIAx25PzsAclRyB9axdA8M+IU8N6Aup6X5F7D4rkv7qFZAwijYzHcG6EfMvI65rd0XQdSt/BvjKzuLRlnvru8e2jyMyq8ShSPqRigCvqXjXV7j4geEoPD9i93ourWU1yzCdI/MH7v5iDyNgbOO+72rt9a1CbStFur21sJ9Rmgj3paW+PMlP91c9688stG1vRR8PNQOjz3f9m6c9jfQwsvmW7SrEAxBPIUoc46V6Frd7eabod1eabpz6ndQx7orNJAhmP90MeBQBbtpWmtYpXjaFpEDGJ/vISM7T7jpXgeian4LuptaPjTxhf2mpprF4nlHWrmAJEJSIwFVtoGPSvfLaR5rSKSaIwyOgZ4iclCRyue+OlcT4G8LMnhXW9M8Saavl3ur30vlTKDviklJVvxByO4oAyfA3iV9D8K+IdV1e+v7zw1a3mdHurvdJPcRFR8qFvmkBc7UJ5NbumeP7ibWbXTte8N6hob34JsZLkq6TMBny2K/cfHO1vz4rlrnwf4m1bwXrfgjUzNdLYXMU+j6jdSHF5Crh0ikkB3BxjYWGDjBFReHvBa3nifTLmbwPe6aNPnW4kudU16e4WKRenlJuIc5/iOBjsc4oAs+F/iTrMGh65qfinSpjHBrrWUJW4jbbum8vywB2jGMt/F2rvtS8SRab4r0bQ3t3d9VjuHSVSMR+Sqscjqc7uMV5xN4T8RzeGfFGgw6Uwul1t9XsZnkUQXatP5gjDdVbGQcjg4rYhPiTxL8SfDGs3vhufSdO0+G9RjPMjSBpFQfMF6D5eOTn2oAltfisbrw/qGvnw7ew6PYRTM15JKgWR4pNjKg6kdSG9iO1XdN+I7XOu6daaj4e1HTbHV2Kabfz7Ss7BSwVlBzGSASM9cViReGdYX9nq90I6fINTkFxttuNx3XLOO+OVINb3iXR7+8uPBBtbVpF0/VY5rrbj90gt5VJP4sB+NAG74r8RQeE/C97rl5E8sFmoeRI/vEFgDj6ZzWG/j67g0u3uLjwvqCXeoT+Vp1irK8lwu3d5jY4jAHJ3dKt/EvTLzWfhzq9hptu1zdTxqI4lxlvnUnr7A1kfELT/ENxZ6IulQ6hcaVCzf2pZ6XdC3uZBsATa+QdobqoIJoAnsviQJLXX01fRLvS9S0O0N3PZyurCSPaSGRxwQcEfWorT4o+fqGlm78OanZaNrEyQWOqTBdsjuPkDIDuQMeAT19q4/TfBOuW9x4wmj8P3FlDq2gNBaxS6g15K8oBGJJHOQxyCBnAFdr4l0TUbvwv4StbWzaWax1TTprhAR+6SMgux+mO1AFfX/iNMkms22heHtU1a10tXhvb+z2gQybTlY1JBkKnG7b0ql4d8dSaV8N/CFstpeeINe1TT0eO3ifLuFUb5ZJGOFXnqepOBmkit/FXhBtf0bTPDjazb6peXF5YXkdwkaRtNlmSYNyu1uh5yD2qlpHh3xF4U0zwjr9ppD6jdafoo0zUdNWRUmVchg6E8EhgQVzyCMUAdBN8UrSx8M63f6ppV3Y6hoSK97pkxXzArEBXRs7XU5OCOpBFQN8VJbfUreyvfCWsQSalHI+krhWa829QVB/dHB3fN0HPtXOeJvCvibxVoXi/XbjSDZ3eqWFvZWOlCRXm2RShyzkfKGJJ47AV23iDSL66+Ivg2/t7ZpLWwF59plGMRb4lVc/UgigC74S8W/8ACTf2jb3Wm3Gl6jpk4gu7SZg+xiMqVdeGUjkEVn6nrNrpnxEuC51CSe38PS3hhWcC2ZElH8H/AD0zwG6YyKseGdLvbLxt4uvLq3aO3vri3e3kJGJAsW04+hrL8SaDqd5481G9tbR5LaXwpc2UcgIwZ2kBVPqRQBHZ/FhLpdMv5PDeqW+galNHbw6rIF2iSQgLmPO4IWIAeoNK8aa1H8T/ABha65aG30HSYIpfPe5j22qCJmL7QNzb8Z/2ce9T6l4f1OX4R6FpUNk5vbabT2lgGMoI5o2f8gCfwqlrXhfVdQ8YeM9NNlMlh4q0yOGDU02tHbvHEykSLndySMY60Aalp8THa7sX1Twzqul6RqUqQ2eo3KDBdzhPMQfNEGOACfUdKk1P4kNb6vf22j+HNS1mz0ltmpXloF2wtjJRFJzKy/xBema4fTfAktxfafYXXgK7imtponubu68RXMlomxgd8a7sueMhcDBPPSti01LVvC9z4p0/StLj1yzudQubpL2C7REtZHXfJHcZ5j2kcHuCKAN//hZ1rP4b0W/0zSr3UL7XI2ey06AAuVX7zu3RVGRkn1FDfE22tfDut3uqaTe2OoaHGsl5ps2N+xjhXjb7rqecEdwRXnun+CrrVvh94F8QxaZNqy2WmvDcWFvfPaStHIQwkjdSMkY+6TyCPStE+BrubwT4om0zwnNpdzqFnHb28d1qct3dThX3fMHYqgHYZJ9aAOsk+JVzDZ2jT+FtQivNTn8rSrRpIw90u3cXY5xGAME55Ge9b/hbxOfEUd3FdaZdaVqFjIIrq0uV+4SMgq44dSOhFYfj3RbrUvDmmwHw3b+ILKFgbuzaUxXMeF+WSCQEbWU9ehI6EUz4YaPrWl/2q9/FqFlpE7Rf2bp+pXv2qa3ADeYdxyVViVwpJxg+tAGN4+uta1L4seHfDsdpfnSZIXuHNnqn2XziGUFm2/MRGDnb/Fu46VtaT8TYdQj1C8fR7m10TSjcR3eqTSrtR4SchV+82cdfU4q7quk30/xa8PapFbM1la2F3FNMMYRmKbR+OD+Vc/ofgjU7/wCEviXw3qCHT7rUr29aFpQCAHkLIxx2PH4UAalh8S5Xu7Btb8L6po+mapKsVlf3O0qXY4QSqDmLcSMZ9e1R6h8UXt7rWYdN8NalqY0OZk1CSFkVY0UA5XJ+ZsHdtHOOazb+PxX43sNP8N6n4WbRooLq3m1G+kukePbC6viHbyxYrwTjbnmtbSdC1K3s/HaTWjq2pXlxJa8j98rQhVI/EY5oAWy+J8V3qmlb9C1G30bWZFh0/VZQoWWRlyoMf3lDYO1j1qx8W7u5svhXrVzYXEttcRxxlJonKMn71M4I5HGayZPDurHwH8PbIWUhudLv9PkvI8jMKxxsHJ57E9q2/ijpN7rfwy1nTdMt3ubq4jRY4kxlv3ik4z7AmgBNc8dTWWvS6L4e0C81+/tY1lu1gkSKO3Vvugu3Bc4yF9OeKZp3xJ03U59ESC1uol1aae1JnUI1pcxDJhkXqGODj6e9Z92niDwf401rVNO0KTXtO1wwy7bWVUmt5kQR4YNwUKgHIPBzmsu58IeJIfh3f6iLWBvFL6ydft7OJgyRTcKIgxwGPlggngEk0AdFZfEzS71PFbpDKI/DQ3yPkYuF2FgU+pVl+tdPpl+b/RrS/lhNsbiBJmidsmPKg4J9s15Bqnw21vy/DGnaZFts7+D7NrrnGYkWcXKZ9TuLpn3r2a4hFxZy25+USIU47AjFAHmEWryah8N7/wAW61d6gsGr30L2kVjceU9vbidUiUE8AnOXx94Gt7VPiHcW/iXUNA0Xw1faxf2CRSyCGREj8t0LZLseDxgL1NcvpVheat8AoNAsbd5dS0q6isrmDoyyQ3Kl+v8Asjd9DXYeHNJvbP4ieLNQubZo7W9jsRbynGJCkTB8fQkUAV/+Fo6XL4Q07WrKyvrq51OUwWulxx/6Q8wOHQg8Dbglm6ADNc5438Z6hf8Aw/1y1n0/UPDms2DWzujSfejeZQGjlThgeVOOh4NQ6V4S8R6Vo+i61a6d5+paLql/M2mySBGngnYqdrdA23DDPXpxVzxVD4w8aeD9ZEuhvp9rItullp8jo1y7iYNJI2OFG3gLknjPtQB3OmeI4tS8Ua1oi27pJpBgDysQRJ5ke8YHbHTmsA/E6CTQdPvLPSbq6v8AUry4s7OwRlBkaGRkYlyQqr8uc+/Sq1zF4h8MfEbV9T03w/LrVpr0dtteG4SP7PLGuwiTd0UjncM9MYrn7fwprafC7T7DXPCdtq5j1C7mvrETmO4QPO7pJbyA8EZz2JB4IoA3dd8aQal8Ptak1fT9Y0a70+aCK6tYZBFOhaVNpjlxtZTkcjqMiun0zxTBf65r2l3ED2cuitG0jSsNskTqWWUH0+Vh+FeYt4S8Uz+AfEdpBZ6nFYXclm2maVqF79qni2To0jbicqpA4Qk42k966H4meFdd1DVLS78KRhpNUgbR9TckDy7aRwxlPrtUSKO/7ygC9D8Uob3QtIudL0S/vdT1iOSa006LG4RK5XzZH+6idOT/AHgK0tM12Pxzo+raS8V/oWqWyiC6hf5ZrVnUlJEYcMOCVYcHFc3488BtNrmkavZaRNq1jYWTWElhaXz2k0aFlKyIykbsBdpQkA5z2q/8OvD0Og/2rq8+gHw9HcKnN5qcl1O8aAndKXYhAM8AdBnJoA2/AXiCfxH4Pt7q/CrfwPJa3iqOBNExRv1GfxrmtE8b6tD448bjxJaPa6JpBiZZnuEYW6iENgKBk7x83tnFafwltpV8FSajMhj/ALY1C51KONhyiSyllB/DB/GsLWvCWq6vr3jvRnsporXxHDDLZ6mCrRRvHCE2OM7gdy+nQ0AbNp8TJPt1gdd8M6no2m6pKsNlfXW0gu3CLKoOYix6Z/Sr/wAUrme0+FviC4tZ5baaKzZ1licq6YwcgjkVzWrxeLPH1vp2gap4XfRYre8gudRvpLpHjIiYNthC8uWI68be9dZ8R9NvNX+HGt6fpkDXF3cWrJFEuMucjjmgDG0X4jSSXejWmq+H9S0601YLDYahcbSJpNucOudyFgCRnrTLDxlp2haDrF6kerX0ja7LZwWsjieW4uCARHCONqYBIB6AHNWvFmi6jfjwT9jtWk/s/V7ee6C4/dIsTgsfYEgVydxoGp6Vp8WoPDDHqNt4ukvrGyurhYv7QDxFfLRjkB2G4rn+7igDpofiFcXmqS+HtT8PX+jam2n3N2fOdWjCJgAo6nDk7u33cc1zPgH4k3mmfD3QJ9a0fVrjTCEtrjXJ3B/evIVDbWO5o8lRv9+lTtquq+JPipZG80STS1Xw/fCG3mlVrhtzxrl1H3ASAAD15NSy+FdaP7Odj4f/ALPkOqxrbh7UEbhtuVdu+OFBNAHqd1cw2dpNdXL7IYY2kkc/wqBkn8hXBeHvFI0z4ff8Jh4he8nn1qcTQWUSmSQeY22C3iToTjH1JJNdlrGnHVfDl/pofyzd2kkG4/w7kK5/WvMV8PXXjf4G6BZW0KtqGjzQGaxe4aEvJbkpJCZF5jYgHDDocUAddo3jma91pNH1zQL3Q7+5iaayS4ZXS6VRkgOvAcDkqeg9ap23xRs7uOxtLfTZzr1zfNYy6MzgS2zIf3juegRVw27uCMZrA8JeGPK8UW+rr4Jv9MXTo5W8/UdZmuZd5QgpDGWKnPTccfSksvD/AIq07Xo/iJJYtJqmozeTqWixqhaOyOFjCt3kTAdufm5HagDpNV+Is1vq1/aaF4a1HW4NJbZqF1bFVWJsBmRAxzI6g5Kr9OtZEfjEDx7q+tQzXE+lR+E7fUorZmKg5kkbOw8KxAAPGfWpIP8AhKvBWqa5aaX4bfWrfVr+S9sbmK4VFieUDckwblQrAncM5GB1ph8J+INU8Raz/bIQy6h4Uh0+S9jXETXO6XeAOoALA/SgDp77xrb2PhvQtYe0leLWZbaJIwwzF5y7gT649qzdR+JLW2pakun+HNR1HTtIm8jUL63KHynADMEjzufaGBOAPxrl5LLxfq/hzwxoU3haWy/sK+szdXElyjrKsQ2kxgdVPXJxgcYNM8X+GNWuvEOpzW3hK5Gr3LN/Z+t6HqRsww24Q3Azjcp6kg5HSgDp9W8VWul+JtQ1G1g1K+ktvD/2826ThYXhDgnah6SY5z3HHWtq98Y2sCeH/scEl6+vTLHarGwGFMZkZyT2VAT+lZGi6DrEPjqG71wC7H/COx2dzdgDZNOHBcY9+TWV8PvBmr6T4vu21lCNO0OOSy0Rmx+9ilfzDJ14Kj5PpQBoXHxTAFzf2HhrVb/w/ZuyT6tCg2nacO8cf3pEXHLD0PXFWfE+ryaRrfhvxHZXDSaZezx6fdxhztZJz+5kA6ZDlcnrtJFecwfDe50W2l0GfwXeazLvkW3v4dent7SeNmJDSoG/dnBwygEHHHWu18aabHD4e8IeELSFY559RtFjihZmWOK3KySEM3JCqvfk5FAHo9FZmm6hf3ep6lb3mlSWcFrIq21w0qsLtSuSwA5XB4wa06ACiiigAooooAKKKKACiiigAooooAKKKKACiimu6xxs7sFVQSzMcAD1zQA6iqceq6fNLNFDf2sjwLvlVJlJjXGcsM8D3NFlq2nakrtpt/a3axnDG3mWTaffB4oAuUVS/tjTftcVr/aFr9omUPFD5y75FPQqM5I9xT7zUrHThGdRvbe0ErBIzPKqb2PQDJ5PtQBZornPCPiseIvD93ql5HFZR215c2xJkyu2KQpuJOMZxmtm01OwvrR7qyvbe4t0zumilV0GOvzA44oAt0YqmmradJdfZY7+1e4Kb/JEyl9uM7sZzjHOadZalZalGz6deW92iNtZoJVcKe4ODwaALVFRyXEMLxpNNHG0rbY1ZgC564HqaoeJNVbQvCuqaskQmaxs5bgRscByiFsZ98UAaVLXnVn4p+It3o8GqQ+FdEnhlgWdYI9WdZXUruCjMeA2PWuq8O+KbDxF4PsvEcbC1s7qATEzsF8rsQx6cEEZoA26TvWXqHiPTNP8NXeutdQzWNrC8zSxSqysFGcBs4JPQe9N0DxJp3iLRNP1KxuISt/CJY4xKrMPlBZeD1XOCO1AGvRiq7X1qjSq9zCrQ48wGQApnpn0zTIdV0+4d0t762lZJDE6pMrFXALFSAeDgE464FAFrvS1VsdSsdThM2m3lveRg4L28qyKD6ZBp9xe21moa8uIYAQSDJIFyAMk8+gGT7UATUtUZtb0q3s4ryfU7OK2m/1U73CKkn+6xOD+FWPtduYYpRPEY5iFjfeMOT0we+aAJaDVWx1Ow1NHbTb22u1RtrG3lWQKfQ4PFYHjLxxaeGdCvLqyltL6+tXjVrIXADgNIqEkDJGN3pQB1NHeql9q2naZ5Y1K/trTzTtj8+ZU3n0GTyamkureEKZp44wwJUs4AIAycfhzQBNSVQ/t7SP7OF//AGrY/Y2bYLn7SnllvTdnGavK6sgdSGUjII6GgBaK8w8QfFuay1rXrfQ7TTL610C0M9y76iBLI3lltscYByAQAxzxmvQP7ZsrbSba+1O6t7GOdFYNPKqKCRnGTigDQrk9Y+GfhPXtYk1PUtMZ7mbHn+VcyxJPjgeYiMFfjjkHiunFzC1sLhZozAV3iXcNpXGc56Y96q22t6Xe2009lqVncxQAmV4Z1dUx6kHigC5DDFbwpDBGsUUahUjRQqqoGAAB0FPrnfDHjbSPFPh19ZtLiKG1jlkjkMsy/u9rFcvg/LkDIz2IrbtLy2v7dbixuIbmFvuywyB1P0I4oAnorMuL+7h8SWlmsEBspbaWWWdpwsiOpXaAnUghmye2B61ONX003kVoL+1NzKu+OHzl3uvqFzkjjrQBcxSVFdXMNlaS3N1IkUMSlnd2ChQO5J4FcVb/ABMs9R03wvqOmQxy2uu3v2aTdMN1r+7dzuxkZGwcehoA7uiqtnqVlqUDTabeW95Gp2l7eVXAPpkE02PVdPmvpLGG/tpLuP79ukymRPqucigC5RWZ4i1RtE8M6jqkcQmazt3mEZOAxUZxmmaL4gstWtLQC6thfTW0c8lokwLx7lDcr1xz1xQBrUVSvNX03T7iKG/1C1tpZv8AVxzTqjP9ATz+FZWp+J/7N8baVokkcYt76zubqS4eTb5Qh2fhg7+vbFAHRUVxPgPx5N45utRuLS2sU0m3laKCSK+WadyrFQzxqMIrbSRzyMGuuvL600+3M+oXUNrCDgyTyBFB+p4oAitdKs7LULu9tYfLnvSpuCCcOVGAcdAcdx14q7VdL22ktUuY7iJ4JMbJVkBVsnAwehyaZa6pYXs80Nle29xLAdsscUys0Z9GAPB+tAFuiqkmqafDfpYy31sl5IMpbtMokYey5yaddahZ2MUkl7eQW6RKGkaaVUCAnAJJPAJ4HvQBZpDTYZoriFJreRJYnGVdGDBh6gisxNTuV8RX1rdRW0On29vFLHcG4XezMWDBk6qBgYJ65PpQBrUVUj1Swmvnsob63ku0Xc0CyqZFB5BK5yBWT4f8a6T4k1rV9M06aMz6VceRIPNQmQ7QSygEnaC2M+oI7UAdDVbUdPttW06ewv4vOtbhDHLGSQHU9QcdjTLXVdPvppYbK+triaE4ljhmV2jPowB4/GmTa5pNvL5VxqlnFJ852PcKG+X73BPbv6UAXY40iiSOJQiIoVVAwAB0FOxUT3EMSo0ssaLIwRGZgAzHoB6k9qrz6zpltfJZXOo2kN04ykEk6rIw9lJyaALtFc+fEj/8LH/4Rn7OvljSv7Q8/dznzfL24/DOao+OvFWp+HJ9DtdEsLe+u9XvfsiC5mMaJ8pbJIB7A9qAOtrP1zQdN8SaW+na3aJdWrkEoxIII6MCMFSOxBBrl9Q8ZeI5tZvdP8KeHLbVDpKp/aLzX3kjzmQP5MXyncwUg5OByBXS+G9ftPE/huz1mwDrBdR7tjjDIwJDIfdWBB9xQBV8N+C9C8J+c2iWbRzXGBNPNM80rgdAXck4GemcVvVweo+Otdl1PVl8K+Go9VsdEkMN7NLe+S8soUM0cK7TuKgjkkAk4FdZoOt2XiPQLPWNLkMlpeRCWNiMHB7EdiDx+FAGhVOy0qz064u57KEQveS+dPtJ2u+MFsdAT3I696nubiK0tpbi5kWKGJC8jscBVAySa4/wd8RrXxr4m1ex0y0mSx0+KGSK7mRkNyJATuCMAQvHBPWgDtaKyfE/iG08KeGrzWtQV3htU3eXGMvIxOFRR6kkCuf0zxlrkHiax0bxjoEGlPqyyGwltb37QpZF3NFJ8q7W28gjIPQUAdtRWLoniAapqmraZcw/Z77TLjY8e7IeNhujkHsVPPoQR2raoAKKKKACiiigAqm2lWj6ymqtFuvI4DAkhY/KhOTgdAc9+tXKKACiiigAooooAKKKKACiiigAooooAKKKKACqerx3kui3selyCK9e3kW3kbokhU7SfocVcooA8M+A/hr4jaJ4o1ibxu16unyQFVW7ufN8yfeCGUZPG3fzx1H4ev8AiY48J6sfSymP/jhrUxTJYo54XimQSRyKVdWGQwPUGgDxU6b4d8P/AAM8PtPpfmzaubOGZopltzeSOdwW4nIyIic7s9uBUHh6WO1+OOmwWtp4d0xptLuVuLXQrrzQwXlfNwqjIPQYzXss2iaXc6ONKuNPtpdPCBBayRBowo6DaeOKgsfC2haa9u+n6TZ27227ynjiAZdwweevI4oA8Ybwpo1v+za2upZxnWIoBeRagf8AXxSLL8u1+qgDgAcYrqDaeHtU+LfidPHi2Uzw2tuNLj1Ir5a2rJmR4w3GfMyCw5GBzXo50XTW0f8Aso2MBsNuz7NsHl4znGPrUWreHNG11oW1nSrS+aA5ia4hVynfgnt7dDQB4VoyaUfA/huyuJlHg+bxPeJdM0v7mRA7+QsjZ5QkDqcEgZrodZi0bTPHF/beCFtY7efw3eyatb6fjyQVQeQzKvyq5y2O5GeterJoGkR6TLpaaZaCwlLGS18hfKYscnK4x1pmm+GtF0ewmstL0u0tLe4BE0cMQUScY+b14OOaAPFZ/CGh2vwt+Hl1BYol7d39gtxeISs0qyoRIpkHzbSONucY4rutB0fTvD/xrvrPQ7OGwtp9Bikkgt1CIzrMVDFRxnbxnrXbHRNNaytLQ2UJt7Jka2i2fLCU+6VHbHaphYWo1E34t4/tZi8kzbfmKZztz6Z5oAoa3aaHdXmlNrgtzcQ3Yk0/zn2nztp+5zycZ4qn8Qf+SZ+Jc/8AQKuf/RTVs3mmWOoTW0t9axTyWkvm27SICYnxjcvocE1LdW0N7aS2t3Es0EyGOSNxlXUjBBHoRQB41eeEPEFp8MNP1XSPFPiLUIorGGa70o3MaefBsBeOJ1j3KcZx1Jxjqc1B4xvLC/0/4ep4Yj0n/hFLgSNHb6nO0No0ixjyo5SM/MDuwpzlgQcmvbYYIre3jggRY4o1CoijAUDoBWenhnRI9Hk0pNKtBp8rtI9r5I8ssxyTt6A55470AeP2WlbYvG8bv4cFrLohabRtFuGuI0mAYiZkKhUJGBgYztBx3q5pD6TpmqfCW4haztLRtMulaRCiR+a9tESCRxuJB9ya9Y03QtK0aze00rT7a0gk+/HFGFD9vm9fxqr/AMIf4dOj/wBknRbI6fvMgtjCNisf4gOx9xQB5J4lv7PVJPipNp9zHNGbOxjM0L5Gehww9PbuPatvxX4V0Wz03wJpllYxWttd63bi4EA8tp8W8pJdhgsTjBJ5IJr0WPwvoUNtNbw6TZxwTxrHLGkICuqnKggdgST+NW59Ns7o2xuLaOQ2kglt9y58pwCAy+hwSPxoA4LRtH07w78cp7PQrOHT7S68PCaa3tkCRs6ThFbaOM7SRmn/ABG0601fxx4BstQhWe2k1G4aSJ/uvttnYA+oyBkdD0Nd5/Z9r/aX9ofZ4/tnleT5+35tmc7c+meaJ7C1urq2ubi3jkmtWZ4JGXJjJUqSPTIJFAHkfiP+wv8AhPbrTNP0LSbiTSdOhjMeuXy2tlaxPlh5EO05OPvNgYwBmuf0uC31T4Xadp8jwvYP43W3RLKRvIERuDhYmPzbP7p4OK9v1Lwvoes3kd1qukWd5cRDCSzQKzAemSOnt0p6+HtIRNiabbKguRdhVjAAmHR8f3vegDzPVdLh8M/FiaHwfZRadLc+F7h/Is0Eayyox8tio4LDPXrXLa5p/gRfgZpN9amxGvuLZlnVwbuW7Z085ZDncx3btwbgY7Yr306dZtqi6i1tGbxIjCs5X51QnJUH0zWbJ4L8MzXk93JoOntcXBzLKbZdznOck4655z1NAHC2tn4X1T4jeMf+E+TTprqCSJLSLVGXbHZ+Up3Rh+AC5fLDvwTXMaZYwa1ofgiwvPNutGPiS8jshNIzedaKsvlgknLLxgc8qB2r2jV/DGh688T63pFnfvD/AKtriBXKj0ye3t0q1JpdjL9kL2kJ+xtutvkH7k4x8vpwcUAeb6J4E8MT/E3xXZzaNaPZQ21k8dkYx9nR5VkEjCL7oYhF5xnjitr4Nu0nwj0TczMESWNSxyQqzOqjn0AA/CuxjsbaG9nvIoES4uFRZpQPmcLnaCfbccfWksNPtNLso7PTreO2t487IoxhVySTgfUk/jQB4t4i0nTbSD4vS2unWkMkdnEFeOBVKh7clsEDjJ5Pqa0rKDSdS+KMlt47W2lgt9GtH0eHUceQwZP37KrfKX3BQT1A9q9Rn0LS7kXqz2MEg1ABbsMmfPAG0BvXjio9U8OaNrVpFbavplreQw/6tJog2ztxnp07UAeLG/0uy8Oa/pkcU174Xk8SxWekQRXnkWzkqGkjaU5AtxJkHHHYelT+HFh/4XlBaCx8PWKXOjTpdWOiXPnxyAMMecNqjPPAI6V7LJoOkTaMNIl0y0fTQAotGgUxAA5GFxgc81FY+F9D0yWGXT9JtLaSAMI3iiCsu4Ybnqcgd6APENP0rQ5vhPokMV9pGnXQ1ydlt76HNpezJLIFhuNuMfLjG70AANdp8Lbq2h8UeINKXTrOwvFjgubiPSL77RYEtuUFFwPKc7fmXHPBruT4U0AwXsDaPZNDfyebdRtCpWZ/7zDoT71Y0rRNM0O3MGj2FvZRscsIIwu8+pI6n3NAHGeLAD8VtKyM58Pal/6FDXBr4Z0i1/Z5tPEEdlF/bKTwXC6iR+/V/tarw/UDaSMDjHavdJtNsrm9S7nto5LiOJ4UlZcsqPjcufQ7Rn6VEdD0w6ONKNjAbBcYttg2DDbhx/vDNAEuo20N5ptxbXUKTwyxsrxyIGVhjoQeDXhOnaNpOpfDX4Xaf5EJgutVT7YkGF8xxDLuD7cHJwAc844NfQGKybXwtoVi6tZ6VawFbk3a+XEBtmI2lwOxwSM0Aeb65p//AAivjfxHF4Is0sJ5/CElylvZxhVe4SUrG4QcbscdOa46z04/8I5oF3pM/gbTbpZ4JINVg1KRryWQsCysdm52fkMpz39OPob7Da/2l/aHkR/bPJ8jz9vzeXndtz6Z5qhb+E/D9rqx1S20ayiviS3nrAoYE9SPQnPXrQBW8ff8k61/t/xL5vw+Q15zf+GNH8PeF/h1qWj2MMGotq2nRvfKP30yyriQO/Vg2eQePyr2K5toby1ltrqNZYZlKSRsMhgeoNQTaTYT21rbz2kTxWciSW6MvETJ90r6EdqAPEteu9F1q78W3Uek6FOFnktrq/8AE2pBJUdI8bYoQpKIMfLypY81oeCpRqeo/DQ3jfaxN4dv0cy/PvXMK4OevHHNeoz+E/D91qh1G50WwlvCQTO9upZiOhJxyR6mrFroOlWL2rWdhBC1mjpblEA8pXILhfQEgE0AeY/DrT9WsfhuZfAVhosd9Jql0k7XqmNWjWaQKMxjJ28AA8AVLqEUV/8AFDRbT4nLpxRdFaW3t3fNnJd+aA5UPgMwQjAIzgk4r1Cw0600y2+z6fbx20O9n8uNcDcxyT+JJNQ6toel69aC21rT7e+hU7lS4jDhT6jPQ+4oA8O1z+y7fw98Q7PQ5vK8K211pxjazcmKCYyZuBERwMHYSF4B6V0t3ZeF9L8feDD4AFit7PLKl0NPkDedZ+SxLTbT8w3hMM38Xeux8UeD49Q8Ct4e8PwWthGJYWjjVNkahJVc8KOp2n8a1tK8NaJolxNcaRpNnZTXH+tkt4FRn74JA6Z5x0oA+edPtJ9T8Ganc6wPB8WpS3E7XmpapqMkOoWs4cgEnbujK4GFUgYxgc16JZaJb+IfijYR+K47fV5IPCtvM+5CYZZTO2X2MBu6ZG4cZzgGu+uvCXh+91UaleaNZTXgIbzpIFLEjoTxyR6npWgLG1GpG/8As8f2tohCZ9vzFAc7c+mSTigDifhXbw2EHiXTbMeXZ2eu3EdvCCdsKEK21R2GSeK57xodviT4hsp2sPDVmQfQ75+a9XtdPtbF52s7eOE3EhllKLje56sffioZ9E026mupbixhlkvIVguGZMmWNc4VvUDcfzoA8sk8L6Poeh/DrUtIsYbbUX1C0WS8QfvZRJbuXDv1YEgcE1japBHpuifFeXw7b21rqkeoIoe3jCSx27LD5pyo3BcFySPc9a9wfTLKSG1he1iaOzdXt1K8RMowpX0IBIqJdE0xNXl1VLC3W/mj8qW4EYDyJ6Me/wCNAHjOkaeLfxF4Yn0c+B9JZLlRG+kX7yT3kJQ749oT94CPmy3QgHNb3gbwboGv2fjN9S06Cee613UbY3TxhpUjYBMKxzt+U9q9B07wroOkXr3ml6PZWly+cywwqrDPUAjoD6Crtpp9pYCb7FbxwCeVp5di43yN1Y+59aAPI/C19ceLtb8OeG9SbfL4PaWXVeDh7iFjDB9cgiUH2rkfEd5pGp+CPEeqWGk6GI5prpxqOt6mG1JpVbqkarlCCPkTcMADjnn6IttLsbO8uru0tIYbi8ZWuJUQBpSowCx74HFZ58G+Gm1Ca+bQtPN1NnzJTbrlyepPHU+vWgDj/Dc0lx8V9NmkkMjP4NhZnJyWJn61b+JH/I1+Af8AsOD/ANFPXZWujadZXEc9rZxRTRW4tUdVwViByE+me1cz8QPDet65deHr7w79ia50fUPtfl3srRpINhXGVVj39KAMzwrq+m+GvFPjm212/trGUait/m4lEe+B4ExIN2MgFWUkdCMVZ+FU0Ol/DnSF1GVbSTU7q4ltYp22NIJJpJECg9SUIOPSum1Dwxo2vfZZ/EOj2F9cwKMNLCJAh6kAsOVz2NXbrSrC9ktHu7OGZrKQS2xdAfJcAjcvocEigDzvwZremeFYfGlnr17bWc9nq9xdyJPIELwyKrJIAeoboD6jFafwpK6J8L/DGn6s4tLy6icw287BXfczSbQp5yFYHHaum1LwtoWs3sN5qukWV5cwf6uWaBWZfQZI6e1Lqeg22qappV7cBd+lzNPCdgLBihThuwwTkd+KANN0WWNkkUOjDDKwyCPSuD8P4Hxw8XqoxiwseAP9l676q0enWcOoT30VvGl3cKqTTKvzOF+6Ce+MmgDh/itdQah8Pr6bT5o7saRf2816kLB2iEUqO4IHQhecVB4r1XT/ABF468C2eh31veyrfSXzvayiQJAkRyxK5wrEgAnqeK7y10nT7JrtrSyghN7IZbkpGB5zkYLN6kjjmq+k+GdE0GWaXRdJs7CSf/WNbwqhYenHb26UAcuvmL+0E/kjEb+Gl8/HqLltmfflq7yuf0Lw9JYa9rOtag6TX2pTBVK8iG3QYjjBP4sf9pjXQUAFFFFABRRRQAUUUUAFFFFABRRRQAUUUUAFFFFABRRRQAUUUUAFFFU9W1BNI0a81GZGeO0ged1TqwRSxA9+KALlFeR/CP43SfEzxHf6TcaKuntb2xuY5EmLhlDqpDZAwfmH616Zr+rxaB4c1HWLhS8VhbSXDqvVgilsD8qAL9VdO1Sy1aGWXTrhLhIZngkKfwyIcMp9wRiuK0P/AIWJINL1u91HTb21v3je50iO2EX2SF+dyTZy7KCCQQM847VyGiP4usPC/irWtA1exsrLTNY1OZbKWz843m2Ys29yQU6EDaD1yaAPb6p6nqtjo9qLnU7mO2haRYw8hwCzHCj8TXCSeKfEHi7WrDSPCl3b6IG0mHVby8ngFyyiUkJEiEgfwklifTArN1DxlrlpoWraXraWV3q+i6paQSXKwDyrmKYhkk8ts7WwcEc4IyKAPWBS153NqHjDxX4i1yDwtq9lotnok4tV86z+0NeTbA7bskbEG4DjJ6msvxJ8QdYs9U0zw/fajY+FdQOnLfahdPCbzDFigiiXgHJUksTwMdaAPWM0VxHw18Yz+KLXVLS+uIL640q5EP2+2iaKO7Rl3LIEP3T1BXJAI610kkOrHxPFNHc240gWrLJbmM+Y024bWDdlC5GKANM1zMXxH8Gz6sNNh8TaW90W2hFukIZs42hs4LZ4xnNY/wAXp5/+EVsNMikeK31fVbWwu5Y2KlYZH+cZHTcBt/Gn+MV0TQNBj0YeCbzVdPuYHiaLSrFXEK4xz02nHQ9eM0Ad1mlrx2++JcFnoPhLSfD2ptpcepWBuP7T1WM3EkEEfygFB9+Rm45IA5NJF8UtRi8L+LIodRtdXv8ARrIXlnqcNqYknVjgK8ZOAytkHBwRg8UAex0V5q2teMvD/iPw7NrupWWoWGv3X2Z7GG08o2TMhZdkmSZAMYO4DNc1d/FXUNSm1HULDxTpmjw2U8sNrpU9g0z3XlsQTJICNm4g42g4GDQB7fRXmD+MPEPizU/Dlr4Wu4dGj1nR5b+WW4tfPe3ZGRdqqSAfmbHPbmo/FPibW9P1W9t5/G2i+HTaIotraSBLma+OwEyOm7MYLZAVcnFAHqDyxxsiyOqlztUMcbj1wPXpT68UvtV1nxrc/DDXbbUY9Le/llZoUthMqyCGTcwLHoQpAB6bs9RT7/4oX2pa1q39n+KdN0GLTLp7WCyurBpzdsgGXkcEFFY8AKCQKAPaKK8g1j4mardaF4b1GKc+GNO1S3aa51OSwa8WKUNtEW3gIDy25uwruvAms3ut+GFutQvdP1CRZnjS906QNFcoD8smBnYxHVOxoA6XNFeeeN9f1Wx8QLaL4t0fwpYrArRSXKJcXF3ITggRMwwg9epNavw08U3Pi/wZHqN6YpJ47ia2eaFCiTeW5USBTyu4AHB6UAddmjOK4E6h4q1r4latpOmarbabpmkm2kctaCaS4Ei5aPkjaOCd3J5Fcp4n+IWu6NFfapJ4u0OC5tJyP+EahhW5cxh9oV5VbcrleTxgE4oA9porzu81zxRr3jU6F4fvrfSbZtKgv2u5LYTvCWZhsCkgNnjk9Me9ZsPxA8Rf8I4NMYWb+I28QSeH0vChEDMo3m4KdR8n8OevfFAHpb6nZpq0emNcIL2WFp0gz8zRqQC30BYD8at15Og1zw78VYb3xbqUOrQ2fhy9nS7gtRA5VZY2dWQEjIG3BB55zSP4g8e2fg0eP7rUdOewEP22XQFtMbLY84FxncZAvPK4zxQB6zRXmz634s8S+M9c0jw7q1ppNnp0VrOlxNZiZyZYd3l7SQMZ5J6joKxIfGPjg+DdI8aXd/p8dnJcw29zpEdrnzVMvlM4mJyrE8hcED1NAHsmaM1n69eXmneHr+80uz+3XkFu8kNtnHmuASFz715t4E8c6trGv2NvP4n0zV2uIz9t02S0+wXNi+AcojEtKoOQe/ANAHrOaK8Z8VePtd0aPU9Rk8W6FY3Vi7tH4dSJbqR41bhZJFO5XYDPAwua3rvxH4n17xjY6J4fvLfSYLvRY9SkuZLcXDwktjaoJAOdwHPoaAPSKSvHf+Er8eHwbq3iF9S02H/hGria3uLZbTeNSMLfOxbOYgVIwBnBrZm13xZ4l8dy6L4e1G10iyTTLe9e5ltRcSI0nO0KSAc+p6Y4oA76+1Sy0xrcX9wkH2qZYIdx+/I3RR7mrleO6h4gv9ag0Oz11Iv7U0bxfbWVzLbgiOcjlZFB6blOSOxpuqfEq+v/ABFrEVn4s03w5BpN3JZRWlzp7XLXTxnDPIwI2KTwAuTjn2oA9krLHiXR28RnQE1G3bVRGZWtFfLqvByQOnBBwexqp4N8RHxd4L0/WhD9lku4cvFnPluMggZxkZHHtXkukz6/4T0r4keI/wC17e/vLHUWRQ+nogkm2RYkyDkDDbdmcDrQB7zRXnWr6n4v0u60vw8mq2VxrOv3Mzx3hs8RadBGgZwE3ZlIyApbGe9RS+J/EfhWfWdG8R6hBqlzHo0+qafqMNqISwjU7keIEjg7SCDyDzQB6VRXkg8Q+PbW18MajPqemXH/AAkjw2v2IWhRLN5IPMEgkyWfG0kqRjJwOOa6bwhqmvQ+Lta8N+JNRg1V7KC3uoL2O2FuWWXeCjICRwU4Oeh5oA7TNLXHePNZ1HS/sUdprWmeH7OYt9o1O/ZWKED5UjjYgOx68nAAqj8M/F974iu9d02+1O21n+yZoli1K2gMK3CyJuwUyQCuMZHBoA7+qeqapZaNp8t/qlzHa2sWN8shwq5OB+pFcr4m1fXb/wAa2vhPwvfQaVObFtRur+a3E5WPf5aokZIBJbkkngCuWv8Axb4ls9C8bWuuyafd3eiTWcUBS2BikEiI25lbPLZyR0U8CgD14HIHvS1w/wDwmM2h+I/E9j4ilj8ixtV1TT2VNu62I2spx1IkBGf9oVymo/EfWrO18PaPqesWehapqOnHU72/nszKIFZv3cMcQOC4ztJYgDbnkmgD2OivG0+KWqp4I8TG3vbXVdS0SS28jUobcxRXiSyKo3Rn7rckNjIGQRXRR6l4u8PeONEsvEGq2Wp2OvPNEIYrTyWspFQyKFbJ3rgFctg8ZoA9CqrBqVndX1zZ21xHLc2hUXEStloiwyu70yOaNRtHvtOntobqWzeZCguIcb488blzxn0rz74caJY+EvF3jXT7N53t7drOR5biQyySMYSXdieSSeaAPQtQv7XS9OuL/UJlgtbaMySyt0RQMkmua0/4q+BdUvUtbLxTprzyHCI02zcfQFsDPtXOeLfiF4a8X/DPxfaeHr97qe30eeSRTbyR7V2kdWUA8+ldPb+FtD1fwFa2Wo6XaTQT6fGsgaFf+eY5z1B75oA6qiuL+EWo3Op/CjQ7i9maeUQmPzmJJkVGKqxJ68AVzvi/xZrdhqmqE+MtF8P/AGIE2mmNCl3PdKF3bpBuDJuOQABnHNAHqtLXl8vi3xN4ig8EQ6Dd2ukTeI9Oubi6mktxP9nKRxkFFJAJDP0PBB9qt2OoeLdX+IeqaHb63bWtloq2kk0v2EO90ZFyy43YQHa3IyRkUAei0V4r4j+IevaJb32qzeLNChu7Sc/8U1DEty4jD42NKrbg5XnpgE12sPi25sPHF1Za9LHDpt1pK6nYsQAYhGP9IViPvY3Iw9s0AdrRXN+A9S1XW/CsOr63tWS/d54IVj2+TAWPlqfU7cHPvXSUAFFFFABRRRQAUUUUAFFFFABRRRQAUUUUAFFFFABRRRQAUUUUAFFFFABRRRQAUhAZSGAIPBB70tFAGPonhLQPDc1xLoGkWenyXJzM9vEFL/U+nPStDULC31TTbnT76MS211E0MyH+JGGCPyNWKKAOA0/4ea1GNMsNX8Xz6houlyxywWotFill8s5iWSUHLBcDOAN2Oa07XwQLbwfruhfbSf7WuLybzhHjy/tDM2Md8bq6yigDg3+Hl9ZTaVf+GtfbTdTsdNi0yd3tlmiu4U5UMhI2kMSQwOecU3/hWRl0G7t7/WZbzVNRvor2+1B4QnmtGRtVUHCqFAAGeOtd9RQBxGo+B9Zj1zU9Q8JeJzoy6sQ93BJZJcKJQoTzUyRtO0AEcgkZqB/hpJpy6bL4V1ubT72ysvsMklzCtyt3Hu3jeH6MGLEMOm4jpXfZozQBieGdF1DR7KZdY1qbWLqaUyGRoVhjiHQJHGvCqPqSTk5qy9jft4livV1Fl09LVonsfLGHlLAiTd14AIx71pUUAZniDQLDxPoVzpOrRs9tcAZ2NtZSDlWU9mBAIPqK5f8A4RHxuLE6ePH2bcgp9obSozcbMYxu3Yzj+LGc84ru6KAODl+GENppehx+HNUm03UdDtzawXkkKT+dE33kkRuCCecjBB6VJceAtT1Pwprel654klvZ9VhMKstskUNsvGNsa9TkcsTk+1dxRQBzuueFv7ZuPD8hufKGjXi3RG3Pm7UKge3XNYX/AArzWNNuLuLwt4o/svTbqZ5xbSafHcNbO5Jcxu3OCxJwc47eld/RmgDnIPCZh8UaXrDX8072GmyWJ84Bnm3sjF2bjn5PTvWBJ8NtTg1rWLnR/EosbXWLprqdTp8Us0bMAGCStk4444+XtXoVFAHAQfDWex8N+F7HTdY8q98OTNJDcyW4cShg6sGXPUq559eafN8P9WstSvpfCviRdKtdQmNxNbS6dFcCKZsb3jLcgHGdpyAeR6V3lFAHIah4R1sx6c+jeLL2Ge0gME/22JLiO8BOdzocAPnow6DjGKseC/By+EbO+829N/f6ldNd3lz5Kwq7kAfLGvyqAAOnXqa6eigDhNT+H+pP4y1LX9A8QR6fJqiRJcJNp8dwUMa7VKM3Tj+HpnmtfwR4UbwdoU2nPqEmomS7muTPKgVmMjbjnHGck9K6SigDDsPDYsvE+t6u05caskKmMDBj8tCvX3zXCL8G9Tj8Kz+GLfxb5OjvvCrHpkQnZWbeFaTqcN1bqa9XooA5vSPCjaZ4mOsSXfmu2mQWDRhMDMZJ3fjnpWTP8NI59N1KNNTktr2fW31qzvIowWtZjgD5Tw4ABBB6gmu6ooA4jTPAmpt4sOueKdeXWGbT5dP+zLZrDGsburHgE5zt5z7elZv/AAq7V5NGXw1c+MJ5fC6lUNkbNBO0AOfIM2c7e27GccV6TRQBz+leFk0rxVrmsRTZXVY7dBBtx5XlRlBz3yKyX+Hob4cWnhUX5H2edJftHl/e2zeZjGfwrtqKAKmpWP8AaWl3Fl9pntfPjKefbSbJI8j7yt2Iri7T4d6rPrWj3vifxKNVTR5vPtwmnxwSSyBSoZ5Bk9GOQOGOCeld/RQB5Yvwf1KDw3d+HLTxWYNHn87aqafF5+2QklWlOSeTy3Ujiur0fwedL8RWmqm7EjW+jx6YYwmA20g7/bp0rqKKAOObwCG8G+JNB+3HGuXFzP5vl/6nzu2O+K5H+wtaPxlvbfw/rX9mS2ugWsbyvaCaOYBiuCCRggjOQc9q9fpMDOcc0AcNbfDSO30/T431SW5vYdaXWb28kjAN3MDlvlHCDoABwAKS58A6va6tqFx4W8S/2Xa6lO1zNaz2EdyIpm+/JGW5G44JU5Gefau7ooAp6TYvpmk21nNeT30kKBXubggySnuxwAK5O9+HQvPD/izTDqBX/hIr03e/y/8AU8RjbjPP+r/Wu4ooA5vxZ4TfxFJp17p+pSaVqulzNLaXiRiQLuXa6Mh4ZWHX6AjpWRF8PLu7Or3niTXDqmqajpr6bFMLZYo7WFlYEKgPJJbJJ5OAK7uigDlZfBfm6f4WtjeYPh+4hn3BP9d5cDRY9s7s1ftPDotfGeo+IPtBZr61gtzDt4Tyy5znvnf+lbdFAHH+KfBN1rfifT9f0rVUsL2zt3tSs9olxG8bsrHAb7jZX7w5xxTvBngq68L6xrOo3+stqtxqxhaV2t1h2tGpXCqvAXB4Hb1Oa66igDzL4i3MWjeNNJ1ePUbrQbo2r251V7UT2cke7d5EozlWzhlb2I71jeEfC954x0Xxm95qFzLb61e25t9TubXyWnESKGZYs8JuBVfYV7KQDwRke9LQBx3jX4fweMrzSZ5Lx7UWTMlwqLn7VbsVLRE9gSin2xU3ifwZPq+sWmuaHqn9k6tawtbmU26zRzwsQdjo3oRkEcjJ65rq6KAOFu/h/qWq+ENU0nW/Ek19cahJE/mi2SKK3WORXCpGv+7yScnNb+s+HRq/iDQdTNwYjpE8kwQLnzN8ZTHt1zW3RQAViaX4d/s3xRrmsfaPMOrGAmLbjy/LQr175zW3RQBj+J9BTxF4U1TRd4t/7QtZLfzVXOzcMZxXIf8ACBeOLnTP7KvviHs08wiB0stIjilKYxgPuO3jjIFej0UAU9K0uz0TSLXTNMhEFpaRLFDGD91QMCuDPwv1W1vNZGjeKjY2Wr3UtzMv9nRSTo0gw6rK3OOeCegGBXpFFAHG6L4C/sh/Ch+3GX/hHLK4tE+THnLIEAJ9MCMfnWnpvhgaf4t17WvtJf8AtdIFMQXHleWpXg++7Nb9FAHlA+DWpJ4TuPC8Hi0w6O4kCLFp0QmKsxba8vJPzHk9SKb8SLO18Raj4e8G2klydchljeaWGBlRLNkZJ9z4wFZQRjOc7a9ZpMDOcc0AR20EdraxW8C7YoUCIo7KBgD8qloooAKKKKACiiigAooooAKKKKACiiigAooooAKKKKACiiigAooooAKKKKAE3CjcKq+Z70eZ70AWtwprypGjPIwVVGSSeAKr+Z71V1O0j1XSbzT5ndI7uB4HZDhlDKVJHvzQBDofjHw74lnnh0DWLPUJbf8A1qW8oYp2z9PetW4meK1lkhjMsiIWSMHG8gcDPvXkXwm+DJ+GviC/1WfWBfPcQG2iSOLYFQurZbJPPyjp716fqD3babcjTXiS8MTeQ0wJQSY+XdjnGcZoA8l8MajrPjDThqsHxKks/E5Rg+iCOFYLWTJAieBxuOMYLZz3Haug17xhqXh/xn4TXXWmR7rT5/tWn6cGmFxcBRhUUcsQc49utYmp6vba9pX2bxj8MNUu9eWMxtJBpodDIBgNHcg/ICcHdnir+h6Fr1l4m8Cvrglu7jT9KuIry6JMgSRgMBn7nHGe+M0AdXF8StDfwvqetypfW0elOI721uLYx3EDHGAYz6hgQe4rW1XxNYaNqel2F6ZfP1SV4rdUTcCyoXOT24GPrXm3inw7q2qw/EuGzspXfUI7NrPIwJzHCuQpPU5BH1p+q6rf+LfHPg24svDmtWttp95JLdzXtp5QjzHgDk889SOKAOW1L4m+IHtvE2uW/wDwkttJHdfYbOBtOUWtohZBufJP74ZbrnlgK77wfq9zaeKXtdR1HVGsLfw5BduNZISaNzNKHeQdFbaoz7Cue1fRNWm+HfjC0i0+5ae61/z4IxGS0sfmRHcB3GAefatXxh4Z1PxD4j8TW9nG0a33hqK1hnYERtKJpG2Z9cEZ9moA6TTPifoWp6hbW4g1O0hvn8uxvryxeG3vGIyojkPByASM4yOldRfX0Wn6dc3swdo7aJpXWNdzEKCSAO546V4lYaa+qrpOnXuleN5Jo5ofOt7txHbQNFg7jIflZQV428txivZL68az064uUgkuGhiaQQxD55CBnavucYFAEukarBrWjWmpWqSpDdxLKiyoUcAjIyD0NeW6hrl7r/xC1rRNY8bTeERYTxjTrKDy4nuk2580vIDvBORtB4xzXpOk6k+paPa3slrNZvcRLIbe4GJIiRnaw9RXCatr1xHqOoaZ448D3Wu2azs9hdWOnC8jeE/dV1PKuOh7GgBfEus+JvDnw9a61/VYd1vq1sqanbYQz2pmX5nVeFJU4IXj0rptF+IWla1rX9lm11LTbt4jNAmpWjQfaYx1aPP3gOCe4zXmkHhvWG8H3yW2kXlnpV1r1ncado85LyWsCyrvJXnYCQX2fwiu58TWN3d/EnwfdQW8j29tHfieZVyse+FQoJ7ZPSgDX/4T3Rz4Hm8V5n/syDeXPlfvPlcocLn+8K4Pxj421J/ieulWi+JIdO06wW8KaVZBvtUhYkFmJyYtoxx1bI7VhXTa1bfB/UvBCeGNZm1TzZ0MqW3+jlTcbw6yZwwKnIHUkEYruFsL3/hZkt79ll+znw0lv5u35fMEjnZn1welAHGeEvFmv6ta+F9ZvNU1lZtX8QLFcw3MYhtzH5cx2QgdU+VQT6rXo+o/FHQtOv7q38jU7uCxfZe39nYvNbWhAywkkHA2g5OM4HWuJ0TRNVi8E/Di1l0+5jmsNW825jaM7oUxN8zeg5H5ise00O/8P2epaNq9t4wnc3M7RjR/ntruORiwIPAUndhg3THpQB61rPjzStJntbeGG+1a5uoftMcGlWxuX8njEhC9FORg981p6B4h0/xNosOqaRMZLeXI+ZdrIwOGVlPKsCMEGvKdb0GPTbbQoU0PxJZNa6asMGpaJcmeeAgg+RKq4DKOoY5UkYxXY/DaXXT4WkPiWOSOc3cpt2ngSCaSDPyNKifKrnnI+lAGW/xC1C78ceL/AA8tlfQwaZYB7a4FqVVH8tmLs+eAcDZxzg+lSeEPihp8mi+H7bVV1RnvIIYf7WmtH+yzXDL9zzuhYsCPQnvVKe2v7X4keMs6beyQ61pMQtLmOEtEWiidWRm7MSwwD1qPV9H1A/BvwtptvYTm6tbjTGlt1Q7ogkiFsjtgA5oA67XPiJpWiatNpws9V1O4tlV7saZYvcC1DDK+YV4XI5x1xziug03VbLWNLt9R0y4S5tLlBJFKh4ZTXjN5pF94e8YeInvk8VPb6nem+tZtCUyRuCgBR1ByrgjHPBGK9D8A6amjeDrW2Szu7HczzG3vZlllQuxY7mXjPOcds4oANa+JWj6Lq1xp/wBj1XUZLNVa9k06xeeOzBGR5rD7vy/Njk45p+rfEXRdM+xJape6zcX1uLqC20m2NzIYD0lIHRDnGT1rlNP1PUPAuo+I7K68Pavq32++kvrO5sbXzknEij5HIPylSMc9hmorCfW/CXi59b1rw/cXMOraXbRSJokBmFlNFuzFsHOzD8MOMg+ooA65/ib4bi8Mw65JcTLayXQs3QwnzYJ+f3cifeVhjGOuSPWjSviLpuq3F7arp2sWt/aWzXQsbuxaKa4iHG6JT9/njg9SK87n0PWtRt5tZfSLq3XVfFtnfx2UifvYbeNQnmSKPuk7ckduM13N3aXT/F7TdQS3kNpHo1xC0+35VcyxkKT6kAnHtQBQ8GfFKK9+Gdt4h8VRXVrO0nk4+yFTdSMxCLAgyXyBjjuDXRaJ480zWnu4fs2o6deWkPnyWepWjW8xi6eYqn7y5GMg9eK8nj0bWLj4eeGoTpWswXHhfUXa9t4U8ueRG8xd9uTw+A4PB5GQOa3NA03+0PEM1+ll4rd7TT54o7rWW8tMuMeWsZyzZxnPABA70AdTZ/Frw9e3Fj5cOprY3zpHDqclky2hkY4EZl6BsjHpnjNVtP8AiM5+JHiTR9Utbq10vSoEkS6kttsaAKWdnkz0PG3jkZrDudF1H/hRfhrS0sJjeWw0/wA22CHfGUdC2R7YOauXMN3D4+8XQz6Fc6jb6xp8X2cFdsE/lxFWiaTojHPGaAOk0f4kaPrGsW2nfZdTsJbxGeyk1CzaCO7AGT5THhuCDj05re1rXNP8PaPcaprFyttZ2y7pJG7dgB6knAAHUmvHfDkWtWniTRLfw5a+J4tP88G+svEFuJILSIKQfKmfLhhwFC8EV23xM0u/1fwzbSaTB9sn03UIL/7GDg3KxtloxnjODkZ7igC9pPxH0rVb42Mlhq2m3jQtNb22o2LQSXSqMt5QP3iOOOvIrmvhR4i1Txfq2ta1qc2txqlxJBDZ3VuIbWKMN8qqMkmQAfNnufpSXl/e+OfGHhl7HQtV0220i6a9urrUrb7PgbCoiXOSxJbJxwAo5rX+GVld6Z4dv4b+3kgkbVbqRVkUgspfhh7HrQBr6/4603QdUXTfsmo6nqBh89rTTLVriSOPOA7AdASMD1q/4d8S6b4n0ldR0mVniLNG6SIUkidThkdTyrA8EGvPPFWo+IofHV5F5Wt22k/ZoTby6Hp0c7XTfNvEsjcqQcBQOxzV/wCD9hf6V4V1KHVLO7tJpNYuZQl4cysrEEMW/iJ9f8KAN7XPiLpWh6tPpxstV1Ge1jWW7/s6yedbVWGVMhHC5AJx1wM1Pqfj7Q9O0vT72KWfUf7TUNY2+nwmea5UjduVBzgDknoK4PxlaeV43vdQg07xTp160cRi1PQP38d4FUjZJEfl3LnA3A5FZV3o3igjwt4i1+01ISxadNZ3segqq3EDM+9GMa4GCowwXofagD1Ow8e6Fe6HqGqSzS2MWmZ+3w30LQzWuBu+dDyMggj1zxWXZfFfQ7vU7DT57PVtPudSlEVnHf2LQmfIzvXP8Pv1HpXCzeFLzXvDfiG50mw1wXkr2rRnXZQrX32d/M2BDyin7u5s547VY8T+Kj4g8aeBIv7B1XTRHqwdptStfJwfLPyLk8nrnHHSgD0q08Z6VeeG9Q1yEzGz05p1nzH8wMOd+B36HFVdU+IOkaZZabKsV9fXGpwie1sbC2ae4aMgEuUXooDDJPHNedx3OsaF4N8UeFP+EZ1a81C8uL020sMGbeVJgzK3m5wMA4IPfA71FeeH9S0nU9D1aeHXmtG8PW2nynRh+9t5YxuPmJ12kHGR0K80AejN8SfD0fhO48RTTTw2lpMsF3FLCUmtZCwXbJGeVI3AkenPNP0T4g6XrWunSDZ6np14yNJAupWbW4ukU4LRk/eHIPrgg4rze68P3F14G1yew0nXjcajqdi5GrOHnnWKaPMnljlAAD97kgZrtfEunXd98RPDdxbxS+RDb3sctwi5EO9FC5Pbnp9KAJx8V/D7agYki1JrHz/s39rrZsbHzN23HndPvfLnpnvVjWPiTo+k6rcaelrqmpSWgBvJNNsXuI7TIziRl4U45xycdq4vw7rGtaF4FsPB6+EL651izVbPdPbZsHw3MplBxs2/N0znjFZr6XfeHvEOvxahH4uYXmoy31vNoamSGVJADtwMbZAQQQe2DQB7VYajaapp8F9p86XFrcRiSKVDkOpGQRVncK5PwHpiaH4J0+xjtLqxVELC2u5xNJFuYttZhxnnt0rovM96ALW4UbhVXzPejzPegC1uFG4VV8z3o8z3oAtbhRuFVfM96PM96ALW4UbhVXzPejzPegC1uFG4VV8z3o8z3oAtbhRuFVfM96PM96ALW4UbhVXzPejzPegC1uFG4VV8z3o8z3oAtbhRuFVfM96PM96ALW4UbhVXzPejzPegC1uFG4VV8z3o8z3oAtbhRuFVfM96PM96ALW4UbhVXzPejzPegC1uFG4VV8z3o8z3oAtbhRuFVfM96PM96ALW4UbhVXzPejzPegC1uFG4VV8z3o8z3oAtbhRuFVfM96PM96AKnmUeZVTzKPMoAt+ZR5lVPMo8ygC35lHmVU8yjzKALfmUeZVTzKPMoAt+ZR5lVPMo8ygC35lHmZqp5lHmUAWt9L5lVPMo8ygC35lHmVU8yjzKALfmUeZVTzKPMoAt+ZR5lVPMo8ygC35lG+qnmUeZQBb8yjzKqeZR5lAFvzKPMqp5lHmUAW/Mo8yqnmUeZQBb8yjzKqeZR5lAFvzKPMqp5lHmUAW/Mo8yqnmUeZQBb8yjzKqeZR5lAFvzPejzKqeZR5lAFvzKPMqp5lHmUAW/Mo8yqnmUeZQBb8yjzKqeZR5lAFvzKyNa8P2euahpN5dvKsmk3X2qARsAC+0rhsjkYNXPMo8ygC35lHmVU8yjzKALfmUeZVTzKPMoAt+ZR5lVPMo8ygC35lHmVU8yjzKALfmUeZVTzKPMoAt+ZR5lVPMo8ygC35lHmVU8yjzKALfmUeZVTzKPMoAt+ZR5lVPMo8ygC35lHmVU8yjzKALfmUeZVTzKPMoAt+ZR5lVPMo8ygC35lHmVU8yjzKALfmUeZVTzKPMoAt+ZR5lVPMo8ygC35lHmVU8yjzKALfmUeZVTzKPMoAt+ZR5lVPMo8ygC35lHmVU8yjzKALfmUeZVTzKPMoAt+ZR5lVPMo8ygC35lHmVU8yjzKAIKKKKACiiigAooooAKKKKACiiigAooooAKKKKACiiigAooooAKKKKACiiigAooooAKKKKACiiigAooooAKKKKACiiigAooooAKKKKACiiigAooooAKKKKACiiigAooooAKKKKACiiigAooooAKKKKACiiigAooooAKKKKACiiigAooooAKKKKACiiigAooooAKKKKACiiigAooooAKKKKACiiigAooooAKKKKACiiigAooooA//9k=)"
      ]
    },
    {
      "cell_type": "code",
      "metadata": {
        "id": "riwwwpbvDsYA"
      },
      "source": [
        "# important concept thst if you want to fix you first calculated random variable \n",
        "#you have to use seed function in the begining , because these random geneartors are pseudo random geneartors \n",
        "#because it start from particular number (we have to fix it) "
      ],
      "execution_count": 93,
      "outputs": []
    },
    {
      "cell_type": "code",
      "metadata": {
        "id": "XdJk7_YRlzwz",
        "colab": {
          "base_uri": "https://localhost:8080/"
        },
        "outputId": "34b656d7-89bc-4da4-ffba-8c6449b9ffc1"
      },
      "source": [
        "\n",
        "# it is useful when you want to pribnt the indexes of the array\n",
        "a = np.arange(10)\n",
        "print(a)\n",
        "a= a+5;\n",
        "print(a)"
      ],
      "execution_count": 94,
      "outputs": [
        {
          "output_type": "stream",
          "text": [
            "[0 1 2 3 4 5 6 7 8 9]\n",
            "[ 5  6  7  8  9 10 11 12 13 14]\n"
          ],
          "name": "stdout"
        }
      ]
    },
    {
      "cell_type": "code",
      "metadata": {
        "id": "J3a_hCr8AMHG"
      },
      "source": [
        "#may be we use directly"
      ],
      "execution_count": 95,
      "outputs": []
    },
    {
      "cell_type": "code",
      "metadata": {
        "colab": {
          "base_uri": "https://localhost:8080/"
        },
        "id": "R6VM9PebAZ3N",
        "outputId": "670d5587-55de-4ce6-91df-ea8798571e8e"
      },
      "source": [
        "# let you want to suffle this array \n",
        "np.random.shuffle(a)\n",
        "print(a)"
      ],
      "execution_count": 96,
      "outputs": [
        {
          "output_type": "stream",
          "text": [
            "[14 10  8  5 13  9  7  6 11 12]\n"
          ],
          "name": "stdout"
        }
      ]
    },
    {
      "cell_type": "code",
      "metadata": {
        "colab": {
          "base_uri": "https://localhost:8080/"
        },
        "id": "a4bMeB4OAkKs",
        "outputId": "4fe6602a-726c-4459-8198-ab8286e2ec7b"
      },
      "source": [
        "#if you want to generate a column and row with random generated number \n",
        "a =np.random.rand(2,3)\n",
        "print(a)"
      ],
      "execution_count": 97,
      "outputs": [
        {
          "output_type": "stream",
          "text": [
            "[[0.22957721 0.53441391 0.91396202]\n",
            " [0.45720481 0.43069857 0.93912779]]\n"
          ],
          "name": "stdout"
        }
      ]
    },
    {
      "cell_type": "code",
      "metadata": {
        "colab": {
          "base_uri": "https://localhost:8080/"
        },
        "id": "v1DLHJuyBmz7",
        "outputId": "124e7a30-76c6-42c5-ae75-146d5ca111aa"
      },
      "source": [
        "# there are many distribution such as normal distribution, bernoulli distribution, but \n",
        "#randn returns value from standard normal distributions \n",
        "a =np.random.randn(2,3)\n",
        "print(a) "
      ],
      "execution_count": 98,
      "outputs": [
        {
          "output_type": "stream",
          "text": [
            "[[0.72527406 0.93488915 1.11829698]\n",
            " [0.05561319 0.37665664 0.37613502]]\n"
          ],
          "name": "stdout"
        }
      ]
    },
    {
      "cell_type": "code",
      "metadata": {
        "colab": {
          "base_uri": "https://localhost:8080/"
        },
        "id": "rJkKD6TQCZ2J",
        "outputId": "c167754a-a962-41aa-def3-06e97b91ae27"
      },
      "source": [
        "# it will give random n number in the given range \n",
        "a =np.random.randint(10,30,10)\n",
        "print(a)"
      ],
      "execution_count": 99,
      "outputs": [
        {
          "output_type": "stream",
          "text": [
            "[29 25 20 18 17 13 16 27 13 14]\n"
          ],
          "name": "stdout"
        }
      ]
    },
    {
      "cell_type": "code",
      "metadata": {
        "colab": {
          "base_uri": "https://localhost:8080/"
        },
        "id": "nQr-U4aSC0aX",
        "outputId": "3c2bd828-f29d-4964-8788-d7b693785867"
      },
      "source": [
        "#randomly pick one element from array \n",
        "np.random.seed(1) # it will fix our selected number as discussed at the top \n",
        "element = np.random.choice([1,4,3,2,5,6,11,77,32,89])\n",
        "print(element)"
      ],
      "execution_count": 100,
      "outputs": [
        {
          "output_type": "stream",
          "text": [
            "6\n"
          ],
          "name": "stdout"
        }
      ]
    },
    {
      "cell_type": "markdown",
      "metadata": {
        "id": "ereVM0UFE9kd"
      },
      "source": [
        "## **MORE NUMPY FUNCTIONS - STATISTICS**"
      ]
    },
    {
      "cell_type": "markdown",
      "metadata": {
        "id": "1-bY5j6mFt5U"
      },
      "source": [
        "\n",
        "\n",
        "1.   min,max\n",
        "2.   median\n",
        "3.   mean\n",
        "4.   average\n",
        "5.   variance\n",
        "6.   standard deviation\n",
        "\n"
      ]
    },
    {
      "cell_type": "code",
      "metadata": {
        "id": "YMvEHKkwFtOB"
      },
      "source": [
        "a= np.array([[1,2,3,4],[5,6,7,8]])"
      ],
      "execution_count": 101,
      "outputs": []
    },
    {
      "cell_type": "code",
      "metadata": {
        "colab": {
          "base_uri": "https://localhost:8080/"
        },
        "id": "8m0a93LKGHOA",
        "outputId": "c5430333-841a-4032-a78a-9a05cfada575"
      },
      "source": [
        "#axis =0 (means alomg column), axis =1 (means along rows )\n",
        "print(a)\n",
        "print(np.min(a))\n",
        "print(np.max(a,axis=0))\n",
        "print(np.max(a,axis=1))"
      ],
      "execution_count": 102,
      "outputs": [
        {
          "output_type": "stream",
          "text": [
            "[[1 2 3 4]\n",
            " [5 6 7 8]]\n",
            "1\n",
            "[5 6 7 8]\n",
            "[4 8]\n"
          ],
          "name": "stdout"
        }
      ]
    },
    {
      "cell_type": "code",
      "metadata": {
        "colab": {
          "base_uri": "https://localhost:8080/"
        },
        "id": "X-bri5KxVmF9",
        "outputId": "9614a042-b803-4546-e403-3cfbb525c882"
      },
      "source": [
        "\n",
        "print(np.mean(a))\n",
        "print(np.mean(a,axis=0))\n",
        "print(np.mean(a,axis=1))\n",
        "print(np.median(a))\n",
        "print(np.median(a,axis=0))\n",
        "print(np.median(a,axis=1))\n"
      ],
      "execution_count": 103,
      "outputs": [
        {
          "output_type": "stream",
          "text": [
            "4.5\n",
            "[3. 4. 5. 6.]\n",
            "[2.5 6.5]\n",
            "4.5\n",
            "[3. 4. 5. 6.]\n",
            "[2.5 6.5]\n"
          ],
          "name": "stdout"
        }
      ]
    },
    {
      "cell_type": "code",
      "metadata": {
        "colab": {
          "base_uri": "https://localhost:8080/"
        },
        "id": "PT9nxm5aWK8c",
        "outputId": "79ee16ff-41a7-448b-cf20-ceb3e9b677d6"
      },
      "source": [
        "#there id difernce between mean annd average(it is weighted)\n",
        "# we have to give weight in average\n",
        "a = np.array([1,2,3,4,5])\n",
        "w = np.array([1,2,3,4,5])\n",
        "print(np.average(a,weights=w))\n",
        "# if we make weight = 1 then average is equal to meam\n",
        "w=np.array([1,1,1,1,1]);\n",
        "print(np.average(a,weights=w))\n",
        "print(np.mean(a))"
      ],
      "execution_count": 104,
      "outputs": [
        {
          "output_type": "stream",
          "text": [
            "3.6666666666666665\n",
            "3.0\n",
            "3.0\n"
          ],
          "name": "stdout"
        }
      ]
    },
    {
      "cell_type": "code",
      "metadata": {
        "colab": {
          "base_uri": "https://localhost:8080/"
        },
        "id": "ShWL1jmbjnI9",
        "outputId": "20317884-40de-4f3a-ebae-60fd33278f2e"
      },
      "source": [
        "#standard devaition is denoted by sigma & variance is power 2 of sigma \n",
        "mean = np.mean(a)\n",
        "#without using inbuilt function\n",
        "mystdd = np.sqrt(np.mean(abs(mean-a)**2))\n",
        "print(mystdd)\n",
        "# using inbuilt function\n",
        "std = np.std(a)\n",
        "print(std)\n",
        "#variance \n",
        "print(mystdd**2)\n",
        "print(np.var(a))"
      ],
      "execution_count": 105,
      "outputs": [
        {
          "output_type": "stream",
          "text": [
            "1.4142135623730951\n",
            "1.4142135623730951\n",
            "2.0000000000000004\n",
            "2.0\n"
          ],
          "name": "stdout"
        }
      ]
    },
    {
      "cell_type": "markdown",
      "metadata": {
        "id": "Y0hwSek6XfQe"
      },
      "source": [
        "# LINEAR ALGEBRA"
      ]
    },
    {
      "cell_type": "markdown",
      "metadata": {
        "id": "S9GKi5V5ZXPS"
      },
      "source": [
        "scalar and vectors"
      ]
    },
    {
      "cell_type": "code",
      "metadata": {
        "id": "jr9tF1MPmZ0f",
        "colab": {
          "base_uri": "https://localhost:8080/"
        },
        "outputId": "6311b21b-bf91-4ee6-f43e-a7d764e91dcc"
      },
      "source": [
        "x= np.array([[4],[5],[6]])\n",
        "print(x)\n",
        "print(x.shape)"
      ],
      "execution_count": 106,
      "outputs": [
        {
          "output_type": "stream",
          "text": [
            "[[4]\n",
            " [5]\n",
            " [6]]\n",
            "(3, 1)\n"
          ],
          "name": "stdout"
        }
      ]
    },
    {
      "cell_type": "markdown",
      "metadata": {
        "id": "KVLNG3X4bAG7"
      },
      "source": [
        "Tensor and matrix"
      ]
    },
    {
      "cell_type": "code",
      "metadata": {
        "colab": {
          "base_uri": "https://localhost:8080/"
        },
        "id": "oMlEjpCaZp8H",
        "outputId": "ca99dcec-0f4f-441e-e76e-da5452382c61"
      },
      "source": [
        " x= np.array([[4,5,6],\n",
        "              [1,2,3],\n",
        "              [8,9,10]])\n",
        "print(x)\n",
        "print(x.shape)\n",
        "x=x.reshape((1,-1))\n",
        "print(x)"
      ],
      "execution_count": 107,
      "outputs": [
        {
          "output_type": "stream",
          "text": [
            "[[ 4  5  6]\n",
            " [ 1  2  3]\n",
            " [ 8  9 10]]\n",
            "(3, 3)\n",
            "[[ 4  5  6  1  2  3  8  9 10]]\n"
          ],
          "name": "stdout"
        }
      ]
    },
    {
      "cell_type": "code",
      "metadata": {
        "colab": {
          "base_uri": "https://localhost:8080/"
        },
        "id": "M2ITkHi9bSbe",
        "outputId": "e9b3c63a-59e6-4561-c392-d7fc34085af5"
      },
      "source": [
        "T = np.ones((10,5,3),dtype='uint8')\n",
        "print(T)"
      ],
      "execution_count": 108,
      "outputs": [
        {
          "output_type": "stream",
          "text": [
            "[[[1 1 1]\n",
            "  [1 1 1]\n",
            "  [1 1 1]\n",
            "  [1 1 1]\n",
            "  [1 1 1]]\n",
            "\n",
            " [[1 1 1]\n",
            "  [1 1 1]\n",
            "  [1 1 1]\n",
            "  [1 1 1]\n",
            "  [1 1 1]]\n",
            "\n",
            " [[1 1 1]\n",
            "  [1 1 1]\n",
            "  [1 1 1]\n",
            "  [1 1 1]\n",
            "  [1 1 1]]\n",
            "\n",
            " [[1 1 1]\n",
            "  [1 1 1]\n",
            "  [1 1 1]\n",
            "  [1 1 1]\n",
            "  [1 1 1]]\n",
            "\n",
            " [[1 1 1]\n",
            "  [1 1 1]\n",
            "  [1 1 1]\n",
            "  [1 1 1]\n",
            "  [1 1 1]]\n",
            "\n",
            " [[1 1 1]\n",
            "  [1 1 1]\n",
            "  [1 1 1]\n",
            "  [1 1 1]\n",
            "  [1 1 1]]\n",
            "\n",
            " [[1 1 1]\n",
            "  [1 1 1]\n",
            "  [1 1 1]\n",
            "  [1 1 1]\n",
            "  [1 1 1]]\n",
            "\n",
            " [[1 1 1]\n",
            "  [1 1 1]\n",
            "  [1 1 1]\n",
            "  [1 1 1]\n",
            "  [1 1 1]]\n",
            "\n",
            " [[1 1 1]\n",
            "  [1 1 1]\n",
            "  [1 1 1]\n",
            "  [1 1 1]\n",
            "  [1 1 1]]\n",
            "\n",
            " [[1 1 1]\n",
            "  [1 1 1]\n",
            "  [1 1 1]\n",
            "  [1 1 1]\n",
            "  [1 1 1]]]\n"
          ],
          "name": "stdout"
        }
      ]
    },
    {
      "cell_type": "code",
      "metadata": {
        "colab": {
          "base_uri": "https://localhost:8080/",
          "height": 265
        },
        "id": "wwqz0Ak0cgaa",
        "outputId": "6b7e0197-e99c-4745-cb1c-fca7c234eb4d"
      },
      "source": [
        "T= np.ones((5,5,3),dtype='uint8')\n",
        "T[ : , : ,1]=255\n",
        "import matplotlib.pyplot as plt\n",
        "plt.imshow(T)\n",
        "plt.show()"
      ],
      "execution_count": 109,
      "outputs": [
        {
          "output_type": "display_data",
          "data": {
            "image/png": "[encoded data removed]",
            "text/plain": [
              "<Figure size 432x288 with 1 Axes>"
            ]
          },
          "metadata": {
            "needs_background": "light"
          }
        }
      ]
    },
    {
      "cell_type": "markdown",
      "metadata": {
        "id": "TDl5a4cITq5O"
      },
      "source": [
        "Transpose , swap the elements by diagonal, rows become column , column becomes rows"
      ]
    },
    {
      "cell_type": "code",
      "metadata": {
        "id": "U5U5fNHYdTqK",
        "colab": {
          "base_uri": "https://localhost:8080/"
        },
        "outputId": "35cf5e3c-8693-4f85-a042-c63b72f0352d"
      },
      "source": [
        " x1=x.T\n",
        " print(x1)\n",
        " print(x)"
      ],
      "execution_count": 110,
      "outputs": [
        {
          "output_type": "stream",
          "text": [
            "[[ 4]\n",
            " [ 5]\n",
            " [ 6]\n",
            " [ 1]\n",
            " [ 2]\n",
            " [ 3]\n",
            " [ 8]\n",
            " [ 9]\n",
            " [10]]\n",
            "[[ 4  5  6  1  2  3  8  9 10]]\n"
          ],
          "name": "stdout"
        }
      ]
    },
    {
      "cell_type": "code",
      "metadata": {
        "colab": {
          "base_uri": "https://localhost:8080/"
        },
        "id": "oKF6JLyKUVAM",
        "outputId": "71eacb2f-3f40-4792-8694-775bf5781777"
      },
      "source": [
        "#transpose of tensor\n",
        "print(T)\n",
        "print(T.T)"
      ],
      "execution_count": 111,
      "outputs": [
        {
          "output_type": "stream",
          "text": [
            "[[[  1 255   1]\n",
            "  [  1 255   1]\n",
            "  [  1 255   1]\n",
            "  [  1 255   1]\n",
            "  [  1 255   1]]\n",
            "\n",
            " [[  1 255   1]\n",
            "  [  1 255   1]\n",
            "  [  1 255   1]\n",
            "  [  1 255   1]\n",
            "  [  1 255   1]]\n",
            "\n",
            " [[  1 255   1]\n",
            "  [  1 255   1]\n",
            "  [  1 255   1]\n",
            "  [  1 255   1]\n",
            "  [  1 255   1]]\n",
            "\n",
            " [[  1 255   1]\n",
            "  [  1 255   1]\n",
            "  [  1 255   1]\n",
            "  [  1 255   1]\n",
            "  [  1 255   1]]\n",
            "\n",
            " [[  1 255   1]\n",
            "  [  1 255   1]\n",
            "  [  1 255   1]\n",
            "  [  1 255   1]\n",
            "  [  1 255   1]]]\n",
            "[[[  1   1   1   1   1]\n",
            "  [  1   1   1   1   1]\n",
            "  [  1   1   1   1   1]\n",
            "  [  1   1   1   1   1]\n",
            "  [  1   1   1   1   1]]\n",
            "\n",
            " [[255 255 255 255 255]\n",
            "  [255 255 255 255 255]\n",
            "  [255 255 255 255 255]\n",
            "  [255 255 255 255 255]\n",
            "  [255 255 255 255 255]]\n",
            "\n",
            " [[  1   1   1   1   1]\n",
            "  [  1   1   1   1   1]\n",
            "  [  1   1   1   1   1]\n",
            "  [  1   1   1   1   1]\n",
            "  [  1   1   1   1   1]]]\n"
          ],
          "name": "stdout"
        }
      ]
    },
    {
      "cell_type": "code",
      "metadata": {
        "colab": {
          "base_uri": "https://localhost:8080/"
        },
        "id": "KZICKNVoVoC5",
        "outputId": "cf6de404-6579-4668-b112-71207e11dcb2"
      },
      "source": [
        " #ORDERS of axis reversed\n",
        " T2= np.ones((1,2,3),dtype='uint8')\n",
        " print(T2.shape)\n",
        " T1= np.transpose(T2)\n",
        " print(T1.shape)\n",
        " T4 = np.transpose(T1,axes=(0,2,1))\n",
        " print(T4.shape)"
      ],
      "execution_count": 112,
      "outputs": [
        {
          "output_type": "stream",
          "text": [
            "(1, 2, 3)\n",
            "(3, 2, 1)\n",
            "(3, 1, 2)\n"
          ],
          "name": "stdout"
        }
      ]
    },
    {
      "cell_type": "code",
      "metadata": {
        "colab": {
          "base_uri": "https://localhost:8080/"
        },
        "id": "Gt2pzesic5Lh",
        "outputId": "0d6a04d8-e663-447a-e50e-66005551e264"
      },
      "source": [
        "T[0][0]"
      ],
      "execution_count": 113,
      "outputs": [
        {
          "output_type": "execute_result",
          "data": {
            "text/plain": [
              "array([  1, 255,   1], dtype=uint8)"
            ]
          },
          "metadata": {},
          "execution_count": 113
        }
      ]
    },
    {
      "cell_type": "markdown",
      "metadata": {
        "id": "Z3Jg4Hhf9OrO"
      },
      "source": [
        "Broad Casting : It allow you to add scalar to vector"
      ]
    },
    {
      "cell_type": "code",
      "metadata": {
        "id": "XE8gSyxremXJ",
        "colab": {
          "base_uri": "https://localhost:8080/"
        },
        "outputId": "c270b17b-18f8-4e18-fea4-037644338467"
      },
      "source": [
        "x= np.array([1,2,3,4])\n",
        "print(x)\n",
        "print(x+4)"
      ],
      "execution_count": 114,
      "outputs": [
        {
          "output_type": "stream",
          "text": [
            "[1 2 3 4]\n",
            "[5 6 7 8]\n"
          ],
          "name": "stdout"
        }
      ]
    },
    {
      "cell_type": "code",
      "metadata": {
        "colab": {
          "base_uri": "https://localhost:8080/"
        },
        "id": "T-K2ExTB9krY",
        "outputId": "86501067-d783-438a-c9b5-4622a2fad1e7"
      },
      "source": [
        "X = np.array([[10,20,30,40],[40,50,60,70]])\n",
        "print(X)\n",
        "print(X+x)"
      ],
      "execution_count": 115,
      "outputs": [
        {
          "output_type": "stream",
          "text": [
            "[[10 20 30 40]\n",
            " [40 50 60 70]]\n",
            "[[11 22 33 44]\n",
            " [41 52 63 74]]\n"
          ],
          "name": "stdout"
        }
      ]
    },
    {
      "cell_type": "markdown",
      "metadata": {
        "id": "-aCImeGYHBEx"
      },
      "source": [
        "There are two types of multiplication in the matrix \n",
        "\n",
        "**Element wise multiplication** :Hadamard product ,numpy uses the * for this\n",
        "\n",
        "**Matrix Multiplication** : are jo calss 12 me matrix me karte the ,condition is only that row of first matrix should equal to column of the second matrix\n",
        "\n",
        "\n",
        "\n"
      ]
    },
    {
      "cell_type": "code",
      "metadata": {
        "colab": {
          "base_uri": "https://localhost:8080/"
        },
        "id": "LnRraV_H-SUW",
        "outputId": "bfcdff2c-29c6-4d76-92c1-6b939d4ea80b"
      },
      "source": [
        "A= np.array([[1,2],[3,4]])\n",
        "B =np.array([[5,6],[7,8]])\n",
        "print(A*B)\n",
        "print(np.dot(A,B))"
      ],
      "execution_count": 116,
      "outputs": [
        {
          "output_type": "stream",
          "text": [
            "[[ 5 12]\n",
            " [21 32]]\n",
            "[[19 22]\n",
            " [43 50]]\n"
          ],
          "name": "stdout"
        }
      ]
    },
    {
      "cell_type": "markdown",
      "metadata": {
        "id": "9UiUxSjlJpPs"
      },
      "source": [
        "#NORMS\n",
        "\n",
        "It can be the thought of a proxy for a size of vector (kitna magnitude hai vector ka)\n"
      ]
    },
    {
      "cell_type": "code",
      "metadata": {
        "id": "CunO9yaZIErk",
        "colab": {
          "base_uri": "https://localhost:8080/"
        },
        "outputId": "a9f3c7de-29d0-4490-c2c2-1dd425006725"
      },
      "source": [
        "x = np.array([-3,4])\n",
        "lp2 = np.linalg.norm(x)#by default it give lp2 norm\n",
        "print(lp2)"
      ],
      "execution_count": 122,
      "outputs": [
        {
          "output_type": "stream",
          "text": [
            "5.0\n"
          ],
          "name": "stdout"
        }
      ]
    },
    {
      "cell_type": "code",
      "metadata": {
        "colab": {
          "base_uri": "https://localhost:8080/"
        },
        "id": "47dBiWgPxJI3",
        "outputId": "f59e66f5-c4c0-419c-faf9-0e1988bb232c"
      },
      "source": [
        "lp1 = np.linalg.norm(x,ord=1)\n",
        "print(lp1)"
      ],
      "execution_count": 123,
      "outputs": [
        {
          "output_type": "stream",
          "text": [
            "7.0\n"
          ],
          "name": "stdout"
        }
      ]
    },
    {
      "cell_type": "code",
      "metadata": {
        "colab": {
          "base_uri": "https://localhost:8080/"
        },
        "id": "C60spLD7xloW",
        "outputId": "94353d12-de72-4d35-8acd-c10411f78162"
      },
      "source": [
        "lpinf = np.linalg.norm(x,ord=np.inf)\n",
        "print(lpinf)"
      ],
      "execution_count": 125,
      "outputs": [
        {
          "output_type": "stream",
          "text": [
            "4.0\n"
          ],
          "name": "stdout"
        }
      ]
    },
    {
      "cell_type": "markdown",
      "metadata": {
        "id": "MOKgvqz9yFKY"
      },
      "source": [
        "A norm is a function that maps vectors to non-negative values "
      ]
    },
    {
      "cell_type": "markdown",
      "metadata": {
        "id": "kuAezxriz7Jr"
      },
      "source": [
        "#DETERMINANT"
      ]
    },
    {
      "cell_type": "code",
      "metadata": {
        "colab": {
          "base_uri": "https://localhost:8080/"
        },
        "id": "uJcFRzgqx3hE",
        "outputId": "652a7d7e-9401-4103-aad1-46c80e8d87b7"
      },
      "source": [
        " A= np.array([[1,2],[3,4]])\n",
        " print(np.linalg.det(A))"
      ],
      "execution_count": 137,
      "outputs": [
        {
          "output_type": "stream",
          "text": [
            "-2.0000000000000004\n"
          ],
          "name": "stdout"
        }
      ]
    },
    {
      "cell_type": "markdown",
      "metadata": {
        "id": "SmRzj0kr1C0A"
      },
      "source": [
        "#INVERSE"
      ]
    },
    {
      "cell_type": "code",
      "metadata": {
        "colab": {
          "base_uri": "https://localhost:8080/"
        },
        "id": "19JlWD8f0-YY",
        "outputId": "0fac60e4-b532-498c-b0ff-4e2cb6825ce7"
      },
      "source": [
        "Ainv = np.linalg.inv(A)\n",
        "print(Ainv)\n",
        "# we know A.A(inverse) = Identity matrix\n",
        "print(np.dot(A,Ainv))\n",
        "print(\">>>>>>>>>>>>>>>>>>>>>>>>>>>>>>>>>>>>>>>>>>>>>>>\")\n",
        "\n",
        "# in some cases matrix may not be compatible that has matrix has determinat is zero , in that \n",
        "# we have pseudo matrix/(Moore-Penrose)inverse\n",
        "\n",
        "A= np.array([[6,8],[3,4]])\n",
        "pseinv = np.linalg.pinv(A)\n",
        "print(np.linalg.det(A))\n",
        "print(pseinv)\n",
        "# we know A.A(inverse) = Identity matrix\n",
        "print(np.dot(A,pseinv))\n",
        "\n",
        "# remember if matrix is invertible than pseudoinverse and inverse is same\n"
      ],
      "execution_count": 138,
      "outputs": [
        {
          "output_type": "stream",
          "text": [
            "[[-2.   1. ]\n",
            " [ 1.5 -0.5]]\n",
            "[[1.0000000e+00 0.0000000e+00]\n",
            " [8.8817842e-16 1.0000000e+00]]\n",
            ">>>>>>>>>>>>>>>>>>>>>>>>>>>>>>>>>>>>>>>>>>>>>>>\n",
            "0.0\n",
            "[[0.048 0.024]\n",
            " [0.064 0.032]]\n",
            "[[0.8 0.4]\n",
            " [0.4 0.2]]\n"
          ],
          "name": "stdout"
        }
      ]
    },
    {
      "cell_type": "markdown",
      "metadata": {
        "id": "bjDHe3rC4Pt0"
      },
      "source": [
        "#Solve a system of Linear equation"
      ]
    },
    {
      "cell_type": "code",
      "metadata": {
        "colab": {
          "base_uri": "https://localhost:8080/"
        },
        "id": "XISjoE6o1SDu",
        "outputId": "e19927ba-085c-47e4-e6c7-4983ee5fbacb"
      },
      "source": [
        "a= np.array([[2,3],[3,1]])\n",
        "b= np.array([8,5])\n",
        "# it can solve linear matrix equation or linear scalar equation\n",
        "# ax=b find \n",
        "x= np.linalg.solve(a,b)\n",
        "print(x)"
      ],
      "execution_count": 141,
      "outputs": [
        {
          "output_type": "stream",
          "text": [
            "[1. 2.]\n"
          ],
          "name": "stdout"
        }
      ]
    },
    {
      "cell_type": "code",
      "metadata": {
        "id": "Mxx06s8a5GJY"
      },
      "source": [
        ""
      ],
      "execution_count": null,
      "outputs": []
    }
  ]
}